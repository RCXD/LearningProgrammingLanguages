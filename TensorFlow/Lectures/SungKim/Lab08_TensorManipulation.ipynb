{
 "metadata": {
  "language_info": {
   "codemirror_mode": {
    "name": "ipython",
    "version": 3
   },
   "file_extension": ".py",
   "mimetype": "text/x-python",
   "name": "python",
   "nbconvert_exporter": "python",
   "pygments_lexer": "ipython3",
   "version": 3
  },
  "orig_nbformat": 2
 },
 "nbformat": 4,
 "nbformat_minor": 2,
 "cells": [
  {
   "source": [
    "https://github.com/hunkim/DeepLearningZeroToAll/blob/master/lab-08-tensor_manipulation.ipynb"
   ],
   "cell_type": "markdown",
   "metadata": {}
  },
  {
   "source": [
    "nd array에서 Shape, Rank, Axis  \n",
    "\n",
    "Rank: []괄호의 개수와 같다.  \n",
    "Shape:  (가장 바깥 원소의 개수, ... ,가장 내부 원소의 개수)  \n",
    "Axis: 가장 안쪽([])이 가장 큰 값(-1로 가장 안쪽 인덱싱 가능), 가장 바깥쪽은 0  \n",
    "  \n",
    "Matmul VS Multiply(*)  \n",
    "결과는 서로 다름. > ndarray의 Broadcasting 기능 때문  \n",
    "편리한 기능이지만 모르고 사용하면 문제가 될 수 있다.  \n",
    "\n",
    "Broadcasting:\n",
    "Shape이 달라도 맞춰준다.\n"
   ],
   "cell_type": "markdown",
   "metadata": {}
  },
  {
   "source": [
    "Reduce mean: 차원을 하나 줄여서 평균을 구해주는 함수  \n",
    "결과값이 한 축을 가지고 하나의 값(평균)을 반환해주므로 결과적으로 Rank가 하나 줄어듦.  \n",
    "argmax도 마찬가지  "
   ],
   "cell_type": "markdown",
   "metadata": {}
  },
  {
   "source": [
    "Reshape  \n",
    "옵션의 shape에 -1을 주면 자동으로 잡으라는 의미.\n"
   ],
   "cell_type": "markdown",
   "metadata": {}
  },
  {
   "source": [
    "Squeeze: 가장 안쪽 축의 원소가 1개씩일 경우 이를 하나의 축으로 합쳐준다.  \n",
    "expand_dims: 특정 벡터를 원하는 축으로 정의하여 만들 수 있다.  "
   ],
   "cell_type": "markdown",
   "metadata": {}
  },
  {
   "source": [
    "One hot  \n",
    "행렬의 원소를 종류(class)에 따라 단 하나의 1과 0들로만 표현된 벡터로 만들어준다. depth 옵션으로 class의 개수를 정의해줄 수 있다.  \n",
    "출력 결과에는 새 벡터가 만들어지므로 `reshape(args, shape=[-1,class])`를 이용해 차원을 줄여줄 수 있다."
   ],
   "cell_type": "markdown",
   "metadata": {}
  },
  {
   "source": [
    "Casting  \n",
    "cast()를 통해 형변환 가능  "
   ],
   "cell_type": "markdown",
   "metadata": {}
  },
  {
   "source": [
    "Stack  \n",
    "원하는 축으로 행벡터들을 쌓아 매트릭스를 만들어준다.  "
   ],
   "cell_type": "markdown",
   "metadata": {}
  },
  {
   "source": [
    "ons_like(), zeros_like()  \n",
    "인자로 주어진 임의의 매트릭스와 똑같은 rank, shape를 가진 새 행렬을 만들어준다.  \n",
    "이 때 이 행렬의 각 원소는 1(ones) 또는 0(zeros)  "
   ],
   "cell_type": "markdown",
   "metadata": {}
  },
  {
   "source": [
    "Zip()  \n",
    "벡터들을 지퍼를 올리듯 꿰어준다.  \n",
    "for문에서 벡터 내 원소들을 각각의 변수에 지정해줄 수 있다.  \n",
    "복수 개의 텐서를 출력하고자 할 때 활용 가능  \n"
   ],
   "cell_type": "markdown",
   "metadata": {}
  }
 ]
}