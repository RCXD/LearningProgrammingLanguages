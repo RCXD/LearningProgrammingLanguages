{
 "metadata": {
  "language_info": {
   "codemirror_mode": {
    "name": "ipython",
    "version": 3
   },
   "file_extension": ".py",
   "mimetype": "text/x-python",
   "name": "python",
   "nbconvert_exporter": "python",
   "pygments_lexer": "ipython3",
   "version": "3.6.8"
  },
  "orig_nbformat": 2,
  "kernelspec": {
   "name": "python368jvsc74a57bd035c172699b75493cf9b73401c918046e05cb631d4ef3a2eb7e311fe7215ea956",
   "display_name": "Python 3.6.8 64-bit"
  },
  "metadata": {
   "interpreter": {
    "hash": "35c172699b75493cf9b73401c918046e05cb631d4ef3a2eb7e311fe7215ea956"
   }
  }
 },
 "nbformat": 4,
 "nbformat_minor": 2,
 "cells": [
  {
   "source": [
    "MNIST Dataset 사용하기  \n",
    "\t- 손으로 적혀진 숫자 데이터셋  \n",
    "\t- 28x28=784 픽셀에 숫자가 적혀짐  \n",
    "출력은 0~9이므로, 10개의 원핫 인코딩을 사용  "
   ],
   "cell_type": "markdown",
   "metadata": {}
  },
  {
   "source": [
    "Tensorflow에서 제공하는 mnist 라이브러리 사용  \n",
    "전부는 필요하지 않으므로, batch 함수를 이용해서 100개씩 읽어들일 수 있다.  "
   ],
   "cell_type": "markdown",
   "metadata": {}
  },
  {
   "source": [
    "#버전 문제 해결  \n",
    "https://stackoverflow.com/questions/65791987/tensorflow-datasets-version-compatible-with-tensorflow-1-15\n",
    "\n",
    "Tensorflow Datasets 3.2.1버전과 TensorFlow 1.15.x버전이 호환됨  \n",
    "CMD창에  \n",
    "pip install tensorflow==1.15.5  \n",
    "pip install tensorflow_datasets==3.2.1  \n",
    "입력해서 설치  "
   ],
   "cell_type": "markdown",
   "metadata": {}
  },
  {
   "cell_type": "code",
   "execution_count": 18,
   "metadata": {},
   "outputs": [
    {
     "output_type": "stream",
     "name": "stdout",
     "text": [
      "1.15.5\n3.2.1\n"
     ]
    }
   ],
   "source": [
    "# 설치상태 확인\n",
    "print(tf.__version__)\n",
    "print(tfds.__version__)"
   ]
  },
  {
   "cell_type": "code",
   "execution_count": 25,
   "metadata": {},
   "outputs": [
    {
     "output_type": "execute_result",
     "data": {
      "text/plain": [
       "tensorflow_datasets.image_classification.mnist.MNIST"
      ]
     },
     "metadata": {},
     "execution_count": 25
    }
   ],
   "source": [
    "\n",
    "# Lab 7 Learning rate and Evaluation\n",
    "import tensorflow as tf\n",
    "import matplotlib.pyplot as plt\n",
    "import random\n",
    "\n",
    "tf.set_random_seed(777)  # for reproducibility\n",
    "\n",
    "#from tensorflow.examples.tutorials.mnist import input_data #1.15에서 없어짐\n",
    "\n",
    "# Check out https://www.tensorflow.org/get_started/mnist/beginners for\n",
    "# more information about the mnist dataset\n",
    "#mnist = input_data.read_data_sets(\"MNIST_data/\", one_hot=True) #원핫 옵션을 통해 읽어오는 순간부터 원핫으로 읽어올 수 있다.  \n",
    "\n",
    "\n",
    "#버전문제 해결-시도 중-미해결\n",
    "import tensorflow_datasets as tfds \n",
    "#mnist=tfds.image_classification.MNIST"
   ]
  },
  {
   "cell_type": "code",
   "execution_count": null,
   "metadata": {},
   "outputs": [],
   "source": [
    "nb_classes = 10\n",
    "\n",
    "# MNIST data image of shape 28 * 28 = 784\n",
    "X = tf.placeholder(tf.float32, [None, 784])\n",
    "# 0 - 9 digits recognition = 10 classes\n",
    "Y = tf.placeholder(tf.float32, [None, nb_classes])\n",
    "\n",
    "#입력이 784개, 출력이 10개이므로 W의 Shape는 784, 10으로 결정됨\n",
    "W = tf.Variable(tf.random_normal([784, nb_classes]))\n",
    "b = tf.Variable(tf.random_normal([nb_classes]))\n",
    "\n",
    "# Hypothesis (using softmax)\n",
    "hypothesis = tf.nn.softmax(tf.matmul(X, W) + b)\n",
    "\n",
    "#이번에는 cross entropy함수의 정의를 이용해서 cost함수 구현\n",
    "cost = tf.reduce_mean(-tf.reduce_sum(Y * tf.log(hypothesis), axis=1))\n",
    "train = tf.train.GradientDescentOptimizer(learning_rate=0.1).minimize(cost)\n",
    "\n",
    "# Test model #원핫인코딩된 값을 argmax()로 처리하여 답을 찾는다.\n",
    "is_correct = tf.equal(tf.argmax(hypothesis, 1), tf.argmax(Y, 1))\n",
    "# Calculate accuracy\n",
    "accuracy = tf.reduce_mean(tf.cast(is_correct, tf.float32))"
   ]
  },
  {
   "cell_type": "code",
   "execution_count": null,
   "metadata": {},
   "outputs": [],
   "source": [
    "with tf.Session() as sess:\n",
    "    # Initialize TensorFlow variables\n",
    "    sess.run(tf.global_variables_initializer())\n",
    "    # Training cycle\n",
    "    for epoch in range(num_epochs):\n",
    "        avg_cost = 0\n",
    "\n",
    "        for i in range(num_iterations):\n",
    "            batch_xs, batch_ys = mnist.train.next_batch(batch_size)\n",
    "            _, cost_val = sess.run([train, cost], feed_dict={X: batch_xs, Y: batch_ys})\n",
    "            avg_cost += cost_val / num_iterations\n",
    "\n",
    "        print(\"Epoch: {:04d}, Cost: {:.9f}\".format(epoch + 1, avg_cost))\n",
    "\n",
    "    print(\"Learning finished\")"
   ]
  },
  {
   "source": [
    "epoch: a period of time that is very important in history  \n",
    "전체 데이터를 다 학습시키면 one epoch이라고 말함.  \n",
    "데이터가 너무 크면 batch size를 정의해서 잘라냄.\n",
    "데이터가 1000개이고 batch size가 500일 경우 one epoch를 위해서는 2번 반복(iteration)하면 됨.\n",
    "\n",
    "epoch이 15이면 전체 데이터셋을 15번을 반복한다는 것  "
   ],
   "cell_type": "markdown",
   "metadata": {}
  },
  {
   "cell_type": "code",
   "execution_count": null,
   "metadata": {},
   "outputs": [],
   "source": [
    "    # Test the model using test sets\n",
    "    print(\n",
    "        \"Accuracy: \",\n",
    "        accuracy.eval(\n",
    "            session=sess, feed_dict={X: mnist.test.images, Y: mnist.test.labels}\n",
    "        ),\n",
    "    )\n",
    "    #eval() 함수를 호출하는 것과 sess.run()을 통해 정확도를 계산하는 것은 결과가 같다.\n",
    "\n",
    "    #matplotlib과 random 모듈을 이용해서 무작위로 숫자를 하나 고르고, 잘 실행되고 있는지 보여준다.\n",
    "    # Get one and predict\n",
    "    r = random.randint(0, mnist.test.num_examples - 1)\n",
    "    print(\"Label: \", sess.run(tf.argmax(mnist.test.labels[r : r + 1], 1)))\n",
    "    print(\n",
    "        \"Prediction: \",\n",
    "        sess.run(tf.argmax(hypothesis, 1), feed_dict={X: mnist.test.images[r : r + 1]}),\n",
    "    )\n",
    "\n",
    "    plt.imshow(\n",
    "        mnist.test.images[r : r + 1].reshape(28, 28),\n",
    "        cmap=\"Greys\",\n",
    "        interpolation=\"nearest\",\n",
    "    )\n",
    "    plt.show()\n",
    "\n",
    "'''\n",
    "Epoch: 0001, Cost: 2.826302672\n",
    "Epoch: 0002, Cost: 1.061668952\n",
    "Epoch: 0003, Cost: 0.838061315\n",
    "Epoch: 0004, Cost: 0.733232745\n",
    "Epoch: 0005, Cost: 0.669279885\n",
    "Epoch: 0006, Cost: 0.624611836\n",
    "Epoch: 0007, Cost: 0.591160344\n",
    "Epoch: 0008, Cost: 0.563868987\n",
    "Epoch: 0009, Cost: 0.541745171\n",
    "Epoch: 0010, Cost: 0.522673578\n",
    "Epoch: 0011, Cost: 0.506782325\n",
    "Epoch: 0012, Cost: 0.492447643\n",
    "Epoch: 0013, Cost: 0.479955837\n",
    "Epoch: 0014, Cost: 0.468893674\n",
    "Epoch: 0015, Cost: 0.458703488\n",
    "Learning finished\n",
    "Accuracy:  0.8951\n",
    "'''"
   ]
  }
 ]
}