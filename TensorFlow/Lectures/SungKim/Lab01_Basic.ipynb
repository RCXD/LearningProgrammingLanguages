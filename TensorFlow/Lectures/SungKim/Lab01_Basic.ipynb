{
 "metadata": {
  "language_info": {
   "codemirror_mode": {
    "name": "ipython",
    "version": 3
   },
   "file_extension": ".py",
   "mimetype": "text/x-python",
   "name": "python",
   "nbconvert_exporter": "python",
   "pygments_lexer": "ipython3",
   "version": "3.6.8"
  },
  "orig_nbformat": 2,
  "kernelspec": {
   "name": "python368jvsc74a57bd035c172699b75493cf9b73401c918046e05cb631d4ef3a2eb7e311fe7215ea956",
   "display_name": "Python 3.6.8 64-bit"
  },
  "metadata": {
   "interpreter": {
    "hash": "35c172699b75493cf9b73401c918046e05cb631d4ef3a2eb7e311fe7215ea956"
   }
  }
 },
 "nbformat": 4,
 "nbformat_minor": 2,
 "cells": [
  {
   "source": [
    "Source: [here](https://github.com/hunkim/DeepLearningZeroToAll/blob/master/lab-01-basics.ipynb)  \n",
    "Lecture: [here](https://www.youtube.com/watch?v=-57Ne86Ia8w&list=PLlMkM4tgfjnLSOjrEJN31gZATbcj_MpUm&index=3&ab_channel=SungKim)"
   ],
   "cell_type": "markdown",
   "metadata": {}
  },
  {
   "source": [
    "## Version check\n",
    "**내 PC에 Python 3.6.8이 설치되어있으며 여기에 Tensorflow 1.15.5를 설치하였음. Ipynb 옵션 잘 확인**"
   ],
   "cell_type": "markdown",
   "metadata": {}
  },
  {
   "cell_type": "code",
   "execution_count": 1,
   "metadata": {},
   "outputs": [
    {
     "output_type": "execute_result",
     "data": {
      "text/plain": [
       "'1.15.5'"
      ]
     },
     "metadata": {},
     "execution_count": 1
    }
   ],
   "source": [
    "#Tensorflow Version\n",
    "import tensorflow as tf\n",
    "tf.__version__"
   ]
  },
  {
   "cell_type": "code",
   "execution_count": 2,
   "metadata": {},
   "outputs": [
    {
     "output_type": "stream",
     "name": "stdout",
     "text": [
      "3.6.8 (tags/v3.6.8:3c6b436a57, Dec 24 2018, 00:16:47) [MSC v.1916 64 bit (AMD64)]\n"
     ]
    }
   ],
   "source": [
    "#Python Version\n",
    "import sys\n",
    "print (sys.version)"
   ]
  },
  {
   "source": [
    "# TensorFlow Hello World\n",
    "그래프 내에 Node를 하나 만들고, 이 노드에 Hello, TensorFlow!를 입력한 것.  \n",
    "Node가 하나이므로 Edge는 없음  \n",
    "일반 프로그램과는 달리 Session을 만들고 run함수로 실행할 수 있다.  \n",
    "Q. 노드 '실행(run)'의 개념은??  \n",
    "b'String': Byte literal이라는 뜻."
   ],
   "cell_type": "markdown",
   "metadata": {}
  },
  {
   "cell_type": "code",
   "execution_count": 3,
   "metadata": {},
   "outputs": [
    {
     "output_type": "stream",
     "name": "stdout",
     "text": [
      "b'Hello, TensorFlow!'\n"
     ]
    }
   ],
   "source": [
    "음# Create a constant op\n",
    "# This op is added as a node to the default graph\n",
    "hello = tf.constant(\"Hello, TensorFlow!\")\n",
    "\n",
    "# start a TF session\n",
    "sess = tf.Session()\n",
    "\n",
    "# run the op and get result\n",
    "print(sess.run(hello))"
   ]
  },
  {
   "source": [
    "# Tensors  \n",
    "### Tensor?  \n",
    "1. Ranks  \n",
    "  R=0: Scalar(magnitude only)  \n",
    "  R=1: Vector(magnitude and direction)  \n",
    "  R=2: Matrix(table of numbers)  \n",
    "  R=3: 3-Tensor(cube of numbers)  \n",
    "  R=n: n-Tensor(nth dimentional tensor)\n",
    "2. Shapes: number of elements in each dimension  \n",
    "  R=0: Shape=[]: Dimension=0-D: Scalar  \n",
    "  R=1: Shape=[D0]: Dimension=1-D: Vector  \n",
    "  R=2: Shape=[D0, D1]: Dimension=2-D: Matrix(Plane)  \n",
    "  R=3: Shape=[D0, D1, D2]: Dimension=3-D: Cube(Space)  \n",
    "  R=n: Shpae=[D0, D1, ..., Dn]: Dimension=n-D  \n",
    "3. Types(Data types)  \n",
    "  DT_FLOAT: tf.float32: common data type  \n",
    "  DT_DOUBLE: tf.float64\n",
    "  DT_INT8: tf.int8\n",
    "  DT_INT16: tf.int16\n",
    "  DT_INT32: tf.int32\n",
    "  DT_INT64: tf.int64\n",
    "  ..."
   ],
   "cell_type": "markdown",
   "metadata": {}
  },
  {
   "cell_type": "code",
   "execution_count": null,
   "metadata": {},
   "outputs": [],
   "source": [
    "3 # a rank 0 tensor; this is a scalar with shape []\n",
    "[1. ,2., 3.] # a rank 1 tensor; this is a vector with shape [3]\n",
    "[[1., 2., 3.], [4., 5., 6.]] # a rank 2 tensor; a matrix with shape [2, 3]\n",
    "[[[1., 2., 3.]], [[7., 8., 9.]]] # a rank 3 tensor with shape [2, 1, 3]"
   ]
  },
  {
   "source": [
    "# Computational Graph\n",
    "Node 하나를 다른 두 Node에 연결하기  \n",
    "+(합산) 노드에 두 상수 노드를 연결하고 합산을 구하는 그래프 만들기  "
   ],
   "cell_type": "markdown",
   "metadata": {}
  },
  {
   "cell_type": "code",
   "execution_count": 23,
   "metadata": {},
   "outputs": [],
   "source": [
    "node1 = tf.constant(3.0, tf.float32) #data type\n",
    "node2 = tf.constant(4.0) # also tf.float32 implicitly\n",
    "node3 = tf.add(node1, node2) "
   ]
  },
  {
   "cell_type": "code",
   "execution_count": 26,
   "metadata": {},
   "outputs": [
    {
     "output_type": "stream",
     "name": "stdout",
     "text": [
      "Tensor(\"Add_19:0\", shape=(), dtype=float32)\n<class 'tensorflow.python.framework.ops.Tensor'>\t<class 'tensorflow.python.framework.ops.Tensor'>\t<class 'tensorflow.python.framework.ops.Tensor'>\nTensor(\"add_20:0\", shape=(), dtype=float32)\n"
     ]
    }
   ],
   "source": [
    "#Question\n",
    "print(node3)\n",
    "node3 = node1+node2 #이렇게 적어도 tf.add(node1, node2) 결과와 같다. \n",
    "print(type(node1), type(node2), type(node2), sep='\\t') #자료형은 단순 텐서인데 +연산을 지원하는 듯.\n",
    "print(node3)\n",
    "#출력내용이 계속 달라진다? Add_xx:0..."
   ]
  },
  {
   "cell_type": "code",
   "execution_count": 24,
   "metadata": {},
   "outputs": [
    {
     "output_type": "stream",
     "name": "stdout",
     "text": [
      "node1: Tensor(\"Const_19:0\", shape=(), dtype=float32) node2: Tensor(\"Const_20:0\", shape=(), dtype=float32)\nnode3:  Tensor(\"Add_19:0\", shape=(), dtype=float32)\n"
     ]
    }
   ],
   "source": [
    "print(\"node1:\", node1, \"node2:\", node2)\n",
    "print(\"node3: \", node3)\n",
    "#텐서의 형태만 출력된다."
   ]
  },
  {
   "cell_type": "code",
   "execution_count": 25,
   "metadata": {},
   "outputs": [
    {
     "output_type": "stream",
     "name": "stdout",
     "text": [
      "sess.run(node1, node2):  [3.0, 4.0]\nsess.run(node3):  7.0\n"
     ]
    }
   ],
   "source": [
    "sess = tf.Session()\n",
    "print(\"sess.run(node1, node2): \", sess.run([node1, node2]))\n",
    "print(\"sess.run(node3): \", sess.run(node3))\n",
    "#실행을 해줘야 값을 알 수 있다."
   ]
  },
  {
   "source": [
    "# TensorFlow Mechanics\n",
    "1. Build graph using TensorFlow operations\n",
    "2. Feed data and run graph(operation)\n",
    "    e.g. sess.run(op)\n",
    "3. update variables in the graph(and return values)"
   ],
   "cell_type": "markdown",
   "metadata": {}
  },
  {
   "source": [
    "# Placeholder: \n",
    "자리를 유지해주는 장치, 사무실/장소를 보유한 사람, 자리만 차지하는 노드, ...  \n",
    "실행을 한 후에 값을 수정하는 방법.  \n",
    "아래 a, b 노드는 처음엔 값이 지정되지 않음. 자리만 차지함.  \n",
    "새 입력값을 feed할 수 있다. 이 때 각 노드에 List를 줘도 알아서 잘 처리함."
   ],
   "cell_type": "markdown",
   "metadata": {}
  },
  {
   "cell_type": "code",
   "execution_count": 27,
   "metadata": {},
   "outputs": [
    {
     "output_type": "stream",
     "name": "stdout",
     "text": [
      "7.5\n[3. 7.]\n"
     ]
    }
   ],
   "source": [
    "a = tf.placeholder(tf.float32)\n",
    "b = tf.placeholder(tf.float32)\n",
    "adder_node = a + b  # + provides a shortcut for tf.add(a, b)\n",
    "\n",
    "print(sess.run(adder_node, feed_dict={a: 3, b: 4.5}))\n",
    "print(sess.run(adder_node, feed_dict={a: [1,3], b: [2, 4]}))"
   ]
  },
  {
   "cell_type": "code",
   "execution_count": 29,
   "metadata": {},
   "outputs": [
    {
     "output_type": "stream",
     "name": "stdout",
     "text": [
      "22.5\n"
     ]
    }
   ],
   "source": [
    "add_and_triple = adder_node * 3.\n",
    "print(sess.run(add_and_triple, feed_dict={a: 3, b:4.5}))"
   ]
  },
  {
   "source": [
    "Placeholder를 이용한 방법  \n",
    "1. Placeholder를 이용해 그래프를 Build  \n",
    "2. 데이터를 Feed, Run  \n",
    "3. Update Variables in the graph and return values"
   ],
   "cell_type": "markdown",
   "metadata": {}
  }
 ]
}