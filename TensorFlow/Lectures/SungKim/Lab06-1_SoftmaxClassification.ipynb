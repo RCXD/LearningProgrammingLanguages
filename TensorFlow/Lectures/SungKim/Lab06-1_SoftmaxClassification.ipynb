{
 "metadata": {
  "language_info": {
   "codemirror_mode": {
    "name": "ipython",
    "version": 3
   },
   "file_extension": ".py",
   "mimetype": "text/x-python",
   "name": "python",
   "nbconvert_exporter": "python",
   "pygments_lexer": "ipython3",
   "version": "3.6.8"
  },
  "orig_nbformat": 2,
  "kernelspec": {
   "name": "python368jvsc74a57bd035c172699b75493cf9b73401c918046e05cb631d4ef3a2eb7e311fe7215ea956",
   "display_name": "Python 3.6.8 64-bit"
  },
  "metadata": {
   "interpreter": {
    "hash": "35c172699b75493cf9b73401c918046e05cb631d4ef3a2eb7e311fe7215ea956"
   }
  }
 },
 "nbformat": 4,
 "nbformat_minor": 2,
 "cells": [
  {
   "source": [
    "1. tf.matmul 메소드를 이용해서 중첩된 binary classification을 구현하고,  \n",
    "2. tf.nn.softmax 메소드를 이용해서 가능성을 계산한다. 이것이 hypothesis 최종 함수임.  \n",
    "3. cross entropy 함수의 정의를 이용해서 cost 함수를 정의한다.  "
   ],
   "cell_type": "markdown",
   "metadata": {}
  },
  {
   "source": [
    "[hunkim/DeepLearningZeroToAll](https://github.com/hunkim/DeepLearningZeroToAll/blob/master/tf2/tf2-06-1-softmax_classifier.py)  \n",
    "TensorFlow 2 버전 코드"
   ],
   "cell_type": "markdown",
   "metadata": {}
  },
  {
   "cell_type": "code",
   "execution_count": 1,
   "metadata": {},
   "outputs": [],
   "source": [
    "  \n",
    "# Lab 6 Softmax Classifier\n",
    "import tensorflow as tf\n",
    "tf.set_random_seed(777)  # for reproducibility\n",
    "\n",
    "\n",
    "x_data = [[1, 2, 1, 1], #입력 데이터셋은 큰 의미는 보이지 않는 숫자조합이 주어졌음\n",
    "          [2, 1, 3, 2],\n",
    "          [3, 1, 3, 4],\n",
    "          [4, 1, 5, 5],\n",
    "          [1, 7, 5, 5],\n",
    "          [1, 2, 5, 6],\n",
    "          [1, 6, 6, 6],\n",
    "          [1, 7, 7, 7]]\n",
    "y_data = [[0, 0, 1], #3번째 인자가 정답일 경우\n",
    "          [0, 0, 1],\n",
    "          [0, 0, 1],\n",
    "          [0, 1, 0], #2번째 인자가 정답일 경우\n",
    "          [0, 1, 0],\n",
    "          [0, 1, 0],\n",
    "          [1, 0, 0], #1번째 인자가 정답일 경우\n",
    "          [1, 0, 0]]"
   ]
  },
  {
   "cell_type": "code",
   "execution_count": 2,
   "metadata": {},
   "outputs": [],
   "source": [
    "X = tf.placeholder(\"float\", [None, 4]) \n",
    "Y = tf.placeholder(\"float\", [None, 3]) #원핫인코딩을 위해 정답의 개수가 y의 개수임.\n",
    "nb_classes = 3 #종류가 3개"
   ]
  },
  {
   "cell_type": "code",
   "execution_count": 3,
   "metadata": {},
   "outputs": [],
   "source": [
    "W = tf.Variable(tf.random_normal([4, nb_classes]), name='weight') #입력이 4개이므로 4\n",
    "b = tf.Variable(tf.random_normal([nb_classes]), name='bias')\n",
    "#행렬식 모델을 생각하면 편함"
   ]
  },
  {
   "cell_type": "code",
   "execution_count": 6,
   "metadata": {},
   "outputs": [],
   "source": [
    "#softmax를 이용한 가설함수, cost함수 구현. softmax함수 안에 들어가는 인자가 logit임.\n",
    "#즉, logit -> softmax -> probability\n",
    "\n",
    "# tf.nn.softmax computes softmax activations\n",
    "# softmax = exp(logits) / reduce_sum(exp(logits), dim)\n",
    "hypothesis = tf.nn.softmax(tf.matmul(X, W) + b)\n",
    "\n",
    "# Cross entropy cost/loss\n",
    "cost = tf.reduce_mean(-tf.reduce_sum(Y * tf.log(hypothesis), axis=1))\n",
    "\n",
    "optimizer = tf.train.GradientDescentOptimizer(learning_rate=0.1).minimize(cost)"
   ]
  },
  {
   "cell_type": "code",
   "execution_count": 11,
   "metadata": {},
   "outputs": [
    {
     "output_type": "stream",
     "name": "stdout",
     "text": [
      "0 6.926112\n",
      "200 0.6005018\n",
      "400 0.47295803\n",
      "600 0.37342983\n",
      "800 0.28018403\n",
      "1000 0.23280531\n",
      "1200 0.21065348\n",
      "1400 0.19229904\n",
      "1600 0.17682338\n",
      "1800 0.16359547\n",
      "2000 0.15216155\n",
      "--------------\n",
      "[[1.3890503e-03 9.9860185e-01 9.0612566e-06]] [1]\n",
      "--------------\n",
      "[[0.9311919  0.06290218 0.00590591]] [0]\n",
      "--------------\n",
      "[[1.2732840e-08 3.3411290e-04 9.9966586e-01]] [2]\n",
      "--------------\n",
      "[[1.3890502e-03 9.9860185e-01 9.0612657e-06]\n",
      " [9.3119192e-01 6.2902153e-02 5.9059118e-03]\n",
      " [1.2732840e-08 3.3411290e-04 9.9966586e-01]] [1 0 2]\n"
     ]
    }
   ],
   "source": [
    "#학습, 과정 출력(cost_val이 감소하는것을 확인 가능)\n",
    "#여기서는 x의 숫자조합이 큰 의미가 없으니 과정 자체만 확인.\n",
    "# Launch graph\n",
    "with tf.Session() as sess:\n",
    "    sess.run(tf.global_variables_initializer())\n",
    "\n",
    "    for step in range(2001):\n",
    "            _, cost_val = sess.run([optimizer, cost], feed_dict={X: x_data, Y: y_data})\n",
    "\n",
    "            if step % 200 == 0:\n",
    "                print(step, cost_val)\n",
    "\n",
    "    print('--------------')\n",
    "    # Testing & One-hot encoding  \n",
    "    a = sess.run(hypothesis, feed_dict={X: [[1, 11, 7, 9]]})\n",
    "    print(a, sess.run(tf.argmax(a, 1))) \n",
    "    #a를 의미하는 예측값과 그것의 인코딩값(몇 번째 인덱스가 정답인지 알려주는 값) 출력\n",
    "\n",
    "    print('--------------')\n",
    "    b = sess.run(hypothesis, feed_dict={X: [[1, 3, 4, 3]]})\n",
    "    print(b, sess.run(tf.argmax(b, 1)))\n",
    "\n",
    "    print('--------------')\n",
    "    c = sess.run(hypothesis, feed_dict={X: [[1, 1, 0, 1]]})\n",
    "    print(c, sess.run(tf.argmax(c, 1)))\n",
    "\n",
    "    print('--------------')\n",
    "    all = sess.run(hypothesis, feed_dict={X: [[1, 11, 7, 9], [1, 3, 4, 3], [1, 1, 0, 1]]})\n",
    "    print(all, sess.run(tf.argmax(all, 1)))\n",
    "    #잘 보면 가장 큰 값(특히 소수점 자리수가 가장 작은)이 몇 번째에 있는지 확인 가능\n"
   ]
  },
  {
   "cell_type": "code",
   "execution_count": null,
   "metadata": {},
   "outputs": [],
   "source": []
  }
 ]
}