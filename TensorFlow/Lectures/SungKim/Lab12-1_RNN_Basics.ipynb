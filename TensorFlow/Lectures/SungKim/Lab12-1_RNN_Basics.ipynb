{
 "metadata": {
  "language_info": {
   "codemirror_mode": {
    "name": "ipython",
    "version": 3
   },
   "file_extension": ".py",
   "mimetype": "text/x-python",
   "name": "python",
   "nbconvert_exporter": "python",
   "pygments_lexer": "ipython3",
   "version": "3.6.8"
  },
  "orig_nbformat": 2,
  "kernelspec": {
   "name": "python368jvsc74a57bd035c172699b75493cf9b73401c918046e05cb631d4ef3a2eb7e311fe7215ea956",
   "display_name": "Python 3.6.8 64-bit"
  },
  "metadata": {
   "interpreter": {
    "hash": "35c172699b75493cf9b73401c918046e05cb631d4ef3a2eb7e311fe7215ea956"
   }
  }
 },
 "nbformat": 4,
 "nbformat_minor": 2,
 "cells": [
  {
   "source": [
    "# RNN Basic\n",
    " \n",
    "1) BasicRNNCell  \n",
    "2) dynamic_rnn"
   ],
   "cell_type": "markdown",
   "metadata": {}
  },
  {
   "cell_type": "code",
   "execution_count": 1,
   "metadata": {},
   "outputs": [],
   "source": [
    "# http://www.wildml.com/2016/08/rnns-in-tensorflow-a-practical-guide-and-undocumented-features/\n",
    "# http://learningtensorflow.com/index.html\n",
    "# http://suriyadeepan.github.io/2016-12-31-practical-seq2seq/\n",
    "\n",
    "import tensorflow as tf\n",
    "###Disable Warnings\n",
    "import os\n",
    "os.environ['TF_CPP_MIN_LOG_LEVEL'] = '2'\n",
    "import logging\n",
    "tf.get_logger().setLevel(logging.ERROR)\n",
    "#import sys\n",
    "#original_stdout = sys.stdout\n",
    "#sys.stdout = None\n",
    "#import warnings\n",
    "#warnings.filterwarnings(\"ignore\")\n",
    "import numpy as np\n",
    "from tensorflow.contrib import rnn\n",
    "import pprint #Data pretty printer\n",
    "pp = pprint.PrettyPrinter(indent=4)\n",
    "sess = tf.InteractiveSession()"
   ]
  },
  {
   "cell_type": "code",
   "execution_count": 2,
   "metadata": {},
   "outputs": [],
   "source": [
    "# One hot encoding for each char in 'hello'\n",
    "h = [1, 0, 0, 0]\n",
    "e = [0, 1, 0, 0]\n",
    "l = [0, 0, 1, 0]\n",
    "o = [0, 0, 0, 1]\n",
    "\n",
    "#4종류이므로, input dimension: 4"
   ]
  },
  {
   "source": [
    "![image](https://cloud.githubusercontent.com/assets/901975/23348727/cc981856-fce7-11e6-83ea-4b187473466b.png)"
   ],
   "cell_type": "markdown",
   "metadata": {}
  },
  {
   "cell_type": "code",
   "execution_count": 3,
   "metadata": {},
   "outputs": [
    {
     "output_type": "stream",
     "name": "stdout",
     "text": [
      "2 2\n",
      "array([[[1., 0., 0., 0.]]], dtype=float32)\n",
      "WARNING:tensorflow:From <ipython-input-3-a312dc75f3d0>:12: dynamic_rnn (from tensorflow.python.ops.rnn) is deprecated and will be removed in a future version.\n",
      "Instructions for updating:\n",
      "Please use `keras.layers.RNN(cell)`, which is equivalent to this API\n",
      "WARNING:tensorflow:From C:\\Programs\\Python\\Python36\\lib\\site-packages\\tensorflow_core\\python\\ops\\resource_variable_ops.py:1630: calling BaseResourceVariable.__init__ (from tensorflow.python.ops.resource_variable_ops) with constraint is deprecated and will be removed in a future version.\n",
      "Instructions for updating:\n",
      "If using Keras pass *_constraint arguments to layers.\n",
      "array([[[-0.4800782 ,  0.07582483]]], dtype=float32)\n"
     ]
    }
   ],
   "source": [
    "#입출력 테스트: 학습과정 아님\n",
    "with tf.variable_scope('one_cell') as scope:\n",
    "    # One cell RNN input_dim (4) -> output_dim (2)\n",
    "    hidden_size = 2 # cell의 출력(output) 결과값이 몇개의 element인가를 결정: (?,?,2)\n",
    "    cell = tf.keras.layers.SimpleRNNCell(units=hidden_size) \n",
    "            #SimpleRNN 대신 다른 Cell로도 간편하게 변경 가능. e.g. BasicLSTMCell()\n",
    "    print(cell.output_size, cell.state_size) \n",
    "        #output size =2(hidden_size에 의해 결정) / state size는 무엇?\n",
    "\n",
    "    x_data = np.array([[h]], dtype=np.float32) \n",
    "    pp.pprint(x_data) # x_data = [[[1,0,0,0]]]\n",
    "    outputs, _states = tf.nn.dynamic_rnn(cell, x_data, dtype=tf.float32)\n",
    "\n",
    "    sess.run(tf.global_variables_initializer())\n",
    "    pp.pprint(outputs.eval())\n",
    "'''\n",
    "2 2\n",
    "array([[[ 1.,  0.,  0.,  0.]]], dtype=float32)\n",
    "array([[[ 0.28406101,  0.53163123]]], dtype=float32)\n",
    "'''\n",
    "pass"
   ]
  },
  {
   "source": [
    "---\n",
    "여러개의 값 받기(Sequence data)  \n",
    "sequence_length는 이것의 길이가 몇개인가를 나타내며, shape의 두번째 인자가 sequence_length임.  \n",
    "이것을 정의해주면 알아서 sequence가 펼쳐진다.  \n",
    "?: 아래에 x0, x1, x0, x1, x1인 이유는 언급이 없으니 pass. 큰 의미는 없어보임  "
   ],
   "cell_type": "markdown",
   "metadata": {}
  },
  {
   "source": [
    "\n",
    "![image](https://cloud.githubusercontent.com/assets/901975/23383634/649efd0a-fd82-11e6-925d-8041242743b0.png)"
   ],
   "cell_type": "markdown",
   "metadata": {}
  },
  {
   "cell_type": "code",
   "execution_count": null,
   "metadata": {},
   "outputs": [],
   "source": [
    "with tf.variable_scope('two_sequances') as scope:\n",
    "    # One cell RNN input_dim (4) -> output_dim (2). sequence: 5\n",
    "    hidden_size = 2\n",
    "    cell = tf.keras.layers.SimpleRNNCell(units=hidden_size)\n",
    "    x_data = np.array([[h, e, l, l, o]], dtype=np.float32)\n",
    "    print(x_data.shape)\n",
    "    pp.pprint(x_data) #입력 출력\n",
    "    outputs, _states = tf.nn.dynamic_rnn(cell, x_data, dtype=tf.float32)\n",
    "    sess.run(tf.global_variables_initializer())\n",
    "    pp.pprint(outputs.eval()) #출력이 어떻게 나오는지 확인\n",
    "    '''\n",
    "    (1, 5, 4)\n",
    "array([[[ 1.,  0.,  0.,  0.],\n",
    "        [ 0.,  1.,  0.,  0.],\n",
    "        [ 0.,  0.,  1.,  0.],\n",
    "        [ 0.,  0.,  1.,  0.],\n",
    "        [ 0.,  0.,  0.,  1.]]], dtype=float32)\n",
    "array([[[ 0.50641137,  0.55783308],\n",
    "        [-0.61545879, -0.04334207],\n",
    "        [-0.77109283, -0.23411733],\n",
    "        [-0.76478487, -0.07172935],\n",
    "        [-0.72683465,  0.5266667 ]]], dtype=float32)\n",
    "    '''"
   ]
  },
  {
   "source": [
    "---\n",
    "문자열을 여러개 입력해주는 방법: batch_size (아래 그림에서는 batch)  \n",
    "빠르게 여러 문자열을 셀에 입력해줄 수 있다. 가장 첫번째 shape가 batch_size  "
   ],
   "cell_type": "markdown",
   "metadata": {}
  },
  {
   "source": [
    "![image](https://cloud.githubusercontent.com/assets/901975/23383681/9943a9fc-fd82-11e6-8121-bd187994e249.png)"
   ],
   "cell_type": "markdown",
   "metadata": {}
  },
  {
   "cell_type": "code",
   "execution_count": 4,
   "metadata": {},
   "outputs": [
    {
     "output_type": "stream",
     "name": "stdout",
     "text": [
      "array([[[1., 0., 0., 0.],\n",
      "        [0., 1., 0., 0.],\n",
      "        [0., 0., 1., 0.],\n",
      "        [0., 0., 1., 0.],\n",
      "        [0., 0., 0., 1.]],\n",
      "\n",
      "       [[0., 1., 0., 0.],\n",
      "        [0., 0., 0., 1.],\n",
      "        [0., 0., 1., 0.],\n",
      "        [0., 0., 1., 0.],\n",
      "        [0., 0., 1., 0.]],\n",
      "\n",
      "       [[0., 0., 1., 0.],\n",
      "        [0., 0., 1., 0.],\n",
      "        [0., 1., 0., 0.],\n",
      "        [0., 1., 0., 0.],\n",
      "        [0., 0., 1., 0.]]], dtype=float32)\n",
      "WARNING:tensorflow:From <ipython-input-4-ffa41f12a31f>:11: LSTMCell.__init__ (from tensorflow.python.ops.rnn_cell_impl) is deprecated and will be removed in a future version.\n",
      "Instructions for updating:\n",
      "This class is equivalent as tf.keras.layers.LSTMCell, and will be replaced by that in Tensorflow 2.0.\n",
      "WARNING:tensorflow:From C:\\Programs\\Python\\Python36\\lib\\site-packages\\tensorflow_core\\python\\ops\\rnn_cell_impl.py:958: Layer.add_variable (from tensorflow.python.keras.engine.base_layer) is deprecated and will be removed in a future version.\n",
      "Instructions for updating:\n",
      "Please use `layer.add_weight` method instead.\n",
      "WARNING:tensorflow:From C:\\Programs\\Python\\Python36\\lib\\site-packages\\tensorflow_core\\python\\ops\\rnn_cell_impl.py:962: calling Zeros.__init__ (from tensorflow.python.ops.init_ops) with dtype is deprecated and will be removed in a future version.\n",
      "Instructions for updating:\n",
      "Call initializer instance with the dtype argument instead of passing it to the constructor\n",
      "array([[[ 0.12912811,  0.16881344],\n",
      "        [ 0.15748908,  0.07690624],\n",
      "        [ 0.09947554, -0.00030735],\n",
      "        [-0.01995066, -0.07370917],\n",
      "        [-0.11888505,  0.07191802]],\n",
      "\n",
      "       [[ 0.12281438, -0.00911933],\n",
      "        [-0.01282248,  0.11662932],\n",
      "        [-0.10091563,  0.01907184],\n",
      "        [-0.15027343, -0.06682335],\n",
      "        [-0.17775442, -0.13431074]],\n",
      "\n",
      "       [[-0.08537944, -0.07762939],\n",
      "        [-0.13650118, -0.14010972],\n",
      "        [ 0.07569607, -0.11635439],\n",
      "        [ 0.17186247, -0.09842176],\n",
      "        [ 0.11311828, -0.15377735]]], dtype=float32)\n"
     ]
    }
   ],
   "source": [
    "with tf.variable_scope('3_batches') as scope:\n",
    "    # One cell RNN input_dim (4) -> output_dim (2). sequence: 5, batch 3\n",
    "    # 3 batches 'hello', 'eolll', 'lleel'\n",
    "    x_data = np.array([[h, e, l, l, o],\n",
    "                       [e, o, l, l, l],\n",
    "                       [l, l, e, e, l]], dtype=np.float32) \n",
    "                       #batch=3(row), sequence=5(col), dim=4(h, e, l, o) => (3,5,4)\n",
    "    pp.pprint(x_data)\n",
    "    \n",
    "    hidden_size = 2\n",
    "    cell = tf.nn.rnn_cell.LSTMCell(num_units=hidden_size, state_is_tuple=True)\n",
    "    outputs, _states = tf.nn.dynamic_rnn(\n",
    "        cell, x_data, dtype=tf.float32)\n",
    "    sess.run(tf.global_variables_initializer())\n",
    "    pp.pprint(outputs.eval())\n",
    "\n",
    "'''\n",
    "array([[[ 1.,  0.,  0.,  0.],\n",
    "        [ 0.,  1.,  0.,  0.],\n",
    "        [ 0.,  0.,  1.,  0.],\n",
    "        [ 0.,  0.,  1.,  0.],\n",
    "        [ 0.,  0.,  0.,  1.]],\n",
    "\n",
    "       [[ 0.,  1.,  0.,  0.],\n",
    "        [ 0.,  0.,  0.,  1.],\n",
    "        [ 0.,  0.,  1.,  0.],\n",
    "        [ 0.,  0.,  1.,  0.],\n",
    "        [ 0.,  0.,  1.,  0.]],\n",
    "\n",
    "       [[ 0.,  0.,  1.,  0.],\n",
    "        [ 0.,  0.,  1.,  0.],\n",
    "        [ 0.,  1.,  0.,  0.],\n",
    "        [ 0.,  1.,  0.,  0.],\n",
    "        [ 0.,  0.,  1.,  0.]]], dtype=float32)\n",
    "array([[[ 0.05147979, -0.12499733],\n",
    "        [-0.03096316,  0.0606184 ],\n",
    "        [ 0.07608285, -0.03678102],\n",
    "        [ 0.13522112, -0.0920362 ],\n",
    "        [ 0.0235186 ,  0.02936662]],\n",
    "\n",
    "       [[-0.08701393,  0.11020429],\n",
    "        [-0.10396396,  0.17681563],\n",
    "        [ 0.04137699,  0.01251686],\n",
    "        [ 0.11497379, -0.06123064],\n",
    "        [ 0.15778907, -0.10736831]],\n",
    "\n",
    "       [[ 0.09156778, -0.06834684],\n",
    "        [ 0.14449464, -0.11151826],\n",
    "        [ 0.0351325 ,  0.04766054],\n",
    "        [-0.06127799,  0.13465708],\n",
    "        [ 0.06125095,  0.00202556]]], dtype=float32)\n",
    "'''\n",
    "pass"
   ]
  }
 ]
}