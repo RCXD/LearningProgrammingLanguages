{
 "cells": [
  {
   "cell_type": "code",
   "execution_count": null,
   "source": [
    "# importing libraries\r\n",
    "from PyQt5 import QtCore, QtGui, QtWidgets\r\n",
    "# from PyQt5.QtCore import Qt\r\n",
    "from PyQt5.QtWidgets import * \r\n",
    "from PyQt5.QtGui import * \r\n",
    "from PyQt5.QtCore import * \r\n",
    "import sys\r\n",
    "import time"
   ],
   "outputs": [],
   "metadata": {}
  },
  {
   "cell_type": "code",
   "execution_count": null,
   "source": [
    "class Window(QMainWindow):\r\n",
    "    def __init__(self):\r\n",
    "        super().__init__()\r\n",
    "  \r\n",
    "        # setting title\r\n",
    "        self.setWindowTitle(\"TvGame\")\r\n",
    "  \r\n",
    "        # setting geometry\r\n",
    "        self.setGeometry(650, 250, 641, 362) #left, top, width, height\r\n",
    "\r\n",
    "        self.screen(\"firstscreen1.gif\",641, 362, 'self.start_btn()')\r\n",
    "        self.show()\r\n",
    "\r\n",
    "    # setting start btn\r\n",
    "    def start_btn(self):\r\n",
    "        start_btn = QPushButton(\"\", self)\r\n",
    "        start_btn.setGeometry(210,300,200,56)\r\n",
    "        start_btn.setStyleSheet(\"border-width: 0px; border-style: solid;background-image : url(start_btn.png);\")\r\n",
    "        start_btn.clicked.connect(self.start_screen)\r\n",
    "    # setting back_main btn\r\n",
    "    def back_main(self):\r\n",
    "        back_main = QPushButton(\"\",self)\r\n",
    "        back_main.setGeometry(210,300,100,39)\r\n",
    "        back_main.setStyleSheet(\"border-width: 0px; border-style: solid;background-image : url(Back_Button.png);\")\r\n",
    "        back_main.clicked.connect(self.start_screen)\r\n",
    "\r\n",
    "    def start_screen(self):\r\n",
    "        self.screen('firstscreen',490, 368, 'self.UiComponents()')\r\n",
    "\r\n",
    "       \r\n",
    "    # background Gif function\r\n",
    "    def screen(self, background,x,y,btn):\r\n",
    "        # setting geometry\r\n",
    "        self.setGeometry(650, 250, x, y)\r\n",
    "        self.centralwidget = QtWidgets.QWidget(self)\r\n",
    "        self.centralwidget.setObjectName(\"main-widget\")\r\n",
    "        # Label Create\r\n",
    "        self.label = QtWidgets.QLabel(self.centralwidget)\r\n",
    "        self.label.setGeometry(QtCore.QRect(0, 0, x, y))\r\n",
    "        self.label.setMinimumSize(QtCore.QSize(x, y))\r\n",
    "        self.label.setMaximumSize(QtCore.QSize(x, y))\r\n",
    "        self.label.setObjectName(\"lb1\")\r\n",
    "        self.setCentralWidget(self.centralwidget)\r\n",
    "\r\n",
    "        # Loading the GIF\r\n",
    "        self.movie = QMovie(background)\r\n",
    "        self.label.setMovie(self.movie)\r\n",
    "        \r\n",
    "        # calling method\r\n",
    "        self.startAnimation()\r\n",
    "\r\n",
    "        # calling method\r\n",
    "        exec(btn)\r\n",
    "  \r\n",
    "        # showing all the widgets\r\n",
    "        self.show()\r\n",
    "\r\n",
    "     # background Gif function\r\n",
    "    def screen2(self, background,x,y, btn):\r\n",
    "        # setting geometry\r\n",
    "        self.centralwidget = QtWidgets.QWidget(self)\r\n",
    "        self.centralwidget.setObjectName(\"main-widget\")\r\n",
    "        # Label Create\r\n",
    "        self.label = QtWidgets.QLabel(self.centralwidget)\r\n",
    "        self.label.setGeometry(QtCore.QRect(0, 0, x, y))\r\n",
    "        self.label.setMinimumSize(QtCore.QSize(x, y))\r\n",
    "        self.label.setMaximumSize(QtCore.QSize(x, y))\r\n",
    "        self.label.setObjectName(\"lb1\")\r\n",
    "        self.setCentralWidget(self.centralwidget)\r\n",
    "\r\n",
    "        # Loading the GIF\r\n",
    "        self.movie = QMovie(background)\r\n",
    "        self.label.setMovie(self.movie)\r\n",
    "        \r\n",
    "        # calling method\r\n",
    "        self.startAnimation()\r\n",
    "\r\n",
    "        # calling method\r\n",
    "        exec(btn)\r\n",
    "  \r\n",
    "        # showing all the widgets\r\n",
    "        self.show()\r\n",
    "        \r\n",
    "  \r\n",
    "    # Start Animation\r\n",
    "    def startAnimation(self):\r\n",
    "        self.movie.start()\r\n",
    "  \r\n",
    "    # Stop Animation(According to need)\r\n",
    "    def stopAnimation(self):\r\n",
    "        self.movie.stop()\r\n",
    "        \r\n",
    "    # method for widgets\r\n",
    "    def UiComponents(self):\r\n",
    "#----------------pokemon btn-------------------------------------------------\r\n",
    "        pokemon = ['(pikachu1.png);','(fire.png);','(water.png);', '(wiredo.png);']\r\n",
    "        pBtnPosiSize = {0: [350, 230, 131, 139],1:[250, 250, 128, 121], 2: [150, 250, 123, 127], 3:[50, 250, 111, 121] }\r\n",
    "        connect = [self.quit, self.aboutme,self.howto, self.start]\r\n",
    "        for i in range(len(pokemon)):\r\n",
    "            btnName = 'btn' + str(i)\r\n",
    "            # creating a push button\r\n",
    "            btnName = QPushButton(\"\", self)\r\n",
    "            # setting geometry of button\r\n",
    "            btnName.setGeometry(pBtnPosiSize[i][0],pBtnPosiSize[i][1],pBtnPosiSize[i][2],pBtnPosiSize[i][3])\r\n",
    "            # adding action to a button\r\n",
    "            btnName.clicked.connect(connect[i])\r\n",
    "            # setting image to the button\r\n",
    "            btnName.setStyleSheet(\"border-width: 0px; border-style: solid;background-image : url\"+pokemon[i])\r\n",
    "#----------------pokemon btn-------------------------------------------------                \r\n",
    "  \r\n",
    "    # action method\r\n",
    "    def start(self):\r\n",
    "        self.screen('channel1.gif',498,298,'self.back_main()')\r\n",
    "        print('channel1')\r\n",
    "    def howto(self):\r\n",
    "        self.screen('channel4.gif',400,279,'self.back_main()')\r\n",
    "        print('channel2')\r\n",
    "    def aboutme(self):\r\n",
    "        self.screen('PokemonDoKam3',389,484,'self.back_main()')\r\n",
    "        print('channel3')\r\n",
    "    def quit(self):\r\n",
    "        self.quit()"
   ],
   "outputs": [],
   "metadata": {}
  },
  {
   "cell_type": "code",
   "execution_count": null,
   "source": [
    "# if __name__ == '__main__':\r\n",
    "    \r\n",
    "    \r\n",
    "#     # create pyqt5 app\r\n",
    "#     App = QApplication(sys.argv)\r\n",
    "  \r\n",
    "#     # create an instance of our Window\r\n",
    "#     window = Window()\r\n",
    "    \r\n",
    "    \r\n",
    "#     # start the app\r\n",
    "#     sys.exit(App.exec())"
   ],
   "outputs": [],
   "metadata": {}
  },
  {
   "cell_type": "code",
   "execution_count": 1,
   "source": [
    "pBtnPosiSize = {0: [350, 230, 131, 139],1:[250, 250, 128, 121], 2: [150, 250, 123, 127], 3:[50, 250, 111, 121] }"
   ],
   "outputs": [],
   "metadata": {}
  },
  {
   "cell_type": "code",
   "execution_count": 3,
   "source": [
    "type(pBtnPosiSize[0])"
   ],
   "outputs": [
    {
     "output_type": "execute_result",
     "data": {
      "text/plain": [
       "list"
      ]
     },
     "metadata": {},
     "execution_count": 3
    }
   ],
   "metadata": {}
  },
  {
   "cell_type": "code",
   "execution_count": 4,
   "source": [
    "pBtnPosiSize[0][0]"
   ],
   "outputs": [
    {
     "output_type": "execute_result",
     "data": {
      "text/plain": [
       "350"
      ]
     },
     "metadata": {},
     "execution_count": 4
    }
   ],
   "metadata": {}
  },
  {
   "cell_type": "code",
   "execution_count": null,
   "source": [],
   "outputs": [],
   "metadata": {}
  }
 ],
 "metadata": {
  "orig_nbformat": 4,
  "language_info": {
   "name": "python",
   "version": "3.8.10",
   "mimetype": "text/x-python",
   "codemirror_mode": {
    "name": "ipython",
    "version": 3
   },
   "pygments_lexer": "ipython3",
   "nbconvert_exporter": "python",
   "file_extension": ".py"
  },
  "kernelspec": {
   "name": "python3",
   "display_name": "Python 3.8.10 64-bit"
  },
  "interpreter": {
   "hash": "1baa965d5efe3ac65b79dfc60c0d706280b1da80fedb7760faf2759126c4f253"
  }
 },
 "nbformat": 4,
 "nbformat_minor": 2
}