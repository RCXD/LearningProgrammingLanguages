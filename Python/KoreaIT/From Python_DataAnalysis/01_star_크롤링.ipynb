{
 "cells": [
  {
   "cell_type": "code",
   "execution_count": 6,
   "metadata": {},
   "outputs": [],
   "source": [
    "# 클롤링에 필요한 requests을 설치하고 import 한다.\n",
    "# !pip install requests\n",
    "import requests"
   ]
  },
  {
   "cell_type": "code",
   "execution_count": 7,
   "metadata": {},
   "outputs": [],
   "source": [
    "# 컴퓨터에 설치된 파이썬 모듈을 확인한다.\n",
    "# !pip list"
   ]
  },
  {
   "cell_type": "markdown",
   "metadata": {},
   "source": [
    "시도 코드 클롤링"
   ]
  },
  {
   "cell_type": "code",
   "execution_count": 29,
   "metadata": {
    "scrolled": false
   },
   "outputs": [
    {
     "data": {
      "text/plain": [
       "{'01': '서울',\n",
       " '08': '경기',\n",
       " '02': '광주',\n",
       " '03': '대구',\n",
       " '04': '대전',\n",
       " '05': '부산',\n",
       " '06': '울산',\n",
       " '07': '인천',\n",
       " '09': '강원',\n",
       " '10': '경남',\n",
       " '11': '경북',\n",
       " '12': '전남',\n",
       " '13': '전북',\n",
       " '14': '충남',\n",
       " '15': '충북',\n",
       " '16': '제주',\n",
       " '17': '세종'}"
      ]
     },
     "execution_count": 29,
     "metadata": {},
     "output_type": "execute_result"
    }
   ],
   "source": [
    "url = \"https://www.starbucks.co.kr/store/getSidoList.do\" # 타겟 사이트, 요청 경로\n",
    "request = requests.post(url)\n",
    "# print(request)                    # <Response [200]> => 요청 성공\n",
    "\n",
    "# json() 메소드로 읽어온 json 타입의 문자열을 딕셔너리로 변환한다.\n",
    "dosi_list = request.json()\n",
    "# print(type(dosi_list))            # <class 'dict'>\n",
    "# print(dosi_list)                  # json 타입의 데이터가 변환된 딕셔너리가 출력된다.\n",
    "# print(len(dosi_list))             # 1\n",
    "\n",
    "# print(type(dosi_list[\"list\"]))    # <class 'lisr'>\n",
    "# print(dosi_list[\"list\"])          # 딕셔너리의 \"list\"라는 키에 할당된 value인 리스트가 출력된다.\n",
    "# print(len(dosi_list[\"list\"]))     # 17\n",
    "\n",
    "# print(type(dosi_list[\"list\"][0])) # <class 'dict'>\n",
    "# print(dosi_list[\"list\"][0])\n",
    "\n",
    "# 시도 코드의 개수만큼 반복하며 시도 코드와 시도 이름을 딕셔너리에 저장한다.\n",
    "dosiList = {} # 시도 코드와 시도 이름을 저장할 빈 딕셔너리를 만든다.\n",
    "for dosi in dosi_list[\"list\"]:\n",
    "    # print(\"%s : %s\" % (dosi[\"sido_cd\"], dosi[\"sido_nm\"]))\n",
    "    # 딕셔너리이름[key] = value\n",
    "    dosiList[dosi[\"sido_cd\"]] = dosi[\"sido_nm\"]\n",
    "dosiList"
   ]
  },
  {
   "cell_type": "markdown",
   "metadata": {},
   "source": [
    "구군 코드 크롤링"
   ]
  },
  {
   "cell_type": "code",
   "execution_count": 31,
   "metadata": {},
   "outputs": [
    {
     "name": "stdout",
     "output_type": "stream",
     "text": [
      "구군 코드를 확인할 시도 코드를 입력하세요 : 01\n",
      "<Response [200]>\n"
     ]
    }
   ],
   "source": [
    "dosi = input(\"구군 코드를 확인할 시도 코드를 입력하세요 : \")\n",
    "\n",
    "url = \"https://www.starbucks.co.kr/store/getGugunList.do\"\n",
    "# post 방식으로 요청할 때 넘겨줄 데이터가 있다면 post() 메소드의 2번째 인수로 딕셔너리 형태로\n",
    "# 지정한다.\n",
    "request = requests.post(url, data = {\n",
    "    \"sido_cd\": dosi\n",
    "})\n",
    "print(request)"
   ]
  },
  {
   "cell_type": "code",
   "execution_count": null,
   "metadata": {},
   "outputs": [],
   "source": []
  },
  {
   "cell_type": "code",
   "execution_count": null,
   "metadata": {},
   "outputs": [],
   "source": []
  },
  {
   "cell_type": "code",
   "execution_count": null,
   "metadata": {},
   "outputs": [],
   "source": []
  },
  {
   "cell_type": "code",
   "execution_count": null,
   "metadata": {},
   "outputs": [],
   "source": []
  },
  {
   "cell_type": "code",
   "execution_count": null,
   "metadata": {},
   "outputs": [],
   "source": []
  }
 ],
 "metadata": {
  "kernelspec": {
   "display_name": "Python 3",
   "language": "python",
   "name": "python3"
  },
  "language_info": {
   "codemirror_mode": {
    "name": "ipython",
    "version": 3
   },
   "file_extension": ".py",
   "mimetype": "text/x-python",
   "name": "python",
   "nbconvert_exporter": "python",
   "pygments_lexer": "ipython3",
   "version": "3.7.4"
  }
 },
 "nbformat": 4,
 "nbformat_minor": 4
}
