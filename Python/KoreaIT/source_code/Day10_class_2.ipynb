{
 "metadata": {
  "language_info": {
   "codemirror_mode": {
    "name": "ipython",
    "version": 3
   },
   "file_extension": ".py",
   "mimetype": "text/x-python",
   "name": "python",
   "nbconvert_exporter": "python",
   "pygments_lexer": "ipython3",
   "version": "3.7.9-final"
  },
  "orig_nbformat": 2,
  "kernelspec": {
   "name": "Python 3.7.9 64-bit",
   "display_name": "Python 3.7.9 64-bit",
   "metadata": {
    "interpreter": {
     "hash": "450770b194ad3c526d72e78f0fffc46d9f199ddffc77daa2aadce905eb3548da"
    }
   }
  }
 },
 "nbformat": 4,
 "nbformat_minor": 2,
 "cells": [
  {
   "source": [
    "## 실습\n",
    "3과목 평균을 입력받아 총점을 계산하는 클래스"
   ],
   "cell_type": "markdown",
   "metadata": {}
  },
  {
   "cell_type": "code",
   "execution_count": 25,
   "metadata": {},
   "outputs": [],
   "source": [
    "class Score:\n",
    "    def __init__(self, name, python, java, jsp):\n",
    "        self.name = name\n",
    "        self.python = python\n",
    "        self.java = java\n",
    "        self.jsp = jsp\n",
    "        self.total = python + java +jsp\n",
    "        self.mean = self.total / 3\n",
    "        \n",
    "    def __str__(self):\n",
    "#        return f\"\"\"\\\n",
    "#'이름 : {self.name}, \\\n",
    "#python : {self.python}, \\\n",
    "#java = {self.java}, \\\n",
    "#jsp = {self.jsp}, \\\n",
    "#평균 = {self.mean}'\n",
    "#\"\"\" #한줄로 입력하는거 좀 밉네... 좋은거 없나? \"\"\" \"\"\"는 좀 맘에 안든다.\n",
    "        # \\으로 줄 넘기기. 문자열을 가를때는 다른걸 써야함!\n",
    "        return '이름: {}, python : {}, java = {}, jsp = {}, 총점 = {}, 평균 = {}'.format(self.name, \\\n",
    "            self.python, self.java, self.jsp, self.total, self.mean)\n",
    "        #f-string 고집하기보다 이런거 쓰면 임시적으로 길이는 줄어드는 듯..."
   ]
  },
  {
   "cell_type": "code",
   "execution_count": 26,
   "metadata": {},
   "outputs": [
    {
     "output_type": "stream",
     "name": "stdout",
     "text": [
      "이름: ㅇㅇ, python : 50, java = 80, jsp = 94, 총점 = 224, 평균 = 74.66666666666667\n"
     ]
    }
   ],
   "source": [
    "student1 = Score('ㅇㅇ', 50, 80, 94)\n",
    "print(student1)"
   ]
  }
 ]
}