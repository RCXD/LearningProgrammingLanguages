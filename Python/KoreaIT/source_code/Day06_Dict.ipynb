{
 "metadata": {
  "language_info": {
   "codemirror_mode": {
    "name": "ipython",
    "version": 3
   },
   "file_extension": ".py",
   "mimetype": "text/x-python",
   "name": "python",
   "nbconvert_exporter": "python",
   "pygments_lexer": "ipython3",
   "version": "3.8.5-final"
  },
  "orig_nbformat": 2,
  "kernelspec": {
   "name": "python_defaultSpec_1600854540050",
   "display_name": "Python 3.8.5 64-bit"
  }
 },
 "nbformat": 4,
 "nbformat_minor": 2,
 "cells": [
  {
   "source": [
    "Dictionary 만들기  \n",
    "대응관계를 나타내는 자료형  \n",
    "Key와 대응되는 value가 한 쌍으로 이루어진 자료형  \n",
    "{key : value, key : value, ...}와 같은 형태를 가지는 자료형  \n",
    "key는 일반적으로 string 형태로 사용  \n",
    "value 딕셔너리에 저장할 데이터 입력  "
   ],
   "cell_type": "markdown",
   "metadata": {}
  },
  {
   "source": [
    "빈 딕셔너리 만들기"
   ],
   "cell_type": "markdown",
   "metadata": {}
  },
  {
   "cell_type": "code",
   "execution_count": 2,
   "metadata": {
    "tags": []
   },
   "outputs": [
    {
     "output_type": "stream",
     "name": "stdout",
     "text": "{} {}\n<class 'dict'> <class 'dict'>\n"
    }
   ],
   "source": [
    "a = {}\n",
    "b = dict()\n",
    "print(a, b)\n",
    "print(type(a), type(b))"
   ]
  },
  {
   "cell_type": "code",
   "execution_count": 7,
   "metadata": {
    "tags": []
   },
   "outputs": [
    {
     "output_type": "stream",
     "name": "stdout",
     "text": "{'a': 1, 'b': 2, 'c': 3} {'a': 1, 'b': 2, 'c': 3} {'a': 1, 'b': 2, 'c': 3}\n"
    }
   ],
   "source": [
    "a = {'a':1, 'b':2, 'c':3}\n",
    "b = dict(a)\n",
    "c = dict({'a':1, 'b':2, 'c':3})\n",
    "#c = dict('a':1, 'b':2, 'c':3) #중괄호 필요\n",
    "print(a, b, c)"
   ]
  },
  {
   "source": [
    "딕셔너리에 데이터 추가 및 수정하기\n",
    "존재하지 않는 key에 value를 할당하면 데이터가 추가되고  \n",
    "존재하는 key에 데이터를 할당하면 데이터가 수정됨"
   ],
   "cell_type": "markdown",
   "metadata": {}
  },
  {
   "cell_type": "code",
   "execution_count": 9,
   "metadata": {
    "tags": []
   },
   "outputs": [
    {
     "output_type": "stream",
     "name": "stdout",
     "text": "{'a': '남', 'b': 2, 'c': 3}\n"
    }
   ],
   "source": [
    "a = {'a':1, 'b':2, 'c':3}\n",
    "a['a'] = '남' #원래 value인 1이 '남'으로 바뀜\n",
    "print(a)"
   ]
  },
  {
   "cell_type": "code",
   "execution_count": 15,
   "metadata": {
    "tags": []
   },
   "outputs": [
    {
     "output_type": "stream",
     "name": "stdout",
     "text": "{'name': '홍길동', 'phone': '010-1234-2345', 'age': 20}\n<class 'dict'>\n{'name': '홍길동', 'phone': '010-1234-2345', 'age': 20, 'gender': '남'}\n{'name': '홍길동', 'phone': '010-1234-2345', 'age': 20, 'gender': '여'}\n"
    }
   ],
   "source": [
    "a = {'name' : '홍길동', 'phone': '010-1234-2345', 'age' : 20}\n",
    "print(a)\n",
    "print(type(a))\n",
    "a['gender'] = '남' #데이터, 키 동시에 추가\n",
    "print(a)\n",
    "a['gender'] = '여' #데이터 수정\n",
    "print(a)"
   ]
  },
  {
   "source": [
    "데이터 삭제\n",
    "~~~python\n",
    "del dictName[key]\n",
    "~~~"
   ],
   "cell_type": "markdown",
   "metadata": {}
  },
  {
   "cell_type": "code",
   "execution_count": 17,
   "metadata": {
    "tags": []
   },
   "outputs": [
    {
     "output_type": "stream",
     "name": "stdout",
     "text": "{'phone': '010-1234-2345', 'age': 20}\n"
    },
    {
     "output_type": "error",
     "ename": "NameError",
     "evalue": "name 'a' is not defined",
     "traceback": [
      "\u001b[1;31m---------------------------------------------------------------------------\u001b[0m",
      "\u001b[1;31mNameError\u001b[0m                                 Traceback (most recent call last)",
      "\u001b[1;32m<ipython-input-17-84ad04b60dfa>\u001b[0m in \u001b[0;36m<module>\u001b[1;34m\u001b[0m\n\u001b[0;32m      3\u001b[0m \u001b[0mprint\u001b[0m\u001b[1;33m(\u001b[0m\u001b[0ma\u001b[0m\u001b[1;33m)\u001b[0m \u001b[1;31m#당연히 값도 같이 사라짐\u001b[0m\u001b[1;33m\u001b[0m\u001b[1;33m\u001b[0m\u001b[0m\n\u001b[0;32m      4\u001b[0m \u001b[1;32mdel\u001b[0m \u001b[0ma\u001b[0m\u001b[1;33m\u001b[0m\u001b[1;33m\u001b[0m\u001b[0m\n\u001b[1;32m----> 5\u001b[1;33m \u001b[0mprint\u001b[0m\u001b[1;33m(\u001b[0m\u001b[0ma\u001b[0m\u001b[1;33m)\u001b[0m \u001b[1;31m#전체 삭제도 가능\u001b[0m\u001b[1;33m\u001b[0m\u001b[1;33m\u001b[0m\u001b[0m\n\u001b[0m",
      "\u001b[1;31mNameError\u001b[0m: name 'a' is not defined"
     ]
    }
   ],
   "source": [
    "a = {'name' : '홍길동', 'phone': '010-1234-2345', 'age' : 20}\n",
    "del a['name']\n",
    "print(a) #당연히 값도 같이 사라짐\n",
    "del a\n",
    "print(a) #전체 삭제도 가능"
   ]
  },
  {
   "source": [
    "저장된 데이터 확인\n",
    "~~~python\n",
    "dict['key'] or dict.get('key')\n",
    "~~~"
   ],
   "cell_type": "markdown",
   "metadata": {}
  },
  {
   "cell_type": "code",
   "execution_count": 20,
   "metadata": {
    "tags": []
   },
   "outputs": [
    {
     "output_type": "stream",
     "name": "stdout",
     "text": "홍길동\n010-1234-2345\n"
    }
   ],
   "source": [
    "a = {'name' : '홍길동', 'phone': '010-1234-2345', 'age' : 20}\n",
    "print(a['name']) #key indexing\n",
    "print(a.get('phone')) #get Method 사용하기"
   ]
  },
  {
   "source": [
    "딕셔너리 요소 가져오는 메소드\n",
    "~~~python\n",
    ".keys(), .values(), .items()\n",
    "~~~"
   ],
   "cell_type": "markdown",
   "metadata": {}
  },
  {
   "cell_type": "code",
   "execution_count": 23,
   "metadata": {
    "tags": []
   },
   "outputs": [
    {
     "output_type": "stream",
     "name": "stdout",
     "text": "dict_keys(['name', 'phone', 'age']) <class 'dict_keys'>\ndict_values(['홍길동', '010-1234-2345', 20]) <class 'dict_values'>\ndict_items([('name', '홍길동'), ('phone', '010-1234-2345'), ('age', 20)]) <class 'dict_items'>\n"
    }
   ],
   "source": [
    "a = {'name' : '홍길동', 'phone': '010-1234-2345', 'age' : 20}\n",
    "print(a.keys(), type(a.keys()))\n",
    "print(a.values(), type(a.values()))\n",
    "print(a.items(), type(a.items())) #key와 value를 tuple로 만들어준다.\n",
    "#이 dict의 하위 자료형들은 대체 어떻게 써먹는건가? 리스트가 아닌 이유가 있나?"
   ]
  },
  {
   "source": [
    "# (***)\n",
    "## in, not in 연산자  \n",
    "in 앞의 key가 in 뒤의 딕셔너리에 존재하면 True, 그렇지 않으면 False  \n",
    "not in은 in의 반대동작"
   ],
   "cell_type": "markdown",
   "metadata": {}
  },
  {
   "cell_type": "code",
   "execution_count": 25,
   "metadata": {
    "tags": []
   },
   "outputs": [
    {
     "output_type": "stream",
     "name": "stdout",
     "text": "True\nFalse\n"
    }
   ],
   "source": [
    "a = {'name' : '홍길동', 'phone': '010-1234-2345', 'age' : 20}\n",
    "print('name' in a) #포함여부를 따지는 연산자라고 생각하면 되겠다.\n",
    "print('name' not in a)"
   ]
  },
  {
   "source": [
    "딕셔너리에 저장된 모든 데이터 삭제\n",
    "~~~\n",
    ".clear()\n",
    "~~~"
   ],
   "cell_type": "markdown",
   "metadata": {}
  },
  {
   "cell_type": "code",
   "execution_count": 27,
   "metadata": {
    "tags": []
   },
   "outputs": [
    {
     "output_type": "stream",
     "name": "stdout",
     "text": "{}\n{}\n"
    }
   ],
   "source": [
    "a = {'name' : '홍길동', 'phone': '010-1234-2345', 'age' : 20}\n",
    "a.clear()\n",
    "print(a)\n",
    "# 결국 아래랑 같은거겠지\n",
    "a = {'name' : '홍길동', 'phone': '010-1234-2345', 'age' : 20}\n",
    "a = {}\n",
    "print(a)"
   ]
  },
  {
   "cell_type": "code",
   "execution_count": null,
   "metadata": {},
   "outputs": [],
   "source": []
  }
 ]
}