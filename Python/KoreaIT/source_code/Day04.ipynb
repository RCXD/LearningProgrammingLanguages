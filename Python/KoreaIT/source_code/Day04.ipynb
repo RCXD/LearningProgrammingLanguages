{
 "metadata": {
  "language_info": {
   "codemirror_mode": {
    "name": "ipython",
    "version": 3
   },
   "file_extension": ".py",
   "mimetype": "text/x-python",
   "name": "python",
   "nbconvert_exporter": "python",
   "pygments_lexer": "ipython3",
   "version": "3.8.5-final"
  },
  "orig_nbformat": 2,
  "kernelspec": {
   "name": "python_defaultSpec_1600251840899",
   "display_name": "Python 3.8.5 64-bit"
  }
 },
 "nbformat": 4,
 "nbformat_minor": 2,
 "cells": [
  {
   "source": [
    "## if명령 형식, if조건문\n",
    "## 관계연산자(비교 연산자)\n",
    "~~~\n",
    ">, >=, <, <=, ==, !=\n",
    "~~~\n",
    "## 조건식\n",
    "and : 논리곱\n",
    "or  : 논리합\n",
    "not : 논리부정"
   ],
   "cell_type": "markdown",
   "metadata": {}
  },
  {
   "source": [
    "입출력"
   ],
   "cell_type": "markdown",
   "metadata": {}
  },
  {
   "cell_type": "code",
   "execution_count": 2,
   "metadata": {
    "tags": []
   },
   "outputs": [
    {
     "output_type": "stream",
     "name": "stdout",
     "text": "<class 'str'>\n<class 'int'>\n"
    }
   ],
   "source": [
    "age = input('나이를 입력하세요')\n",
    "print(type(age)) #입력의 자료형은 기본적으로 문자열! input함수앞에 \"자료형\"() 함수를 이용해서 변환해야 함\n",
    "age = int(input('나이를 입력하세요'))\n",
    "print(type(age))"
   ]
  },
  {
   "cell_type": "code",
   "execution_count": null,
   "metadata": {},
   "outputs": [],
   "source": [
    "age = int(input('나이를 입력하세요'))\n",
    "if age >= 19:\n",
    "    print('성인입니다. 어서오세요')\n",
    "else: \n",
    "    print('미성년자입니다.)"
   ]
  },
  {
   "source": [
    "주민등록번호 Parsing\n",
    "~~~python\n",
    "1. Indexing : list[N]\n",
    "2. Slicing  : list[a:b]\n",
    "~~~\n",
    "Sample : 990101-1234567, 100101-3234567"
   ],
   "cell_type": "markdown",
   "metadata": {}
  },
  {
   "cell_type": "code",
   "execution_count": 15,
   "metadata": {
    "tags": []
   },
   "outputs": [
    {
     "output_type": "stream",
     "name": "stdout",
     "text": "9901011234567\n1\n남자\n남자\n남자\n남자\n"
    }
   ],
   "source": [
    "#num = input('주민등록번호 13자리를 \"-\"없이 입력하세요 :')\n",
    "#\"-\"입력 자동으로 제거하는 코드\n",
    "num = input('주민등록번호 13자리를 \"-\"없이 입력하세요 :')\n",
    "num = num.replace('-','')\n",
    "print(num)\n",
    "print(num[6]) #나이 값 추출\n",
    "\n",
    "#성별 검사\n",
    "if num[6] == '1' or num[6] == '3':\n",
    "    print('남자')\n",
    "elif num[6] == '2' or num[6] == '4':\n",
    "    print('여자')\n",
    "\n",
    "#in 사용하기\n",
    "if num[6] in ('1', '3', '5'):\n",
    "    print('남자')\n",
    "else:\n",
    "    print('여자')\n",
    "\n",
    "#숫자로 처리하기\n",
    "if int(num[6]) in (1, 3, 5):\n",
    "    print('남자')\n",
    "else: \n",
    "    print('여자')\n",
    "\n",
    "#먼 미래까지 준비하기\n",
    "if int(num[6])%2 == 1:\n",
    "    print('남자')\n",
    "else:\n",
    "    print('여자')"
   ]
  },
  {
   "cell_type": "code",
   "execution_count": 45,
   "metadata": {
    "tags": []
   },
   "outputs": [
    {
     "output_type": "stream",
     "name": "stdout",
     "text": "990101\n당신의 생일(연): 99\n당신의 생일(월): 01\n당신의 생일(일): 01\n1\n1999\n8\n"
    }
   ],
   "source": [
    "#나이 추출\n",
    "num = input('주민등록번호 13자리를 입력하세요')\n",
    "num = num.replace('-','') #문자열 함수로 처리하는게 편리할 것\n",
    "print(num[:6]) #우측에는 '몇 개'를 잘라낼건지로 생각하는게 좋다.\n",
    "print('당신의 생일(연): ' + num[0:2]) # 연도\n",
    "print('당신의 생일(월): ' + num[2:4]) # 월\n",
    "print('당신의 생일(일): ' + num[2:4]) # 월\n",
    "\n",
    "year = int(num[:2])\n",
    "if num[6] <= '2': #성별 숫자를 가지고 구분\n",
    "    year += 1900\n",
    "else:\n",
    "    year += 2000\n",
    "\n",
    "''' 자동화 도전!\n",
    "1,2 -> +1900 -> /2 = 0.5, 1\n",
    "3,4 -> +2000 -> /2 = 1.5, 2\n",
    "5,6 -> +2100 -> /2 = 2.5, 3\n",
    "'''\n",
    "year = int(num[:2])\n",
    "print(round(0.5+0.1))\n",
    "year += 1800 + 100*round(int(num[6])/2+0.1)\n",
    "print(year)\n",
    "\n"
   ]
  },
  {
   "source": [
    "대입연산자  \n",
    "~~~\n",
    "+=, -=, *=, **=, /=, //=, %=\n",
    "~~~"
   ],
   "cell_type": "markdown",
   "metadata": {}
  },
  {
   "cell_type": "code",
   "execution_count": null,
   "metadata": {},
   "outputs": [],
   "source": [
    "a = 2\n",
    "a **= 3\n",
    "print(a)"
   ]
  },
  {
   "source": [
    "# 3항 연산자!  \n",
    "형식 : 조건이 참일 때 실행할 문장"
   ],
   "cell_type": "markdown",
   "metadata": {}
  },
  {
   "cell_type": "code",
   "execution_count": 43,
   "metadata": {
    "tags": []
   },
   "outputs": [
    {
     "output_type": "stream",
     "name": "stdout",
     "text": "당신의 출생년도는 1999년이고 21살 입니다.\n당신의 출생년도는 1999년이고 21살 입니다.\n당신의 출생년도는 1999년이고 21살 입니다.\n"
    }
   ],
   "source": [
    "num = '9901011234567'\n",
    "year = int(num[:2])\n",
    "if num[6] <= '2':\n",
    "    year += 1900\n",
    "else:\n",
    "    year += 2000\n",
    "print('당신의 출생년도는 {}년이고 {}살 입니다.'.format(year, 2020-year))\n",
    "print(f'당신의 출생년도는 {year}년이고 {2020-year}살 입니다.')\n",
    "\n",
    "year = int(num[:2])\n",
    "year += 1900 if num[6] <= '2' else 2000\n",
    "#num[6]을 만족하면 1900을, 그렇지 않으면 2000을 year에 더하는 문장(3항 연산자)\n",
    "#구분자는 공백 또는 값이 구분기준인건가?\n",
    "#if 좌측에 식이 아닌 값을 받는것으로 보임. if안에는 식이고, else 뒤에도 값일 것으로 보임(확인바람)\n",
    "print('당신의 출생년도는 {}년이고 {}살 입니다.'.format(year, 2020-year))"
   ]
  },
  {
   "source": [
    "## 점수계산기 만들기\n",
    "3과목 점수를 한번에 입력받아서 평균을 계산한 후 A~F를 출력한다."
   ],
   "cell_type": "markdown",
   "metadata": {}
  },
  {
   "cell_type": "code",
   "execution_count": 66,
   "metadata": {
    "tags": []
   },
   "outputs": [
    {
     "output_type": "stream",
     "name": "stdout",
     "text": "총점: 243점, 평균:  81.0\n평균:  81.0, 등급: B\n평균:  81.0, 등급: B\n평균:  81.0, 등급: B\n"
    }
   ],
   "source": [
    "python, java, android = map(int, input('3과목 점수를 입력하세요: ').split())\n",
    "total = python + java + android\n",
    "average = total / 3\n",
    "print('총점: {0:3d}점, 평균: {1:5.1f}'.format(total, average))\n",
    "\n",
    "if 80 <= average < 90: #python에서는 직관적인 조건연산 지원함. python만 지원.\n",
    "    #print('평균: {0:5.1f}, 등급: B'.format(average))\n",
    "    print(f'평균: {average:5.1f}, 등급: B') #같은거임! 0대신 변수명이 들어간다고 생각하면 됨.\n",
    "else :\n",
    "    print('nope')\n",
    "\n",
    "if average >= 90:\n",
    "    print(f'평균: {average:5.1f}, 등급: A')\n",
    "if 80 <= average < 90:\n",
    "    print(f'평균: {average:5.1f}, 등급: B')\n",
    "if 70 <= average < 80:\n",
    "    print(f'평균: {average:5.1f}, 등급: C')\n",
    "if 60 <= average < 70:\n",
    "    print(f'평균: {average:5.1f}, 등급: D')\n",
    "if average < 60:\n",
    "    print(f'평균: {average:5.1f}, 등급: E')\n",
    "\n",
    "#elif를 쓸때는, 범위를 중첩적으로 고려해야함.\n",
    "if average >= 90:\n",
    "    print(f'평균: {average:5.1f}, 등급: A')\n",
    "elif average >= 80:\n",
    "    print(f'평균: {average:5.1f}, 등급: B')\n",
    "elif average >= 70:\n",
    "    print(f'평균: {average:5.1f}, 등급: C')\n",
    "elif average >= 60:\n",
    "    print(f'평균: {average:5.1f}, 등급: D')\n",
    "elif average < 60:\n",
    "    print(f'평균: {average:5.1f}, 등급: E')"
   ]
  },
  {
   "source": [
    "윤년, 평년 판별하기  \n",
    "현재 연도가 4로 나눠떨어지고 100으로 나눠떨어지지 않거나 400으로 나눠떨어지면 윤년. 그렇지 않으면 평년"
   ],
   "cell_type": "markdown",
   "metadata": {}
  },
  {
   "cell_type": "code",
   "execution_count": 80,
   "metadata": {
    "tags": []
   },
   "outputs": [
    {
     "output_type": "stream",
     "name": "stdout",
     "text": "올해는 :윤년\n"
    }
   ],
   "source": [
    "year = 1808\n",
    "\n",
    "print('올해는 윤년' if year%4==0 and year%100 != 0 or year%400 ==0 else '올해는 평년')\n",
    "\n",
    "#print('올해: '+'윤년' if year%4==0 and year%100 != 0 or year%400 ==0 else '평년')\n",
    "#'올해 :' + 까지 if 참 출력문으로 잡혔다. 구분자로 쓰이는게 무엇인지 알고, 이해할 필요가 있음!\n",
    "# 그 이유는?\n",
    "# and, or의 중첩적인 연산순서를 고려하는 방법은? \n",
    "# and와 or 중 우선순위가 있는지?\n",
    "# 괄호를 생략할 수 있어야 하는데."
   ]
  }
 ]
}