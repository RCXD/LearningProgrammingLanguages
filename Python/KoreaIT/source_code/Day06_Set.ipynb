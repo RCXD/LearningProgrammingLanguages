{
 "metadata": {
  "language_info": {
   "codemirror_mode": {
    "name": "ipython",
    "version": 3
   },
   "file_extension": ".py",
   "mimetype": "text/x-python",
   "name": "python",
   "nbconvert_exporter": "python",
   "pygments_lexer": "ipython3",
   "version": "3.8.5-final"
  },
  "orig_nbformat": 2,
  "kernelspec": {
   "name": "python_defaultSpec_1600857101193",
   "display_name": "Python 3.8.5 64-bit"
  }
 },
 "nbformat": 4,
 "nbformat_minor": 2,
 "cells": [
  {
   "source": [
    "Set 만들기  \n",
    "수학의 집합과 비슷한 형태  \n",
    "중복되는 데이터의 입력을 허용하지 않음  \n",
    "- 에러를 내보낼것인가? 아니면 자동 처리해줄 것인가?\n",
    "- 단점 : 데이터를 입력하는 순서와 실제 데이터가 저장되는 순서가 다름\n",
    "    - 그래서 저장되는 순서는? 오름차순이 기본인 듯.\n",
    "\n",
    "딕셔너리처럼 {}를 사용. key 없이 value만 사용"
   ],
   "cell_type": "markdown",
   "metadata": {}
  },
  {
   "source": [
    "Set은 빈 셋을 만들 때 튜플처럼 ,를 이용하는 건 안됨.  \n",
    "생성자를 이용해야 한다.  \n",
    "프로그래밍할 때 습관적으로 생성자를 쓰는게 좋을 수도 있겠다."
   ],
   "cell_type": "markdown",
   "metadata": {}
  },
  {
   "cell_type": "code",
   "execution_count": 5,
   "metadata": {
    "tags": []
   },
   "outputs": [
    {
     "output_type": "stream",
     "name": "stdout",
     "text": "<class 'dict'>\n<class 'set'>\n"
    }
   ],
   "source": [
    "a = {} #이건 딕셔너리\n",
    "print(type(a))\n",
    "#a = {,} #이건 문법오류\n",
    "a = set()\n",
    "print(type(a))"
   ]
  },
  {
   "cell_type": "code",
   "execution_count": 7,
   "metadata": {
    "tags": []
   },
   "outputs": [
    {
     "output_type": "stream",
     "name": "stdout",
     "text": "{1, 2, 3, 4} <class 'set'>\n{1, 2, 3, 4} <class 'set'>\n"
    }
   ],
   "source": [
    "c = {1,2,3,4}\n",
    "print(c, type(c))\n",
    "c = set({1,2,3,4})\n",
    "print(c, type(c))\n",
    "#c = set(1,2,3,4) 에러남. 반드시  중괄호 사용\n",
    "#print(c, type(c))"
   ]
  },
  {
   "cell_type": "code",
   "execution_count": 11,
   "metadata": {
    "tags": []
   },
   "outputs": [
    {
     "output_type": "stream",
     "name": "stdout",
     "text": "{1, 2, 3, 4, 5, 6, 8}\n"
    }
   ],
   "source": [
    "d = {1,2,8,3,4,5, 1,2,3, 6,5,4,3}\n",
    "print(d)\n",
    "#자동으로 정렬되는게 기본인듯"
   ]
  },
  {
   "source": [
    "set 요소 추가하기\n",
    "~~~\n",
    ".add(element)\n",
    "~~~"
   ],
   "cell_type": "markdown",
   "metadata": {}
  },
  {
   "cell_type": "code",
   "execution_count": 17,
   "metadata": {
    "tags": []
   },
   "outputs": [
    {
     "output_type": "stream",
     "name": "stdout",
     "text": "{1, 2, 3, 'a', 3.5, '구엇', 5, '홍길동', '무엇'}\n{'홍길동'}\n{'홍길동', '임꺾정'}\n{'홍길동', '임꺾정', '장길산'}\n{'홍길동', '일지매', '임꺾정', '장길산'}\n"
    }
   ],
   "source": [
    "c = {1,2,3}\n",
    "c.add('무엇')\n",
    "c.add('홍길동')\n",
    "c.add('구엇')\n",
    "c.add('a');c.add(3.5);c.add(5) #오름차순은 아닌듯. pc마다 다를 수 있다고 함.\n",
    "print(c)\n",
    "e = {'홍길동'}\n",
    "print(e)\n",
    "e.add('임꺾정')\n",
    "print(e)\n",
    "e.add('장길산')\n",
    "print(e)\n",
    "e.add('일지매')\n",
    "print(e) #강사PC는 '장길산-임꺽정-홍길동-일지매 순이었음. 추가되는 위치가 랜덤인거임."
   ]
  },
  {
   "source": [
    "즉, Set은 순서가 무작위여서 indexing을 쓰기 적절하지 않다.(지원 X인가?)\n",
    "in, not in을 많이 사용한다고 함."
   ],
   "cell_type": "markdown",
   "metadata": {}
  },
  {
   "source": [
    "리스트 또는 튜플을 이용하여 set에 한번에 여러 개의 데이터를 추가\n",
    "- add()는 중첩적인 추가가 지원되지 않음\n",
    "~~~\n",
    ".update()    \n",
    "~~~"
   ],
   "cell_type": "markdown",
   "metadata": {}
  },
  {
   "cell_type": "code",
   "execution_count": 25,
   "metadata": {
    "tags": []
   },
   "outputs": [
    {
     "output_type": "stream",
     "name": "stdout",
     "text": "{'1': 'a', '2': 'b', '3': 'c'}\n{'1': 'a', '2': 'b', '3': 'c', 'a': '1', 'b': '2', 'c': '3'}\n"
    }
   ],
   "source": [
    "#???\n",
    "e = {}\n",
    "e.update(['1a', '2b','3c']) #List\n",
    "print(e)\n",
    "e.update(('a1', 'b2','c3')) #tuple\n",
    "print(e)\n",
    "#.... 이건 무엇?"
   ]
  },
  {
   "cell_type": "code",
   "execution_count": 24,
   "metadata": {
    "tags": []
   },
   "outputs": [
    {
     "output_type": "stream",
     "name": "stdout",
     "text": "{'2b', '3c', '1a'}\n{'2b', 'c3', 'b2', '1a', '3c', 'a1'}\n"
    }
   ],
   "source": [
    "e = set()\n",
    "e.update(['1a', '2b','3c']) #List\n",
    "print(e)\n",
    "e.update(('a1', 'b2','c3')) #tuple\n",
    "print(e)"
   ]
  },
  {
   "source": [
    "set에 저장된 데이터 삭제  \n",
    "~~~python\n",
    ".remove(value)\n",
    "~~~\n",
    "없는걸 요청하면 에러 발생.\n",
    "discard는 에러가 없음\n",
    "~~~python\n",
    ".discard(value)\n",
    "~~~"
   ],
   "cell_type": "markdown",
   "metadata": {}
  },
  {
   "cell_type": "code",
   "execution_count": 31,
   "metadata": {
    "tags": []
   },
   "outputs": [
    {
     "output_type": "stream",
     "name": "stdout",
     "text": "{2, 3, 4}\n{3, 4}\n"
    }
   ],
   "source": [
    "e = {1,2,3,4}\n",
    "e.remove(1) #해당 요소가 있는지 없는지 긴가민가할 때 유용할 듯\n",
    "print(e)\n",
    "#e.remove(2,3) 삭제할 인자 1개만 지원\n",
    "e.discard(2)\n",
    "e.discard(2) #에러표시 없음. 해당 요소가 있든 없든 상관없을 때 유용할 듯\n",
    "print(e)"
   ]
  },
  {
   "source": [
    "---\n",
    "Set 연산자, Method"
   ],
   "cell_type": "markdown",
   "metadata": {}
  },
  {
   "cell_type": "code",
   "execution_count": null,
   "metadata": {},
   "outputs": [],
   "source": [
    "f = {1,2,3,4,5}\n",
    "g = {}"
   ]
  }
 ]
}