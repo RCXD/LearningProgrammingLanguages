{
 "cells": [
  {
   "cell_type": "markdown",
   "metadata": {},
   "source": [
    "# if 명령어 형식\n",
    "if 조건식:  \n",
    "&nbsp;&nbsp;&nbsp;&nbsp;실행 문장  \n",
    "&nbsp;&nbsp;&nbsp;&nbsp;...  \n",
    "else :  \n",
    "&nbsp;&nbsp;&nbsp;&nbsp;실행 문장  \n",
    "&nbsp;&nbsp;&nbsp;&nbsp;...  "
   ]
  },
  {
   "cell_type": "raw",
   "metadata": {},
   "source": [
    "<!--\n",
    "&nbsp;는 공백문자 1개를 의미함.\n",
    "줄넘김은 우측끝에 공백문자 2개\n",
    "-->"
   ]
  },
  {
   "cell_type": "markdown",
   "metadata": {},
   "source": [
    "마크다운 각주 어떻게...?\n",
    "[^scala]\n",
    "[^scala] : 거짓일 때 실행"
   ]
  },
  {
   "cell_type": "code",
   "execution_count": 30,
   "metadata": {
    "scrolled": true
   },
   "outputs": [
    {
     "name": "stdout",
     "output_type": "stream",
     "text": [
      "True\n",
      "False\n",
      "False\n",
      "True\n",
      "-0b10\n",
      "False\n"
     ]
    }
   ],
   "source": [
    "'''\n",
    "관계Operator : < > <= >= == !=\n",
    "논리Operator : &&, || 사용 안함.\n",
    "and, or, not\n",
    "'''\n",
    "print(True or False)\n",
    "print(False and True)\n",
    "\n",
    "#아래는 비트연산!\n",
    "print(False & True) \n",
    "print(bin(0b1010 | 0b1100) \n",
    "print(bin(~0b01))\n",
    "'''\n",
    "print(False || True) #Error\n",
    "'''\n",
    "print(False and True)"
   ]
  },
  {
   "cell_type": "code",
   "execution_count": 9,
   "metadata": {},
   "outputs": [],
   "source": [
    "#연산자 우선순위\n",
    "#unary > binary > trinary?(conditional) > 대입 연산자\n",
    "# 단항 : not, ...\n",
    "# 이항 : ** => *, /, //, % => +, - => 관계 연산자 => 논리 연산자\n",
    "# 조건 : if - else(elif)\n",
    "# 대입 : =, +=, -=, *=, /=, ...(필요시 확인바람?)"
   ]
  },
  {
   "cell_type": "code",
   "execution_count": 15,
   "metadata": {},
   "outputs": [
    {
     "name": "stdout",
     "output_type": "stream",
     "text": [
      "나이를 입력하세요 : 13\n",
      "미성년자입니다.\n"
     ]
    }
   ],
   "source": [
    "age = int(input(\"나이를 입력하세요 : \"))\n",
    "if 50 >= age > 19:\n",
    "    print(\"성인입니다.\")\n",
    "elif 70 > age > 50:\n",
    "    print(\"5070입니다.\")\n",
    "else:\n",
    "    print(\"미성년자입니다.\")\n"
   ]
  },
  {
   "cell_type": "code",
   "execution_count": 22,
   "metadata": {},
   "outputs": [
    {
     "name": "stdout",
     "output_type": "stream",
     "text": [
      "주민등록번호를 숫자만 13자리 입력하세요. : 0198230918209\n",
      "남성\n"
     ]
    }
   ],
   "source": [
    "#주민등록번호 성별확인 코드\n",
    "num = input(\"주민등록번호를 숫자만 13자리 입력하세요. : \")\n",
    "#print(type(num))\n",
    "if num[6] == '1' or '3':\n",
    "    print(\"남성\")\n",
    "elif num[6] == '2' or '4':\n",
    "    print(\"여성\")\n",
    "else:\n",
    "    print(\"입력 오류입니다.\")"
   ]
  },
  {
   "cell_type": "code",
   "execution_count": 26,
   "metadata": {},
   "outputs": [
    {
     "name": "stdout",
     "output_type": "stream",
     "text": [
      "주민등록번호를 숫자만 13자리 입력하세요. : 1908203123123\n",
      "당신의 생일은 2019년 8월 20일 입니다.\n"
     ]
    }
   ],
   "source": [
    "#주민등록번호 생일확인 코드\n",
    "num = input(\"주민등록번호를 숫자만 13자리 입력하세요. : \")\n",
    "#print(type(num))\n",
    "year = num[0:2]\n",
    "month = num[2:4].lstrip('0')\n",
    "day = num[4:6].lstrip('0')\n",
    "\n",
    "#가장 많이 하는 실수 : 문자를 추출해놓고 조건을 숫자로 작성하는 실수\n",
    "if num[6] == '1' or num[6] == '2': \n",
    "    print(f'당신의 생일은 19{year}년 {month}월 {day}일 입니다.')\n",
    "elif num[6] == '3' or num[6] == '4':\n",
    "    print(f'당신의 생일은 20{year}년 {month}월 {day}일 입니다.')\n",
    "else :\n",
    "    print('입력 오류입니다.')"
   ]
  },
  {
   "cell_type": "code",
   "execution_count": null,
   "metadata": {},
   "outputs": [],
   "source": [
    "#숙제 : 홀수/짝수 조건문으로 위 코드 다시 만들기\n",
    "#Footnote 사용법 찾기 https://versusall.tistory.com/entry/Jupyter-Notebook-2-Markdown-tip\n",
    "#lambda https://codechacha.com/ko/python-lambda/\n",
    "#tuple https://wikidocs.net/15"
   ]
  }
 ],
 "metadata": {
  "kernelspec": {
   "display_name": "Python 3",
   "language": "python",
   "name": "python3"
  },
  "language_info": {
   "codemirror_mode": {
    "name": "ipython",
    "version": 3
   },
   "file_extension": ".py",
   "mimetype": "text/x-python",
   "name": "python",
   "nbconvert_exporter": "python",
   "pygments_lexer": "ipython3",
   "version": "3.7.4"
  }
 },
 "nbformat": 4,
 "nbformat_minor": 2
}
