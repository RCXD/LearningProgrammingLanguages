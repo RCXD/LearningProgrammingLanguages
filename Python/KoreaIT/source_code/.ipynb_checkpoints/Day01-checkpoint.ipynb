{
 "cells": [
  {
   "cell_type": "raw",
   "metadata": {},
   "source": [
    "#Date : 20-08-10\n",
    "#Author : CH K\n",
    "#Class : Python Basic\n",
    "#Place : KoreaIT"
   ]
  },
  {
   "cell_type": "code",
   "execution_count": null,
   "metadata": {},
   "outputs": [],
   "source": [
    "#한줄 주석\n",
    "x=1\n",
    "'''\n",
    "여러 줄 주석\n",
    "x=2\n",
    "'''\n",
    "x"
   ]
  },
  {
   "cell_type": "code",
   "execution_count": null,
   "metadata": {},
   "outputs": [],
   "source": [
    "#셀 실행방법\n",
    "#1. 상단 Run키\n",
    "#2. Ctrl+Enter : 셀 실행\n",
    "#3. Shift+Enter : 셀 실행 + 새 셀\n",
    "#3. Alt+Enter : 셀 실행 + 새 셀(?)"
   ]
  },
  {
   "cell_type": "code",
   "execution_count": null,
   "metadata": {},
   "outputs": [],
   "source": [
    "#셀 추가방법\n",
    "#1. Insert > Above, Below\n",
    "#2. 셀 클릭 > A : Above\n",
    "#3. 셀 클릭 > B : Below"
   ]
  },
  {
   "cell_type": "code",
   "execution_count": null,
   "metadata": {},
   "outputs": [],
   "source": [
    "#셀 삭제방법\n",
    "#1. 셀 클릭 > DD\n",
    "#한번에 삭제\n",
    "#1. 셀 클릭 > Shift + 방향키 > "
   ]
  },
  {
   "cell_type": "code",
   "execution_count": null,
   "metadata": {},
   "outputs": [],
   "source": [
    "#출력창 정리\n",
    "#1. Cell > Alloutput > Clear"
   ]
  },
  {
   "cell_type": "code",
   "execution_count": null,
   "metadata": {},
   "outputs": [],
   "source": [
    "#자동완성 기능\n",
    "#1. Tab키 누르고 클릭"
   ]
  },
  {
   "cell_type": "code",
   "execution_count": null,
   "metadata": {},
   "outputs": [],
   "source": [
    "#print\n",
    "print()\n",
    "#녹색 : Reserved words > 녹색 맞나?"
   ]
  },
  {
   "cell_type": "code",
   "execution_count": null,
   "metadata": {},
   "outputs": [],
   "source": [
    "'hello world'\n",
    "print('hello','world') #sep=' ', end='\\n'\n",
    "print('hello','world',sep=' ')\n",
    "#''와 \"\"의 차이는, ''를 문자열로 출력하고 싶을 땐 \"\"를 사용하고 ''를 문자열로 출력하고 싶을 땐 \"\"를 사용한다.\n",
    "print('hello',\"world'?'\",sep='\"\"')\n",
    "#또는 \\\", \\'를 이용\n",
    "print('hello \\\"world\\\"')\n",
    "#라인 구분자 편집 : end=..., 원소 구분자 편집 : sep=...\n",
    "print('hello','world', end = \"  \", sep = \"\\n\\n\")\n",
    "print('헬로')\n",
    "print('헬'+'로',sep='+')  #seperator 없음\n",
    "print('헬','로',sep='+')  #seperator 있음"
   ]
  },
  {
   "cell_type": "code",
   "execution_count": null,
   "metadata": {},
   "outputs": [],
   "source": [
    "#k = [1,2,3]\n",
    "for i in [1,2,3]:\n",
    "    print('hello',i, sep='',end='')"
   ]
  },
  {
   "cell_type": "code",
   "execution_count": null,
   "metadata": {},
   "outputs": [],
   "source": [
    "#String multiplification\n",
    "print('a'*3)\n",
    "print('='*20)"
   ]
  },
  {
   "cell_type": "markdown",
   "metadata": {},
   "source": [
    "%, 서식문자"
   ]
  },
  {
   "cell_type": "code",
   "execution_count": null,
   "metadata": {},
   "outputs": [],
   "source": [
    "#서식문자(Format specifier)\n",
    "#%d(integer), %f(floating point), %s(string)\n",
    "#%[-][0][n][.m] => [] : Option.\n",
    "#- : 왼쪽정렬\n",
    "#0 : 빈자리에 0채우기. 단, string은 무시.(java는 에러, c는 0 표기한다고...)\n",
    "print('1'+'%05s'%'ab')\n",
    "#n : 자리수 정의\n",
    "#.m : 소수점 자리수 정의"
   ]
  },
  {
   "cell_type": "code",
   "execution_count": null,
   "metadata": {
    "scrolled": true
   },
   "outputs": [],
   "source": [
    "print(100)\n",
    "print(1)\n",
    "print(100000)\n",
    "\n",
    "print('%6d' % 100)\n",
    "print('%6d' % 1)\n",
    "print('%6d' % 100000)\n",
    "\n",
    "print('%-6d' % 100)\n",
    "print('%-6d' % 1)\n",
    "print('%-6d' % 100000)\n",
    "\n",
    "print('%06d' % 100)\n",
    "print('%06d' % 1)\n",
    "print('%06d' % 100000)\n",
    "\n",
    "print('%-06d' % 100)\n",
    "print('%-06d' % 1)\n",
    "print('%-06d' % 100000)"
   ]
  },
  {
   "cell_type": "code",
   "execution_count": null,
   "metadata": {},
   "outputs": [],
   "source": [
    "# 0으로 시작하는 숫자를 다룰 때 format specifier를 이용할 수 있다.\n",
    "#010-1234-0678\n",
    "a = 10\n",
    "b = 1234\n",
    "c = 678\n",
    "print('%03d'%a,'%04d'%b, '%04d'%c, sep='-')"
   ]
  },
  {
   "cell_type": "code",
   "execution_count": null,
   "metadata": {},
   "outputs": [],
   "source": [
    "#실수 표시\n",
    "a = 34.359\n",
    "b = 34.439\n",
    "#필요 자릿수 : 6개(점 포함) ... %n는 정수자릿수를 표현하는게 아니다. 전체 '문자열' 자릿수.\n",
    "print('%2.3f'%a)\n",
    "print('%1.1f'%a) #잘라낸것은 반올림된다. 버림이 아님.\n",
    "print('%1.1f'%b)\n",
    "print('%5f'%a)\n",
    "print('%8.3f'%a)"
   ]
  },
  {
   "cell_type": "code",
   "execution_count": 94,
   "metadata": {
    "scrolled": true
   },
   "outputs": [
    {
     "name": "stdout",
     "output_type": "stream",
     "text": [
      "1 2\n"
     ]
    }
   ],
   "source": [
    "#2개 이상의 데이터에 대한 서식 : 반드시 %( , , ...) 사용\n",
    "print('%d %s' %(1, '2'))"
   ]
  },
  {
   "cell_type": "code",
   "execution_count": 121,
   "metadata": {},
   "outputs": [
    {
     "name": "stdout",
     "output_type": "stream",
     "text": [
      "10 + 3 = 13\n",
      "10 - 3 = 7\n",
      "10 * 3 = 30\n",
      "10 / 3 = 3.333333\n",
      "10 // 3 = 3.000000\n",
      "10 % 3 = 1.000000\n",
      "10^3 = 1000\n",
      "root10 3 = 3.162278\n",
      "10 rem 3 = 0.000000\n"
     ]
    }
   ],
   "source": [
    "#Operator, print Operator\n",
    "a = 10\n",
    "b = 3\n",
    "def rem(x, y):\n",
    "    z = x % y\n",
    "    z\n",
    "\n",
    "print(\"%d + %d = %d\" % (a, b, a+b))\n",
    "print(\"%d - %d = %d\" % (a, b, a-b))\n",
    "print(\"%d * %d = %d\" % (a, b, a*b))\n",
    "\n",
    "print(\"%d / %d = %f\" % (a, b, a/b)) # 나눗셈\n",
    "print(\"%d // %d = %f\" %(a, b, a//b)) # 몫 계산\n",
    "print(\"%d %% %d = %f\" %(a, b, a%b)) #%를 출력하려면 \\%가 아니라, %%이다! => C, java, Python 공통\n",
    "print(\"%d^%d = %d\" %(a, b, a**b)) #거듭제곱\n",
    "print(\"root%d %d = %f\" %(a, b, a**0.5)) #제곱근\n",
    "\n",
    "#print(\"%d rem %d = %f\" % (a, b, a-b*a//b)) #나머지구하는 수식 디버깅좀...."
   ]
  },
  {
   "cell_type": "code",
   "execution_count": 97,
   "metadata": {},
   "outputs": [
    {
     "data": {
      "text/plain": [
       "0"
      ]
     },
     "execution_count": 97,
     "metadata": {},
     "output_type": "execute_result"
    }
   ],
   "source": [
    "a=1\n",
    "b=2\n",
    "b%a"
   ]
  }
 ],
 "metadata": {
  "kernelspec": {
   "display_name": "Python 3",
   "language": "python",
   "name": "python3"
  },
  "language_info": {
   "codemirror_mode": {
    "name": "ipython",
    "version": 3
   },
   "file_extension": ".py",
   "mimetype": "text/x-python",
   "name": "python",
   "nbconvert_exporter": "python",
   "pygments_lexer": "ipython3",
   "version": "3.7.4"
  }
 },
 "nbformat": 4,
 "nbformat_minor": 2
}
