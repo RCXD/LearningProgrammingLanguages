{
 "metadata": {
  "language_info": {
   "codemirror_mode": {
    "name": "ipython",
    "version": 3
   },
   "file_extension": ".py",
   "mimetype": "text/x-python",
   "name": "python",
   "nbconvert_exporter": "python",
   "pygments_lexer": "ipython3",
   "version": "3.8.5-final"
  },
  "orig_nbformat": 2,
  "kernelspec": {
   "name": "python_defaultSpec_1601032680625",
   "display_name": "Python 3.8.5 64-bit"
  }
 },
 "nbformat": 4,
 "nbformat_minor": 2,
 "cells": [
  {
   "source": [
    "함수의 구조\n",
    "~~~\n",
    "def 함수 이름([인수, ...])\n",
    "    실행문\n",
    "    ...\n",
    "    [return 함수의 실행 결과]\n",
    "    # []는 생략가능\n",
    "~~~"
   ],
   "cell_type": "markdown",
   "metadata": {}
  },
  {
   "source": [
    "프로그램 실행 순서   \n",
    "프로그램에 함수가 호출되면 호출된 함수로 제어가 넘어감(?) => 복귀 주소는 스택에 저장  \n",
    "호출된 함수에서 정의한 기능을 모두 실행 한 후 함수가 종료되거나 return을 만나면  \n",
    "함수가 호출된 곳으로 스택에 저장된 복귀 주소를 참조해서 돌아감  \n",
    "return값을 반환, 없으면 None 반환  "
   ],
   "cell_type": "markdown",
   "metadata": {}
  },
  {
   "source": [
    "가장 일반적인 함수의 모양  \n",
    "a, b 2개의 데이터를 인수로 넘겨받아 덧셈을 실행한 후 결과를 return 하는 함수  "
   ],
   "cell_type": "markdown",
   "metadata": {}
  },
  {
   "cell_type": "code",
   "execution_count": 10,
   "metadata": {
    "tags": []
   },
   "outputs": [
    {
     "output_type": "stream",
     "name": "stdout",
     "text": "가인수 = 999, 2\n3\n"
    }
   ],
   "source": [
    "def add(a,b):\n",
    "    result = a+b\n",
    "    a = 999\n",
    "    print(f'가인수 = {a}, {b}') #가인수는 연산에 관여하지 않으면 return과 함께 초기화됨\n",
    "    return result\n",
    "print(add(1,2))"
   ]
  },
  {
   "cell_type": "code",
   "execution_count": 11,
   "metadata": {
    "tags": []
   },
   "outputs": [
    {
     "output_type": "stream",
     "name": "stdout",
     "text": "실인수 = 1, 3\n가인수 = 999, 3\n4\n"
    }
   ],
   "source": [
    "a, b = map(int, input('정수 2개 입력: ').split()) #split => 공백(?)으로 구분된 문자열을 리스트로 만들어줌\n",
    "#함수를 호출 할 때 호출할 함수의 이름을 적으면 됨.\n",
    "#()안에 적어주는 인수의 개수만 일치하면 됨\n",
    "print(f'실인수 = {a}, {b}')\n",
    "print(add(a,b))"
   ]
  },
  {
   "source": [
    "---\n",
    "인수가 없는 함수, 함수가 처리할 데이터를 받지 않는 함수"
   ],
   "cell_type": "markdown",
   "metadata": {}
  },
  {
   "cell_type": "code",
   "execution_count": 15,
   "metadata": {
    "tags": []
   },
   "outputs": [
    {
     "output_type": "stream",
     "name": "stdout",
     "text": "func1() 함수가 실행됩니다. -1\nfunc1() 함수가 실행됩니다. -2\n"
    }
   ],
   "source": [
    "def func1():\n",
    "    print('func1() 함수가 실행됩니다. -1')\n",
    "    #return을 만나면 호출된곳으로 돌아감\n",
    "    return 'func1() 함수가 실행됩니다. -2'\n",
    "print(func1())"
   ]
  },
  {
   "cell_type": "code",
   "execution_count": 24,
   "metadata": {
    "tags": []
   },
   "outputs": [
    {
     "output_type": "stream",
     "name": "stdout",
     "text": "1 + 2 = 3\n"
    }
   ],
   "source": [
    "#python은 함수 오버로딩이 지원되지 않는다!!\n",
    "#단, 효과를 낼 수 있다.\n",
    "def func2(a, b): #return이 없는 함수\n",
    "    print('{} + {} = {}'.format(a, b, a+b))\n",
    "\n",
    "\"\"\" 파이썬 함수 오버로딩 : 지원되지 않음. 나중에 만든걸로 \"덮어쓰기\"된다.(재정의 개념)\n",
    "def func2(a,b,c):\n",
    "    print('{}+{}+{} = {}'.format(a,b,c,a+b+c))\n",
    "\"\"\"\n",
    "\n",
    "func2(1, 2)\n",
    "#func2(1, 2, 3)"
   ]
  },
  {
   "cell_type": "code",
   "execution_count": 25,
   "metadata": {
    "tags": []
   },
   "outputs": [
    {
     "output_type": "stream",
     "name": "stdout",
     "text": "1+3 = 4\n"
    }
   ],
   "source": [
    "# python 함수 오버로딩 효과내기\n",
    "def func2(a, b):\n",
    "    print(f'{a}+{b} = {a+b}')\n",
    "\n",
    "func2(1,3)"
   ]
  },
  {
   "source": [
    "---\n",
    "인수를 지정해서 함수 호출"
   ],
   "cell_type": "markdown",
   "metadata": {}
  },
  {
   "cell_type": "code",
   "execution_count": 34,
   "metadata": {
    "tags": []
   },
   "outputs": [
    {
     "output_type": "stream",
     "name": "stdout",
     "text": "100+200+300 = 600\n100+200+300 = 600\n100+200+300 = 600\n"
    }
   ],
   "source": [
    "def func3(a,b,c):\n",
    "    print(f'{a}+{b}+{c} = {a+b+c}')\n",
    "#데이터가 전달될 인수를 지정하지 않으면 처음부터 차례대로 데이터가 함수에 전달\n",
    "func3(100, 200, 300)\n",
    "func3(a = 100, b = 200, c = 300) #명시적으로 인수 전달하기\n",
    "func3(a = 100, c = 300, b = 200) #명시적으로 전달하면 순서를 무시할 수 있다. \n",
    "                                 #즉, 함수 정의문에서 정한 인수 이름도 중요하다.\n",
    "                                 #가인수목록에 없는걸 전달하면 에러남(가인수 : 정의문의 인수)\n",
    "\n",
    "\n"
   ]
  },
  {
   "source": [
    "Default 인수\n",
    "- 이걸로 오버로딩 효과를 내나?  \n",
    "\n",
    "Default 인수를 사용하는 함수  \n",
    "- 형식: 변수이름 = default값\n",
    "- 함수가 호출될 때 받은 인수로 함수를 실행 / 받은 인수가 없다면 디폴트로 지정된 데이터로 함수 실행\n"
   ],
   "cell_type": "markdown",
   "metadata": {}
  },
  {
   "cell_type": "code",
   "execution_count": 39,
   "metadata": {
    "tags": []
   },
   "outputs": [
    {
     "output_type": "stream",
     "name": "stdout",
     "text": "55\n5050\n"
    }
   ],
   "source": [
    "def func4(n=100): #n=100으로 디폴트 지정\n",
    "    total = 0\n",
    "    for i in range(1, n+1):\n",
    "        total += i\n",
    "    return total\n",
    "\n",
    "print(func4(n=10))\n",
    "print(func4()) #n=100 디폴트 실행"
   ]
  },
  {
   "cell_type": "code",
   "execution_count": 45,
   "metadata": {
    "tags": []
   },
   "outputs": [
    {
     "output_type": "stream",
     "name": "stdout",
     "text": "8 + 6 + 14\n9 + 6 + 15\n8 + 9 + 17\n"
    }
   ],
   "source": [
    "def func5(a=8, b=6):\n",
    "    print(f'{a} + {b} + {a+b}')\n",
    "\n",
    "func5()\n",
    "func5(9) #앞에꺼만 바뀜\n",
    "#func5(,9) #이런건 안된다.\n",
    "func5(b=9) #순서가 문제가 있다면, 반드시 인수를 지정해줘야 한다."
   ]
  },
  {
   "source": [
    "가변인자 함수  \n",
    "- 인수의 개수가 가변적\n",
    "- 가변인자는 '*변수이름' ... 포인터가 아니다.\n",
    "- 가변인자는 맨 마지막에 딱 1번만 사용할 수 있다(? 2개도 본적 있는거 같은데)\n",
    "    - 혹시 **는 무엇인가?"
   ],
   "cell_type": "markdown",
   "metadata": {}
  },
  {
   "cell_type": "code",
   "execution_count": 51,
   "metadata": {
    "tags": []
   },
   "outputs": [
    {
     "output_type": "stream",
     "name": "stdout",
     "text": "<class 'tuple'>\n(1,)\n1\n1\n<class 'tuple'>\n(1, 2)\n3\n<class 'tuple'>\n(1, 2, 3, 4, 5)\n15\n"
    }
   ],
   "source": [
    "def func6(*args):\n",
    "    print(type(args))\n",
    "    print(args)\n",
    "    total = 0\n",
    "    for arg in args:\n",
    "        total += arg\n",
    "    print(total)\n",
    "\n",
    "def func6_1(*a): #가변인자 이름이 정해진건 아님\n",
    "    total = 0\n",
    "    for arg in a:\n",
    "        total += arg\n",
    "    print(total)\n",
    "\n",
    "func6(1) #기본적으로 원소 1개인 튜플로 입력된다.\n",
    "func6_1(1)\n",
    "\n",
    "func6(1, 2) #튜플로 전달된다.\n",
    "#1~2가지 알아서 합해졌음. 변수가 튜플이 될 것을 예상하고 잘 작성해야함.\n",
    "func6(1,2,3,4,5) #알아서 확장됨"
   ]
  },
  {
   "cell_type": "code",
   "execution_count": 53,
   "metadata": {},
   "outputs": [
    {
     "output_type": "error",
     "ename": "SyntaxError",
     "evalue": "invalid syntax (<ipython-input-53-5eacf21609ce>, line 1)",
     "traceback": [
      "\u001b[1;36m  File \u001b[1;32m\"<ipython-input-53-5eacf21609ce>\"\u001b[1;36m, line \u001b[1;32m1\u001b[0m\n\u001b[1;33m    def func6(*a *args): #error 발생\u001b[0m\n\u001b[1;37m                 ^\u001b[0m\n\u001b[1;31mSyntaxError\u001b[0m\u001b[1;31m:\u001b[0m invalid syntax\n"
     ]
    }
   ],
   "source": [
    "def func6(*a *args): #invalid syntax\n",
    "    total = 0\n",
    "    for arg in args:\n",
    "        total += arg\n",
    "    print(total)\n",
    "    #인자가 몇개든 받을 수 있다.\n",
    "    #단, 가변인자는 1개만 쓸 수 있다.\n",
    "    #다른 프로그래밍언어도 가변인자가 있다."
   ]
  }
 ]
}