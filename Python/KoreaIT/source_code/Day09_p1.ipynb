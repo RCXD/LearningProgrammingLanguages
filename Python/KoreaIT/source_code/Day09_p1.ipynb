{
 "metadata": {
  "language_info": {
   "codemirror_mode": {
    "name": "ipython",
    "version": 3
   },
   "file_extension": ".py",
   "mimetype": "text/x-python",
   "name": "python",
   "nbconvert_exporter": "python",
   "pygments_lexer": "ipython3",
   "version": "3.7.9-final"
  },
  "orig_nbformat": 2,
  "kernelspec": {
   "name": "Python 3.7.9 64-bit",
   "display_name": "Python 3.7.9 64-bit",
   "metadata": {
    "interpreter": {
     "hash": "450770b194ad3c526d72e78f0fffc46d9f199ddffc77daa2aadce905eb3548da"
    }
   }
  }
 },
 "nbformat": 4,
 "nbformat_minor": 2,
 "cells": [
  {
   "source": [
    "python lecture day 09  \n",
    "Subject : date time / 날짜, 시간 모듈  \n",
    "Place : KoreaIT (Cafe, online)  \n",
    "\n",
    "날짜, 시간 모듈 활용해서 달력 만들기\n",
    "\n",
    "now()로 현재시간 불러오기"
   ],
   "cell_type": "markdown",
   "metadata": {}
  },
  {
   "cell_type": "code",
   "execution_count": 4,
   "metadata": {
    "tags": []
   },
   "outputs": [
    {
     "output_type": "stream",
     "name": "stdout",
     "text": "2020-10-05 19:06:36.726517\n&lt;class &#39;datetime.datetime&#39;&gt;\n"
    }
   ],
   "source": [
    "#from time import time, localtime\n",
    "import datetime\n",
    "now = datetime.datetime.now()\n",
    "print(now)\n",
    "print(type(now)) #자료형도 결국 클래스인가.."
   ]
  },
  {
   "cell_type": "code",
   "execution_count": 8,
   "metadata": {
    "tags": []
   },
   "outputs": [
    {
     "output_type": "stream",
     "name": "stdout",
     "text": "2020-10-05 19:08:40.770319\n"
    }
   ],
   "source": [
    "from datetime import datetime\n",
    "now = datetime.now()\n",
    "print(now)"
   ]
  },
  {
   "source": [
    "모듈 내부 패키지? 불러오기"
   ],
   "cell_type": "markdown",
   "metadata": {}
  },
  {
   "cell_type": "code",
   "execution_count": 11,
   "metadata": {
    "tags": []
   },
   "outputs": [
    {
     "output_type": "stream",
     "name": "stdout",
     "text": "2020-10-05 19:09:30.954092\n"
    }
   ],
   "source": [
    "from datetime import datetime as dt\n",
    "now = dt.now()\n",
    "print(now)"
   ]
  },
  {
   "cell_type": "code",
   "execution_count": 20,
   "metadata": {},
   "outputs": [
    {
     "output_type": "error",
     "ename": "TypeError",
     "evalue": "&#39;datetime.datetime&#39; object is not callable",
     "traceback": [
      "\u001b[1;31m---------------------------------------------------------------------------\u001b[0m",
      "\u001b[1;31mTypeError\u001b[0m                                 Traceback (most recent call last)",
      "\u001b[1;32m&lt;ipython-input-20-f60db78939c0&gt;\u001b[0m in \u001b[0;36m&lt;module&gt;\u001b[1;34m\u001b[0m\n\u001b[0;32m      2\u001b[0m \u001b[1;31m#import datetime.datetime.now\u001b[0m\u001b[1;33m\u001b[0m\u001b[1;33m\u001b[0m\u001b[1;33m\u001b[0m\u001b[0m\n\u001b[0;32m      3\u001b[0m \u001b[1;34m&quot;&quot;&quot;내부에 있는건 깔끔하게 못가져오나???&quot;&quot;&quot;\u001b[0m\u001b[1;33m\u001b[0m\u001b[1;33m\u001b[0m\u001b[0m\n\u001b[1;32m----&gt; 4\u001b[1;33m \u001b[0mnow\u001b[0m \u001b[1;33m=\u001b[0m \u001b[0mnow\u001b[0m\u001b[1;33m(\u001b[0m\u001b[1;33m)\u001b[0m\u001b[1;33m\u001b[0m\u001b[1;33m\u001b[0m\u001b[0m\n\u001b[0m\u001b[0;32m      5\u001b[0m \u001b[0mprint\u001b[0m\u001b[1;33m(\u001b[0m\u001b[0mnow\u001b[0m\u001b[1;33m)\u001b[0m\u001b[1;33m\u001b[0m\u001b[1;33m\u001b[0m\u001b[0m\n",
      "\u001b[1;31mTypeError\u001b[0m: &#39;datetime.datetime&#39; object is not callable"
     ]
    }
   ],
   "source": [
    "#from datetime.datetime import datetime\n",
    "#import datetime.datetime.now\n",
    "\"\"\"내부에 있는건 깔끔하게 못가져오나???\"\"\"\n",
    "now = now()\n",
    "print(now)"
   ]
  },
  {
   "source": [
    "now 클래스에서 지원하는 매소드, 클래스변수(??)들.\n",
    "클래스변수 이름이 뭐더라?"
   ],
   "cell_type": "markdown",
   "metadata": {}
  },
  {
   "cell_type": "code",
   "execution_count": 24,
   "metadata": {
    "tags": []
   },
   "outputs": [
    {
     "output_type": "stream",
     "name": "stdout",
     "text": "년 : 2020\n월 : 10\n일 : 5\n시 : 19\n분 : 9\n초 : 30\n마이크로초 : 954092\n밀리초 : 954\n요일 : 0\n"
    }
   ],
   "source": [
    "print(f'년 : {now.year}')\n",
    "print(f'월 : {now.month}')\n",
    "print(f'일 : {now.day}') #java에서는 date가 날짜다. day는 요일임.\n",
    "print(f'시 : {now.hour}')\n",
    "print(f'분 : {now.minute}')\n",
    "print(f'초 : {now.second}')\n",
    "print(f'마이크로초 : {now.microsecond}')\n",
    "print(f'밀리초 : {now.microsecond//1000}')\n",
    "# weekday() 메소드로 요일을 숫자로 얻어올 수 있다.\n",
    "# 자바랑 다르게, 월요일(0), 화요일(1), ... 일요일(6)이다.\n",
    "# 그냥 월요일을 0부터 센다고 생각하면 될 듯.\n",
    "\n",
    "print(f'요일 : {now.weekday()}')\n",
    "\n"
   ]
  },
  {
   "cell_type": "code",
   "execution_count": 35,
   "metadata": {
    "tags": []
   },
   "outputs": [
    {
     "output_type": "stream",
     "name": "stdout",
     "text": "============================\n         2020년10월\n============================\n 일  월  화  수  목  금  토 \n============================\n                  1   2   3 \n  4   5   6   7   8   9  10 \n 11  12  13  14  15  16  17 \n 18  19  20  21  22  23  24 \n 25  26  27  28  29  30  31 \n============================\n"
    }
   ],
   "source": [
    "import Day08_calendar as cal\n",
    "#수동입력 없이 자동으로 그 달 달력 확인하기\n",
    "from datetime import datetime as dt\n",
    "now = dt.now()\n",
    "year = now.year\n",
    "month = now.month\n",
    "#year, month = map(int, input('달력을 출력할 년, 월을 입력하세요 :').split())\n",
    "print('=' * 28)\n",
    "print('         {0:4d}년{1:2d}월'.format(year, month))\n",
    "print('=' * 28)\n",
    "print(' 일  월  화  수  목  금  토 ')\n",
    "print('=' * 28)\n",
    "\n",
    "\n",
    "for i in range(0, cal.weekDay(year, month, 1)):\n",
    "    print('    ', end = '')\n",
    "\n",
    "for i in range(1, cal.lastDay(year, month) + 1):\n",
    "    print(' {0:2d} '.format(i), end='')\n",
    "    #출력한 날짜가 토요일이면 줄바꿈\n",
    "    if (cal.weekDay(year, month, i) == 6) and i != cal.lastDay(year, month):\n",
    "        print()\n",
    "print('\\n'+'='*28)"
   ]
  },
  {
   "source": [
    "입력으로 원하는 달력 만들기"
   ],
   "cell_type": "markdown",
   "metadata": {}
  },
  {
   "cell_type": "code",
   "execution_count": 4,
   "metadata": {
    "tags": []
   },
   "outputs": [
    {
     "output_type": "stream",
     "name": "stdout",
     "text": "============================\n         2023년 9월\n============================\n 일  월  화  수  목  금  토 \n============================\n                      1   2 \n  3   4   5   6   7   8   9 \n 10  11  12  13  14  15  16 \n 17  18  19  20  21  22  23 \n 24  25  26  27  28  29  30 \n============================\n"
    }
   ],
   "source": [
    "import Day08_calendar as cal\n",
    "from datetime import datetime as dt\n",
    "\n",
    "#year, month = map(int, input('원하는 달력의 증감치(연, 월) 입력 :').split())\n",
    "\n",
    "menu = input('이번달 => 1, 특정달 => 2 : ')\n",
    "\n",
    "if menu == '1': #입력받을때 무조건 자료형 조심하자!!!\n",
    "    now = dt.now()\n",
    "    year = now.year\n",
    "    month = now.month\n",
    "if menu == '2':\n",
    "    year, month = map(int, input('달력을 출력할 년, 월을 입력하세요 :').split())\n",
    "\n",
    "print('=' * 28)\n",
    "print('         {0:4d}년{1:2d}월'.format(year, month))\n",
    "print('=' * 28)\n",
    "print(' 일  월  화  수  목  금  토 ')\n",
    "print('=' * 28)\n",
    "\n",
    "\n",
    "for i in range(0, cal.weekDay(year, month, 1)):\n",
    "    print('    ', end = '')\n",
    "\n",
    "for i in range(1, cal.lastDay(year, month) + 1):\n",
    "    print(' {0:2d} '.format(i), end='')\n",
    "    #출력한 날짜가 토요일이면 줄바꿈\n",
    "    if (cal.weekDay(year, month, i) == 6) and i != cal.lastDay(year, month):\n",
    "        print()\n",
    "print('\\n'+'='*28)"
   ]
  },
  {
   "cell_type": "code",
   "execution_count": null,
   "metadata": {},
   "outputs": [],
   "source": []
  }
 ]
}