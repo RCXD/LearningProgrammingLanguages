{
 "metadata": {
  "language_info": {
   "codemirror_mode": {
    "name": "ipython",
    "version": 3
   },
   "file_extension": ".py",
   "mimetype": "text/x-python",
   "name": "python",
   "nbconvert_exporter": "python",
   "pygments_lexer": "ipython3",
   "version": "3.8.5-final"
  },
  "orig_nbformat": 2,
  "kernelspec": {
   "name": "python_defaultSpec_1600684333580",
   "display_name": "Python 3.8.5 64-bit"
  }
 },
 "nbformat": 4,
 "nbformat_minor": 2,
 "cells": [
  {
   "source": [
    "리스트(List) 만들기  \n",
    "데이터를 []로 감싸고 데이터를 ','로 구분  \n",
    "java의 Array List와 비슷하다고 함.  "
   ],
   "cell_type": "markdown",
   "metadata": {}
  },
  {
   "cell_type": "code",
   "execution_count": 1,
   "metadata": {
    "tags": []
   },
   "outputs": [
    {
     "output_type": "stream",
     "name": "stdout",
     "text": "[1, 3, 5, 7, 9]\n<class 'list'>\n"
    }
   ],
   "source": [
    "odd = [1, 3, 5, 7, 9]\n",
    "print(odd)\n",
    "print(type(odd))"
   ]
  },
  {
   "source": [
    "---\n",
    "빈 리스트 만들기  \n",
    "- **빈 리스트**는 생성자 함수를 이용해서도 만들 수 있다."
   ],
   "cell_type": "markdown",
   "metadata": {}
  },
  {
   "cell_type": "code",
   "execution_count": 132,
   "metadata": {
    "tags": []
   },
   "outputs": [
    {
     "output_type": "stream",
     "name": "stdout",
     "text": "[]\n<class 'list'>\n[]\n<class 'list'>\n"
    },
    {
     "output_type": "error",
     "ename": "TypeError",
     "evalue": "list expected at most 1 argument, got 3",
     "traceback": [
      "\u001b[1;31m---------------------------------------------------------------------------\u001b[0m",
      "\u001b[1;31mTypeError\u001b[0m                                 Traceback (most recent call last)",
      "\u001b[1;32m<ipython-input-132-55e65eb2c5e7>\u001b[0m in \u001b[0;36m<module>\u001b[1;34m\u001b[0m\n\u001b[0;32m      8\u001b[0m \u001b[0mc1\u001b[0m \u001b[1;33m=\u001b[0m \u001b[0mlist\u001b[0m\u001b[1;33m(\u001b[0m\u001b[1;33m(\u001b[0m\u001b[1;34m'apple'\u001b[0m\u001b[1;33m,\u001b[0m \u001b[1;34m'berry'\u001b[0m\u001b[1;33m,\u001b[0m \u001b[1;34m'choco'\u001b[0m\u001b[1;33m)\u001b[0m\u001b[1;33m)\u001b[0m \u001b[1;31m#튜플을 넣어서 만들거나\u001b[0m\u001b[1;33m\u001b[0m\u001b[1;33m\u001b[0m\u001b[0m\n\u001b[0;32m      9\u001b[0m \u001b[0mc2\u001b[0m \u001b[1;33m=\u001b[0m \u001b[0mlist\u001b[0m\u001b[1;33m(\u001b[0m\u001b[1;33m[\u001b[0m\u001b[1;34m'apple'\u001b[0m\u001b[1;33m,\u001b[0m \u001b[1;34m'berry'\u001b[0m\u001b[1;33m,\u001b[0m \u001b[1;34m'choco'\u001b[0m\u001b[1;33m]\u001b[0m\u001b[1;33m)\u001b[0m \u001b[1;31m#리스트를 넣어서 만든다. 다른 리스트를 넣어도 됨.\u001b[0m\u001b[1;33m\u001b[0m\u001b[1;33m\u001b[0m\u001b[0m\n\u001b[1;32m---> 10\u001b[1;33m \u001b[0mc3\u001b[0m \u001b[1;33m=\u001b[0m \u001b[0mlist\u001b[0m\u001b[1;33m(\u001b[0m\u001b[1;34m'a'\u001b[0m\u001b[1;33m,\u001b[0m \u001b[1;34m'b'\u001b[0m\u001b[1;33m,\u001b[0m \u001b[1;34m'c'\u001b[0m\u001b[1;33m)\u001b[0m\u001b[1;33m\u001b[0m\u001b[1;33m\u001b[0m\u001b[0m\n\u001b[0m\u001b[0;32m     11\u001b[0m \u001b[0mprint\u001b[0m\u001b[1;33m(\u001b[0m\u001b[0mc1\u001b[0m\u001b[1;33m,\u001b[0m \u001b[0mc2\u001b[0m\u001b[1;33m)\u001b[0m\u001b[1;33m\u001b[0m\u001b[1;33m\u001b[0m\u001b[0m\n",
      "\u001b[1;31mTypeError\u001b[0m: list expected at most 1 argument, got 3"
     ]
    }
   ],
   "source": [
    "a = []\n",
    "print(a)\n",
    "print(type(a))\n",
    "b = list() #생성자 함수\n",
    "print(b)\n",
    "print(type(b))\n",
    "\n",
    "c1 = list(('apple', 'berry', 'choco')) #튜플을 넣어서 만들거나\n",
    "c2 = list(['apple', 'berry', 'choco']) #리스트를 넣어서 만든다. 다른 리스트를 넣어도 됨.\n",
    "#c3 = list('a', 'b', 'c') #다인자를 받을 수 없음.\n",
    "print(c1, c2)"
   ]
  },
  {
   "cell_type": "code",
   "execution_count": 12,
   "metadata": {
    "tags": []
   },
   "outputs": [
    {
     "output_type": "stream",
     "name": "stdout",
     "text": "[1, 2, 3] ['a', 'b', 'c', 'd'] [1, 2, 'a', 'b'] [1, [[1, 2], []], 3]\n"
    }
   ],
   "source": [
    "c = [1, 2, 3]\n",
    "d = ['a', 'b', 'c', 'd']\n",
    "e = [1, 2, 'a', 'b'] #자료형을 가리지 않음\n",
    "f = [1, [[1, 2,], [], ], 3]\n",
    "print (c, d, e, f)"
   ]
  },
  {
   "source": [
    "---\n",
    "List indexing, Slicing"
   ],
   "cell_type": "markdown",
   "metadata": {}
  },
  {
   "cell_type": "code",
   "execution_count": 21,
   "metadata": {
    "tags": []
   },
   "outputs": [
    {
     "output_type": "stream",
     "name": "stdout",
     "text": "[10, 20, 30, ['a', 'b', 'c']]\n10\n['a', 'b', 'c']\n40\n4\nb\n['a', 'b', 'c']\n"
    }
   ],
   "source": [
    "a = [10, 20, 30, ['a','b','c']]\n",
    "print(a)\n",
    "print(a[0]) #indexingdms 0부터 센다.\n",
    "print(a[-1]) #마지막은 -1부터 센다.\n",
    "print(a[0]+a[-2]) #단, 범위 초과하면 안됨. 리스트와 숫자는 덧셈연산할 수 없음\n",
    "print(len(a)) #길이 재기. '차원'의 개수만 센다. 개수 세는건 0부터 세지 않음.\n",
    "print(a[3][1])\n",
    "print(a[-1])"
   ]
  },
  {
   "cell_type": "code",
   "execution_count": 23,
   "metadata": {
    "tags": []
   },
   "outputs": [
    {
     "output_type": "stream",
     "name": "stdout",
     "text": "life\n3\n3\n2\n"
    }
   ],
   "source": [
    "c = [10,20,['a','b',['life','is']]]\n",
    "print(c[2][2][0])\n",
    "print(len(c))\n",
    "print(len(c[2]))\n",
    "print(len(c[2][2]))"
   ]
  },
  {
   "source": [
    "리스트 Slicing  \n",
    "~~~\n",
    "listname[start:stop:step]\n",
    "~~~\n",
    "\n",
    "start의 포인터와 stop의 포인터가 어디인지 상상할 줄 알아야 한다.\n",
    "\n",
    "[Reference](https://www.learnbyexample.org/python-list-slicing/)"
   ],
   "cell_type": "markdown",
   "metadata": {}
  },
  {
   "cell_type": "code",
   "execution_count": 76,
   "metadata": {
    "tags": []
   },
   "outputs": [
    {
     "output_type": "stream",
     "name": "stdout",
     "text": "10\n[10]\n[10, 20, 30]\n[40, 50]\n[10, 20, 30, 40, 50]\n[10, 20, 30, 40, 50]\n[10, 20, 30, 40, 50]\n"
    }
   ],
   "source": [
    "d = [10, 20, 30, 40, 50]\n",
    "print(d[0]) #indexing\n",
    "print(d[0:1]) #0부터 1까지 : 0번 한개만\n",
    "print(d[:3]) \n",
    "print(d[3:]) \n",
    "print(d[:]) #시작점, 끝점 기본값은 0, 맽끝\n",
    "print(d[None:None]) #비우는건 None과 같다\n",
    "print(d)"
   ]
  },
  {
   "source": [
    "리스트 연산자"
   ],
   "cell_type": "markdown",
   "metadata": {}
  },
  {
   "cell_type": "code",
   "execution_count": 38,
   "metadata": {
    "tags": []
   },
   "outputs": [
    {
     "output_type": "stream",
     "name": "stdout",
     "text": "[1, 2, 3, 4, 5, 6, 7]\n[1, 2, 3, 1, 2, 3, 1, 2, 3]\n"
    }
   ],
   "source": [
    "e = [1,2,3]\n",
    "f=[4,5,6,7]\n",
    "print(e+f) #리스트 합치기(새로운 차원을 만드는게 아님)\n",
    "print(e*3) #리스트 요소 반복해서 합치기"
   ]
  },
  {
   "source": [
    "리스트 수정 및 삭제  \n",
    "- 인덱싱을 이용해 수정하려면 상수를, 슬라이싱을 이용해 수정하려면 리스트를 넣어준다."
   ],
   "cell_type": "markdown",
   "metadata": {}
  },
  {
   "cell_type": "code",
   "execution_count": 52,
   "metadata": {
    "tags": []
   },
   "outputs": [
    {
     "output_type": "stream",
     "name": "stdout",
     "text": "[10, 2, 3]\n[10, 20, 2, 3]\n[20]\n[10, 'a', ['aaa', 'bbb', 'ccc'], 'c', 2, 3]\n"
    }
   ],
   "source": [
    "a = [1, 2, 3]\n",
    "a[0] = 10\n",
    "print(a)\n",
    "a[0:1] = [10, 20]\n",
    "print(a)\n",
    "print(a[1:2])\n",
    "#슬라이싱 결과는 리스트임. 상수를 넣을 수 없다. 반드시 리스트를 넣어야.\n",
    "a[1:2] = ['a','b','c']\n",
    "#리스트 인덱싱으로 리스트로 대체하기\n",
    "a[2] = ['aaa', 'bbb','ccc']\n",
    "print(a)"
   ]
  },
  {
   "source": [
    "리스트 요소 삭제"
   ],
   "cell_type": "markdown",
   "metadata": {}
  },
  {
   "cell_type": "code",
   "execution_count": 56,
   "metadata": {
    "tags": []
   },
   "outputs": [
    {
     "output_type": "stream",
     "name": "stdout",
     "text": "[10, ['aaa', 'bbb', 'ccc'], 'c', 2, 3]\n['c', 2, 3]\n"
    }
   ],
   "source": [
    "a = [10, 'a', ['aaa', 'bbb', 'ccc'], 'c', 2, 3]\n",
    "#indexing으로 삭제\n",
    "del a[1]\n",
    "print(a)\n",
    "\n",
    "\n",
    "a = [10, 'a', ['aaa', 'bbb', 'ccc'], 'c', 2, 3]\n",
    "#slicing으로 삭제\n",
    "del a[0:3]\n",
    "print(a)"
   ]
  },
  {
   "source": [
    "리스트 메소드\n",
    "~~~\n",
    "append()\n",
    "~~~\n",
    "리스트의 맨 뒤에 인수로 지정한 데이터를 추가\n",
    "~~~\n",
    "insert(position, value)\n",
    "~~~\n",
    "지정된 '지점'에 value 추가  \n",
    "[Reference](https://www.learnbyexample.org/python-list-slicing/)"
   ],
   "cell_type": "markdown",
   "metadata": {}
  },
  {
   "cell_type": "code",
   "execution_count": 58,
   "metadata": {
    "tags": []
   },
   "outputs": [
    {
     "output_type": "stream",
     "name": "stdout",
     "text": "[1, 2, 3]\n[1, 2, 3, 4]\n[1, 5, 2, 3, 4]\n"
    }
   ],
   "source": [
    "a=[1,2,3]\n",
    "print(a)\n",
    "a.append(4)\n",
    "print(a)\n",
    "a.insert(1,5) #지점 1은 0번째와 1번째 사이다.\n",
    "print(a)"
   ]
  },
  {
   "source": [
    "리스트에 저장된 데이터를 오름차순으로 정렬\n",
    "~~~\n",
    "sort()\n",
    "~~~\n",
    "내림차순\n",
    "~~~\n",
    "sort(reverse=True)"
   ],
   "cell_type": "markdown",
   "metadata": {}
  },
  {
   "cell_type": "code",
   "execution_count": 72,
   "metadata": {
    "tags": []
   },
   "outputs": [
    {
     "output_type": "stream",
     "name": "stdout",
     "text": "[1, 5, 2, 3, 6, 9]\n[1, 2, 3, 5, 6, 9]\n['A', 'D', 'c', 'd', 'k']\n['가', '노래', '노루', '다', '닭', '핡']\n['핡', '닭', '다', '노루', '노래', '가']\n"
    }
   ],
   "source": [
    "c=[1, 5, 2, 3, 6, 9]\n",
    "print(c)\n",
    "c.sort() #메소드 반환값이 없음. 주의.\n",
    "print(c)\n",
    "\n",
    "c=['d','D','A','c','k']\n",
    "c.sort()\n",
    "print(c) #대문자 먼저, 소문자 오름차순\n",
    "\n",
    "c=['가','다','닭','핡','노루', '노래']\n",
    "c.sort() #한글도 가나다 순으로 정렬\n",
    "print(c)\n",
    "c.sort(reverse=True) #내림차순\n",
    "print(c)\n",
    "c.sort"
   ]
  },
  {
   "source": [
    "~~~\n",
    "reverse()\n",
    "~~~\n",
    "순서를 뒤집는 메소드를 써서도 내림차순-오름차순을 바꿀 수 있다."
   ],
   "cell_type": "markdown",
   "metadata": {}
  },
  {
   "cell_type": "code",
   "execution_count": 77,
   "metadata": {
    "tags": []
   },
   "outputs": [
    {
     "output_type": "stream",
     "name": "stdout",
     "text": "None\n['노래', '노루', '핡', '닭', '다', '가']\n"
    }
   ],
   "source": [
    "c=['가','다','닭','핡','노루', '노래']\n",
    "print(c.reverse()) #반환형은 None이다.\n",
    "print(c)"
   ]
  },
  {
   "source": [
    "~~~\n",
    "index()\n",
    "~~~\n",
    "인수와 같은 값이 저장된 위치 중 가장 첫번 째 요소의 index를 반환"
   ],
   "cell_type": "markdown",
   "metadata": {}
  },
  {
   "cell_type": "code",
   "execution_count": 99,
   "metadata": {
    "tags": []
   },
   "outputs": [
    {
     "output_type": "stream",
     "name": "stdout",
     "text": "['a', 'b', 'c', 'd', 'e', 'c', 'd', 'e', ['c', 'd', 'e']]\n8\n"
    }
   ],
   "source": [
    "g = ['a','b','c','d','e', 'c', 'd', 'e', ['c', 'd', 'e']]\n",
    "print(g)\n",
    "#print(g.index('f')) #없는건 에러남. \"try-except 구분을 배워야 할 것\"\n",
    "print(g.index(['c','d','e']))\n",
    "#print(g.index(['c','d']))#완전 일치하지 않는건 없는거임\n",
    "#print(g.index([])) #요소 []가 없으면 없는거임"
   ]
  },
  {
   "source": [
    "~~~\n",
    "count()\n",
    "~~~\n",
    "인수로 지정된 데이터가 리스트에 포함되어 있는 개수를 얻어옴(세어 줌)"
   ],
   "cell_type": "markdown",
   "metadata": {}
  },
  {
   "cell_type": "code",
   "execution_count": 101,
   "metadata": {
    "tags": []
   },
   "outputs": [
    {
     "output_type": "stream",
     "name": "stdout",
     "text": "[1, 2, 3, 4, 5, 6, 2, 3, 4]\n2\n0\n"
    }
   ],
   "source": [
    "h = [1,2,3,4,5,6,2,3,4]\n",
    "print(h)\n",
    "print(h.count(2))\n",
    "print(h.count(7)) #없는건 0. 에러는 안남"
   ]
  },
  {
   "source": [
    "~~~\n",
    "remove()\n",
    "~~~\n",
    "인수로 지정된 데이터를 리스트에서 제거 : 첫번째 데이터만 제거"
   ],
   "cell_type": "markdown",
   "metadata": {}
  },
  {
   "cell_type": "code",
   "execution_count": 112,
   "metadata": {
    "tags": []
   },
   "outputs": [
    {
     "output_type": "stream",
     "name": "stdout",
     "text": "[1, 2, 3, 4, 3, 5, 3]\n[1, 2, 4, 3, 5, 3]\nNone [1, 2, 4, 5]\n"
    }
   ],
   "source": [
    "i = [1,2,3,4,3,5,3]\n",
    "print(i)\n",
    "result = i.remove(3) #3이 3개 있어도 첫번째 3 먼저 제거한다.\n",
    "print(i)\n",
    "i = [1,2,3,4,3,5,3]\n",
    "# count메소드와 연계해서 전부 삭제할 수 있겠다.\n",
    "for cycle in range(0,i.count(3)):\n",
    "    result = i.remove(3)\n",
    "print(result, i) #remove()의 반환형은 아무것도 없다."
   ]
  },
  {
   "source": [
    "~~~\n",
    "pop() or pop(index)\n",
    "~~~\n",
    "리스트에 저장된 마지막 데이터를 얻어온 후 제거(맨 위에서부터 '꺼내버린다'는 개념)  \n",
    "push()와 반대일텐데...  \n",
    "뒤에서부터 빼내는데는 이유가 있을 것이다.  \n",
    "index의 기본값은 -1임! 이 떄 리턴값은 삭제 대상 원소임.  \n",
    "리턴값은 삭제 대상 원소임!\n",
    "\n",
    "아마 삭제하면서 동시에 반환해주는, 말그대로 '꺼내는' 동작으로 생각하면 되겠다.\n",
    "\n"
   ],
   "cell_type": "markdown",
   "metadata": {}
  },
  {
   "cell_type": "code",
   "execution_count": 129,
   "metadata": {
    "tags": []
   },
   "outputs": [
    {
     "output_type": "stream",
     "name": "stdout",
     "text": "[1, 2, 3, 4, 3, 5, 3]\n3\n[1, 2, 3, 4, 3, 5]\n4\n[1, 2, 3, 3, 5]\n5\n[1, 2, 3, 3]\n3\n[1, 2, 3]\n3\n[1, 2]\n2\n[1]\n1\n[]\n"
    }
   ],
   "source": [
    "j = [1,2,3,4,3,5,3]\n",
    "print(j)\n",
    "print(j.pop()) #-1번째 값인 3을 삭제. 삭제대상인 3을 반환\n",
    "print(j)\n",
    "print(j.pop(3)) #3번 값을 삭제. 삭제대상인 4를 반환\n",
    "print(j)\n",
    "#j.pop(10) 범위를 벗어나면 에러!\n",
    "print(j.pop())\n",
    "print(j)\n",
    "print(j.pop())\n",
    "print(j)\n",
    "print(j.pop())\n",
    "print(j)\n",
    "print(j.pop())\n",
    "print(j)\n",
    "print(j.pop())\n",
    "print(j) #텅비면 빈 리스트\n",
    "#print(j.pop()) #빈 리스트를 pop하면 에러\n",
    "#print(j)"
   ]
  },
  {
   "source": [
    "~~~\n",
    "extend()\n",
    "~~~\n",
    "리스트를 확장한다. ('+') 연산이 실행된다."
   ],
   "cell_type": "markdown",
   "metadata": {}
  },
  {
   "cell_type": "code",
   "execution_count": 116,
   "metadata": {
    "tags": []
   },
   "outputs": [
    {
     "output_type": "stream",
     "name": "stdout",
     "text": "[1, 2, 3]\n[1, 2, 3, 4, 5]\n[1, 2, 3, 4, 5, 4, 5]\n[1, 2, 3, 4, 5, 4, 5, 4, 5]\n"
    }
   ],
   "source": [
    "k = [1,2,3]\n",
    "print(k)\n",
    "k.extend([4,5])\n",
    "print(k)\n",
    "k = k+[4,5]\n",
    "print(k)\n",
    "k += [4,5]\n",
    "print(k)"
   ]
  }
 ]
}