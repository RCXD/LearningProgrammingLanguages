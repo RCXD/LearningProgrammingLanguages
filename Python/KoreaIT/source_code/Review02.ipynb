{
 "cells": [
  {
   "source": [
    "여러 줄 문자열 만들기\r\n",
    "\r\n",
    "큰따옴표 3개 연속해서 개행문자 없이 여러줄 문자열 만들기\r\n",
    "memo = \"\"\"\r\n",
    "\"\"\"\r\n",
    "즉, \"\"\"~\"\"\"는 주석기능이 아니라... 문자열인 것\r\n",
    "\r\n",
    "\r\n"
   ],
   "cell_type": "markdown",
   "metadata": {}
  },
  {
   "source": [
    "예외처리는 python에서는 try-except, 자바에서는 try-catch이다."
   ],
   "cell_type": "markdown",
   "metadata": {}
  },
  {
   "cell_type": "code",
   "execution_count": null,
   "metadata": {},
   "outputs": [],
   "source": []
  },
  {
   "cell_type": "code",
   "execution_count": null,
   "metadata": {},
   "outputs": [],
   "source": []
  }
 ],
 "metadata": {
  "kernelspec": {
   "display_name": "Python 3",
   "language": "python",
   "name": "python3"
  },
  "language_info": {
   "codemirror_mode": {
    "name": "ipython",
    "version": 3
   },
   "file_extension": ".py",
   "mimetype": "text/x-python",
   "name": "python",
   "nbconvert_exporter": "python",
   "pygments_lexer": "ipython3",
   "version": "3.7.4"
  }
 },
 "nbformat": 4,
 "nbformat_minor": 2
}