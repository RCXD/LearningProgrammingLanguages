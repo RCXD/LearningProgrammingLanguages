{
 "metadata": {
  "language_info": {
   "codemirror_mode": {
    "name": "ipython",
    "version": 3
   },
   "file_extension": ".py",
   "mimetype": "text/x-python",
   "name": "python",
   "nbconvert_exporter": "python",
   "pygments_lexer": "ipython3",
   "version": "3.8.5-final"
  },
  "orig_nbformat": 2,
  "kernelspec": {
   "name": "python_defaultSpec_1601028110031",
   "display_name": "Python 3.8.5 64-bit"
  }
 },
 "nbformat": 4,
 "nbformat_minor": 2,
 "cells": [
  {
   "source": [
    "Tuple과 for\n"
   ],
   "cell_type": "markdown",
   "metadata": {}
  },
  {
   "cell_type": "code",
   "execution_count": 6,
   "metadata": {
    "tags": []
   },
   "outputs": [
    {
     "output_type": "stream",
     "name": "stdout",
     "text": "('List', 'is', 'too', 'short')\n<class 'tuple'>\n================================================================================\nList\nis\ntoo\nshort\n================================================================================\nis\ntoo\n================================================================================\nList\nis\ntoo\nshort\n================================================================================\n"
    }
   ],
   "source": [
    "e = ('List', 'is', 'too', 'short')\n",
    "print(e)\n",
    "print(type(e))\n",
    "print('=' * 80)\n",
    "\n",
    "for i in e:\n",
    "    print(i)\n",
    "print('=' * 80)\n",
    "\n",
    "for i in e[1:3]:\n",
    "    print(i)\n",
    "print('=' * 80)\n",
    "\n",
    "for i in range(len(e)):\n",
    "    print(e[i])\n",
    "print('=' * 80)"
   ]
  },
  {
   "source": [
    "Set과 for"
   ],
   "cell_type": "markdown",
   "metadata": {}
  },
  {
   "cell_type": "code",
   "execution_count": 8,
   "metadata": {
    "tags": []
   },
   "outputs": [
    {
     "output_type": "stream",
     "name": "stdout",
     "text": "{'short', 'is', 'too', 'List'}\n<class 'set'>\n================================================================================\nshort\nis\ntoo\nList\n================================================================================\n"
    }
   ],
   "source": [
    "e = {'List', 'is', 'too', 'short'}\n",
    "print(e)\n",
    "print(type(e))\n",
    "print('=' * 80)\n",
    "\n",
    "for i in e:\n",
    "    print(i) #순서가 꼬여서 나옴.\n",
    "print('=' * 80)\n",
    "\n",
    "\"\"\"\n",
    "#for i in e[1:3]: #Slicing 불가\n",
    "    print(i)\n",
    "print('=' * 80)\n",
    "\"\"\"\n",
    "\"\"\"\n",
    "for i in range(len(e)):\n",
    "    print(e[i]) #indexing 불가\n",
    "\"\"\"\n",
    "pass"
   ]
  },
  {
   "source": [
    "Dict와 for  \n",
    "메소드 활용\n",
    "~~~python\n",
    ".keys(), .values(), .items()\n",
    "~~~"
   ],
   "cell_type": "markdown",
   "metadata": {}
  },
  {
   "cell_type": "code",
   "execution_count": 15,
   "metadata": {
    "tags": []
   },
   "outputs": [
    {
     "output_type": "stream",
     "name": "stdout",
     "text": "{'apple': 1000, 'banana': 3500, 'melon': 10000, 'mango': 5000}\n<class 'dict'>\ndict_keys(['apple', 'banana', 'melon', 'mango'])\ndict_values([1000, 3500, 10000, 5000])\ndict_items([('apple', 1000), ('banana', 3500), ('melon', 10000), ('mango', 5000)])\napple\n1000\nbanana\n3500\nmelon\n10000\nmango\n5000\n"
    }
   ],
   "source": [
    "g = {'apple':1000, 'banana':3500, 'melon':10000, 'mango':5000}\n",
    "print(g)\n",
    "print(type(g))\n",
    "print(g.keys())\n",
    "print(g.values())\n",
    "print(g.items())\n",
    "\n",
    "for i in g:\n",
    "    print(i) #key 출력\n",
    "    print(g[i]) #value 출력"
   ]
  },
  {
   "source": [
    "Dictionary 이름은 key값을 가져올 때 사용됨  \n",
    "key를 가져오는 여러가지 방법"
   ],
   "cell_type": "markdown",
   "metadata": {}
  },
  {
   "cell_type": "code",
   "execution_count": 18,
   "metadata": {
    "tags": []
   },
   "outputs": [
    {
     "output_type": "stream",
     "name": "stdout",
     "text": "{'apple': 1000, 'banana': 3500, 'melon': 10000, 'mango': 5000}\ndict_keys(['apple', 'banana', 'melon', 'mango'])\napple\nbanana\nmelon\nmango\n================================================================================\napple\nbanana\nmelon\nmango\n"
    }
   ],
   "source": [
    "print(g)\n",
    "print(g.keys())\n",
    "#다르다\n",
    "\n",
    "for key in g:\n",
    "    print(key)\n",
    "print('='*80)\n",
    "\n",
    "for key in g.keys():\n",
    "    print(key)\n",
    "#똑같다"
   ]
  },
  {
   "source": [
    "Value를 가져오는 여러가지 방법"
   ],
   "cell_type": "markdown",
   "metadata": {}
  },
  {
   "cell_type": "code",
   "execution_count": 20,
   "metadata": {
    "tags": []
   },
   "outputs": [
    {
     "output_type": "stream",
     "name": "stdout",
     "text": "1000\n3500\n10000\n5000\n================================================================================\n1000\n3500\n10000\n5000\n================================================================================\n1000\n3500\n10000\n5000\n"
    }
   ],
   "source": [
    "for value in g.values():법\n",
    "    print(value)\n",
    "print('='*80)\n",
    "for value in g.keys():\n",
    "    print(g[value])\n",
    "print('='*80)\n",
    "for value in g.keys():\n",
    "    print(g.get(value)) #get에 key값 넣어서 value를 가져올 수 있다"
   ]
  },
  {
   "source": [
    "items() 동작"
   ],
   "cell_type": "markdown",
   "metadata": {}
  },
  {
   "cell_type": "code",
   "execution_count": 32,
   "metadata": {
    "tags": []
   },
   "outputs": [
    {
     "output_type": "stream",
     "name": "stdout",
     "text": "('apple', 1000)\n('banana', 3500)\n('melon', 10000)\n('mango', 5000)\n================================================================================\napple 1000\nbanana 3500\nmelon 10000\nmango 5000\n================================================================================\napple 는  1,000원 입니다.\nbanana는  3,500원 입니다.\nmelon 는 10,000원 입니다.\nmango 는  5,000원 입니다.\n"
    }
   ],
   "source": [
    "for item in g.items():\n",
    "    print(item) #key, value가 저장된 tuple을 만들어냄\n",
    "print('='*80)\n",
    "for item in g.items():\n",
    "    print(item[0], item[1]) #key, value 각각\n",
    "\n",
    "    # 참고 : 튜플은 삭제, 수정은 불가능하지만 인덱싱, 슬라이싱 모두 지원함! 내용만 바뀌지 않는다면.\n",
    "print('='*80)\n",
    "for key, value in g.items():\n",
    "    #print(key, value)\n",
    "    print(f'{key:6s}는 {value:6,d}원 입니다.') # 숫자 1000단위 구분서식 만들기 : ,를 활용하면 됨"
   ]
  },
  {
   "source": [],
   "cell_type": "markdown",
   "metadata": {}
  }
 ]
}