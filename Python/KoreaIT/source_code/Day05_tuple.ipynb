{
 "metadata": {
  "language_info": {
   "codemirror_mode": {
    "name": "ipython",
    "version": 3
   },
   "file_extension": ".py",
   "mimetype": "text/x-python",
   "name": "python",
   "nbconvert_exporter": "python",
   "pygments_lexer": "ipython3",
   "version": "3.8.5-final"
  },
  "orig_nbformat": 2,
  "kernelspec": {
   "name": "python_defaultSpec_1600690608535",
   "display_name": "Python 3.8.5 64-bit"
  }
 },
 "nbformat": 4,
 "nbformat_minor": 2,
 "cells": [
  {
   "source": [
    "tuple 만들기  \n",
    "tuple은 리스트와 유사. 리스트는 []로 둘러싸고, tuple은 ()로 둘러싼다.  \n",
    "단, tuple은 '요소'의 수정과 삭제가 불가능하다. (아예 다시 덮어씌우는것만 가능하던가?)  \n",
    "삭제 -> del 불가\n",
    "수정 -> append, pop, insert, ... 등을 테스트 해봐야 할 것임.\n",
    "\n",
    "튜플의 수정/삭제 제한은 보안때문인가? 어떤 의미를 갖는가?"
   ],
   "cell_type": "markdown",
   "metadata": {}
  },
  {
   "cell_type": "code",
   "execution_count": 6,
   "metadata": {
    "tags": []
   },
   "outputs": [
    {
     "output_type": "stream",
     "name": "stdout",
     "text": "(1, 2)\n<class 'tuple'>\n"
    },
    {
     "output_type": "execute_result",
     "data": {
      "text/plain": "tuple"
     },
     "metadata": {},
     "execution_count": 6
    }
   ],
   "source": [
    "a = (1, 2)\n",
    "print(a)\n",
    "print(type(a)) #왜 아래랑 출력형식이 다를까... 아무튼 자료형이 tuple임이 보임\n",
    "type(a) #뭐지?"
   ]
  },
  {
   "source": [
    "빈 튜플 만들기"
   ],
   "cell_type": "markdown",
   "metadata": {}
  },
  {
   "cell_type": "code",
   "execution_count": 1,
   "metadata": {
    "tags": []
   },
   "outputs": [
    {
     "output_type": "stream",
     "name": "stdout",
     "text": "()\n"
    }
   ],
   "source": [
    "a = ()\n",
    "print(a)"
   ]
  },
  {
   "source": [
    "생성자 이용하기  "
   ],
   "cell_type": "markdown",
   "metadata": {}
  },
  {
   "cell_type": "code",
   "execution_count": 68,
   "metadata": {
    "tags": []
   },
   "outputs": [
    {
     "output_type": "stream",
     "name": "stdout",
     "text": "()\n('a', 'b', 'c', (1, 2))\n('a', 'b', 'c')\n('a', 'b', 'c')\n"
    }
   ],
   "source": [
    "b = tuple()\n",
    "print(b)\n",
    "\n",
    "b = tuple(['a','b','c',(1,2)])\n",
    "#b = tuple(1,2,3) #다인자를 받을 수 없다.\n",
    "print(b)\n",
    "\n",
    "b = tuple(('a','b','c')) #튜플이든, 리스트든 넣을 수 있다.\n",
    "print(b)\n",
    "b = tuple(['a','b','c'])\n",
    "print(b)"
   ]
  },
  {
   "cell_type": "code",
   "execution_count": 33,
   "metadata": {
    "tags": []
   },
   "outputs": [
    {
     "output_type": "stream",
     "name": "stdout",
     "text": "[1]\n<class 'list'>\n[1]\n<class 'list'>\n([1],)\n<class 'tuple'>\n1\n<class 'int'>\n(1,)\n1\n(1, 2)\n<class 'tuple'>\n"
    }
   ],
   "source": [
    "c = [1]\n",
    "print(c)\n",
    "print(type(c))\n",
    "c1 = ([1])\n",
    "print(c1)\n",
    "print(type(c1))\n",
    "c1 = ([1,],) #List에서 빈칸은 의미없다. List에서는 빈칸을 만들 수 있다.\n",
    "print(c1)\n",
    "print(type(c1))\n",
    "c1 = (1)\n",
    "print(c1)\n",
    "print(type(c1)) #tuple이 아닌 연산식의 괄호로 인식되어버림\n",
    "c1 = (1,) #우측 빈공간은 원소가 1개일 때의 특별한 예외인 듯.\n",
    "print(c1)\n",
    "print(c1[0])\n",
    "#print(c1[1]) #빈공간은 존재하는것 처럼 보이지만, 존재 하지 않는다. 그냥 원소 1개로 이해하면 오류 없을 것 같다.\n",
    "c2 = (1,2,) \n",
    "print(c2) #우측 빈공간 무시\n",
    "#print(c2[2]) #빈공간은 존재하는것 처럼 보이지만, 존재 하지 않는다.\n",
    "print(type(c1)) #tuple에서는 빈공간을 만들 수 있다."
   ]
  },
  {
   "source": [
    "리스트 안에 튜플을 넣을수도, 튜플 안에 리스트를 넣을 수도 있다.  \n",
    "리스트 안의 튜플을 삭제/수정 가능한지?  \n",
    "튜플 안의 리스트를 삭제/수정 가능한지?  "
   ],
   "cell_type": "markdown",
   "metadata": {}
  },
  {
   "cell_type": "code",
   "execution_count": 41,
   "metadata": {
    "tags": []
   },
   "outputs": [
    {
     "output_type": "stream",
     "name": "stdout",
     "text": "('a', 'b', ['ab', 'bc']) ['a', 'b', ('ab', 'bc')]\n('a', 'b', ['ab', 'bc']) ['a', 'b']\n"
    }
   ],
   "source": [
    "a = ('a','b',['ab','bc'])\n",
    "b = ['a','b',('ab','bc')]\n",
    "print(a, b)\n",
    "#del a[0] tuple 개체는 삭제할 수 없다\n",
    "#del a[2] tuple 내 리스트는 삭제 불가\n",
    "del b[2] #리스트 내 튜플은 삭제 가능. 튜플 자체를 삭제하는 개념이기 때문.\n",
    "print(a, b)\n",
    "\n",
    "a = ('a','b',['ab','bc'])\n",
    "b = ['a','b',('ab','bc')]\n",
    "# del b[2][0] #리스트 내 튜플의 원소도 삭제 불가"
   ]
  },
  {
   "source": [
    "튜플은 ()를 생략해도 ,를 이용해서 입력할 수 있다."
   ],
   "cell_type": "markdown",
   "metadata": {}
  },
  {
   "cell_type": "code",
   "execution_count": 47,
   "metadata": {
    "tags": []
   },
   "outputs": [
    {
     "output_type": "stream",
     "name": "stdout",
     "text": "(1, 2, 3, 4, 5, 6)\n<class 'tuple'>\n(1,)\n<class 'tuple'>\n(1, 2, [1, 2], (1, 2), (1, 2))\n<class 'tuple'>\n"
    }
   ],
   "source": [
    "k = 1, 2, 3, 4, 5, 6\n",
    "print(k) #출력할 때는 ()를 붙인 기본형\n",
    "print(type(k))\n",
    "\n",
    "k = 1, #이것도 마찬가지로 잘 됨\n",
    "print(k) \n",
    "print(type(k))\n",
    "\n",
    "k = 1, 2, [1, 2], (1, 2), (1, 2,) #당연히, (1,2,)는 그냥 (1,2)다.\n",
    "print(k) \n",
    "print(type(k))"
   ]
  },
  {
   "source": [
    "indexing, Slicing : List와 같다."
   ],
   "cell_type": "markdown",
   "metadata": {}
  },
  {
   "cell_type": "code",
   "execution_count": 48,
   "metadata": {
    "tags": []
   },
   "outputs": [
    {
     "output_type": "stream",
     "name": "stdout",
     "text": "(1, 2, 3, 4, 5, 6)\n1\n6\n(3, 4)\n(1, 2, 3, 4)\n(3, 4, 5, 6)\n"
    }
   ],
   "source": [
    "l = 1, 2, 3, 4, 5, 6\n",
    "print(l)\n",
    "print(l[0])\n",
    "print(l[-1])\n",
    "print(l[2:4])\n",
    "print(l[:4])\n",
    "print(l[2:])"
   ]
  },
  {
   "source": [
    "튜플은 리스트와 같이 +, * 연산이 가능  \n",
    "수정은 지원 안하는데도..  \n",
    "이건 그냥 새로운 '정의'개념이라 생각하자.  "
   ],
   "cell_type": "markdown",
   "metadata": {}
  },
  {
   "cell_type": "code",
   "execution_count": 60,
   "metadata": {
    "tags": []
   },
   "outputs": [
    {
     "output_type": "stream",
     "name": "stdout",
     "text": "('a', 'b')\n('a', 'b', 'a', 'b', 'a', 'b')\n('a', 'b', 'a', 'b')\n"
    }
   ],
   "source": [
    "m = 'a', 'b'\n",
    "print(m)\n",
    "print(m*3)\n",
    "print(m+m) #뺄셈은 리스트도, 튜플, str도 안된다.\n",
    "#print(m.append(1)) #역시나 지원 안됨\n",
    "#print(m.extend(m)) #같은 덧셈 연산일지라도 매소드 지원 안됨"
   ]
  },
  {
   "source": [
    "튜플은 수정기능 지원 안함"
   ],
   "cell_type": "markdown",
   "metadata": {}
  },
  {
   "cell_type": "code",
   "execution_count": 63,
   "metadata": {
    "tags": []
   },
   "outputs": [
    {
     "output_type": "stream",
     "name": "stdout",
     "text": "(1, 2, 3, 4, 5, 6)\n"
    },
    {
     "output_type": "error",
     "ename": "NameError",
     "evalue": "name 'n' is not defined",
     "traceback": [
      "\u001b[1;31m---------------------------------------------------------------------------\u001b[0m",
      "\u001b[1;31mNameError\u001b[0m                                 Traceback (most recent call last)",
      "\u001b[1;32m<ipython-input-63-cb19b082c602>\u001b[0m in \u001b[0;36m<module>\u001b[1;34m\u001b[0m\n\u001b[0;32m      4\u001b[0m \u001b[0mprint\u001b[0m\u001b[1;33m(\u001b[0m\u001b[0mn\u001b[0m\u001b[1;33m)\u001b[0m\u001b[1;33m\u001b[0m\u001b[1;33m\u001b[0m\u001b[0m\n\u001b[0;32m      5\u001b[0m \u001b[1;32mdel\u001b[0m \u001b[0mn\u001b[0m \u001b[1;31m#튜플 자체의 삭제만 지원한다.\u001b[0m\u001b[1;33m\u001b[0m\u001b[1;33m\u001b[0m\u001b[0m\n\u001b[1;32m----> 6\u001b[1;33m \u001b[0mprint\u001b[0m\u001b[1;33m(\u001b[0m\u001b[0mn\u001b[0m\u001b[1;33m)\u001b[0m\u001b[1;33m\u001b[0m\u001b[1;33m\u001b[0m\u001b[0m\n\u001b[0m",
      "\u001b[1;31mNameError\u001b[0m: name 'n' is not defined"
     ]
    }
   ],
   "source": [
    "n = 1, 2, 3, 4, 5, 6\n",
    "#n[0] = 'a' #에러\n",
    "#del n[0]  # 에러\n",
    "print(n)\n",
    "del n #튜플 자체의 삭제만 지원한다.\n",
    "print(n)"
   ]
  },
  {
   "source": [
    "\"튜플은 함수의 리턴값, ... 등에서 유용하다고 함.\""
   ],
   "cell_type": "markdown",
   "metadata": {}
  },
  {
   "cell_type": "code",
   "execution_count": 62,
   "metadata": {
    "tags": []
   },
   "outputs": [
    {
     "output_type": "stream",
     "name": "stdout",
     "text": "o = 3, p = 4\no = 4, p = 3\n"
    }
   ],
   "source": [
    "#두 기억장소의 값을 swap하기\n",
    "o = 3\n",
    "p = 4\n",
    "print(f'o = {o}, p = {p}')\n",
    "t = o; o = p; p = t\n",
    "print(f'o = {o}, p = {p}')\n",
    "\n",
    "#이게 그래서 튜플의 유용성과 어떤 관계가 있으려나"
   ]
  }
 ]
}