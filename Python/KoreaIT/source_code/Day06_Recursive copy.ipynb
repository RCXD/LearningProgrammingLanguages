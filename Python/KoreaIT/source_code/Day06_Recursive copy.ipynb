{
 "metadata": {
  "language_info": {
   "codemirror_mode": {
    "name": "ipython",
    "version": 3
   },
   "file_extension": ".py",
   "mimetype": "text/x-python",
   "name": "python",
   "nbconvert_exporter": "python",
   "pygments_lexer": "ipython3",
   "version": "3.8.5-final"
  },
  "orig_nbformat": 2,
  "kernelspec": {
   "name": "python_defaultSpec_1600863239088",
   "display_name": "Python 3.8.5 64-bit"
  }
 },
 "nbformat": 4,
 "nbformat_minor": 2,
 "cells": [
  {
   "source": [
    "for 명령은 반복 횟수를 알고 있을 때 사용  \n",
    "숫자 리스트를 만들어주는 range() 함수와 같이 사용할 수 있음  \n",
    "for 변수 in range(start, stop, step]): => start, step은 생략 가능(stop만 사용해도 됨)  \n",
    "  \n",
    "range(start, stop, step) : start부터 stop(-1)까지 step만큼 증가하는 숫자 리스트  \n",
    "start와 step은 생략 가능, 기본값은 각각 0, 1  \n",
    "즉, range(0, 10, 1) == range(10)  "
   ],
   "cell_type": "markdown",
   "metadata": {}
  },
  {
   "cell_type": "code",
   "execution_count": 4,
   "metadata": {
    "tags": []
   },
   "outputs": [
    {
     "output_type": "stream",
     "name": "stdout",
     "text": "range(0, 10) <class 'range'>\nTrue\n"
    }
   ],
   "source": [
    "a = range(0,10,1)\n",
    "print(a, type(a)) #리스트가 아니다... 어쨌건\n",
    "print(range(0,10,1)==range(10))"
   ]
  },
  {
   "cell_type": "code",
   "execution_count": 7,
   "metadata": {
    "tags": []
   },
   "outputs": [
    {
     "output_type": "stream",
     "name": "stdout",
     "text": "0123456789"
    }
   ],
   "source": [
    "for i in range(10):\n",
    "    print(i, end='')"
   ]
  },
  {
   "cell_type": "code",
   "execution_count": 18,
   "metadata": {
    "tags": []
   },
   "outputs": [
    {
     "output_type": "stream",
     "name": "stdout",
     "text": "[0, 1, 2, 3, 4, 5, 6, 7, 8, 9]\n0 1 2 3 4 5 6 7 8 9"
    }
   ],
   "source": [
    "a = list(range(10)) #range로 리스트를 만들어주려면 생성자를 이용해야 한다.\n",
    "print(a)\n",
    "for i in a: #리스트로도 for문을 돌릴 수 있음\n",
    "    print(i, end=' ')"
   ]
  },
  {
   "cell_type": "code",
   "execution_count": 23,
   "metadata": {},
   "outputs": [
    {
     "output_type": "error",
     "ename": "SyntaxError",
     "evalue": "invalid syntax (<ipython-input-23-006d00b40c42>, line 1)",
     "traceback": [
      "\u001b[1;36m  File \u001b[1;32m\"<ipython-input-23-006d00b40c42>\"\u001b[1;36m, line \u001b[1;32m1\u001b[0m\n\u001b[1;33m    for i not in range(10):\u001b[0m\n\u001b[1;37m          ^\u001b[0m\n\u001b[1;31mSyntaxError\u001b[0m\u001b[1;31m:\u001b[0m invalid syntax\n"
     ]
    }
   ],
   "source": [
    "#이런건 아니다. for - in은 그냥 in과는 완전 다른 별도의 구문이다.\n",
    "for i not in range(10):\n",
    "    print(i)"
   ]
  },
  {
   "cell_type": "code",
   "execution_count": 27,
   "metadata": {
    "tags": []
   },
   "outputs": [
    {
     "output_type": "stream",
     "name": "stdout",
     "text": "10 9 8 7 6 5 4 3 2 1"
    }
   ],
   "source": [
    "#역순\n",
    "for i in range(10, 0, -1):\n",
    "    print(i, end=' ')"
   ]
  },
  {
   "source": [
    "---\n",
    "1 ~ 100까지 합하기\n",
    "~~~python\n",
    "sum()\n",
    "~~~"
   ],
   "cell_type": "markdown",
   "metadata": {}
  },
  {
   "cell_type": "code",
   "execution_count": 43,
   "metadata": {
    "tags": []
   },
   "outputs": [
    {
     "output_type": "stream",
     "name": "stdout",
     "text": "4950 5050.0\n4950\n45\n"
    }
   ],
   "source": [
    "a = 0\n",
    "b = (1+100)*100/2\n",
    "for i in range(1,100):\n",
    "    a += i\n",
    "print(a, b) # ? 왜 마지막꺼 안더하나?\n",
    "print(sum(range(1,100))) #뭐지?\n",
    "print(sum(range(1,10))) #55가 왜 안나오지? 왜 마지막꺼 안더하지?\n"
   ]
  },
  {
   "source": [
    "---\n",
    "주사위를 10번 굴려서 발생되는 각각의 눈의 개수 계산"
   ],
   "cell_type": "markdown",
   "metadata": {}
  },
  {
   "cell_type": "code",
   "execution_count": 39,
   "metadata": {
    "tags": []
   },
   "outputs": [
    {
     "output_type": "stream",
     "name": "stdout",
     "text": "2 2/4 6/1 7/2 9/4 13/5 18/2 20/5 25/5 30/4 34/\n34\n8390, 8406, 8301, 8314, 8299, 8290\n"
    }
   ],
   "source": [
    "import random\n",
    "b = 0\n",
    "for i in range(10):\n",
    "    a = random.randrange(1,6)\n",
    "    b += a\n",
    "    print(a, b, end ='/')\n",
    "    #문제 잘못 파악\n",
    "    \n",
    "print('\\n'+str(b))\n",
    "\n",
    "aLen = 50000 #100만까지 갈 수 없나? 왜 이렇게 오래걸리지?\n",
    "a = [0]*aLen\n",
    "#for i in range(0,10): #이래야 10번 실행??? range() 다시 보충좀\n",
    "for i in range(0, aLen):\n",
    "    #a.append(random.randrange(1,7)) #randrange()도 다시 복습좀. 1,6은 6이 안나옴\n",
    "    a[i] = random.randrange(1,7)\n",
    "    #여기서 개선해야 속도를 높일 수 있음.. 수업코드 참고좀... 깃헙\n",
    "aCnt=[0]*len(a) #R에서 rep()함수같은것으로 초기화\n",
    "#또는 aCnt = [0 for i in range(6)] ... 매커니즘은 뭘까?\n",
    "for i in range(len(a)):\n",
    "    aCnt[i]=a.count(i+1)\n",
    "#print(a)\n",
    "#print(aCnt)\n",
    "print(f'{aCnt[0]}, {aCnt[1]}, {aCnt[2]}, {aCnt[3]}, {aCnt[4]}, {aCnt[5]}') #Vs Code TIP : 일괄 바꾸기는 Ctrl+H\n",
    "#print('{}, {}, {}, {}, {}, {}'.format(aCnt[i] for i in range(6))) 어떻게 안되나?"
   ]
  },
  {
   "source": [
    "range(), len() 활용하기"
   ],
   "cell_type": "markdown",
   "metadata": {}
  },
  {
   "cell_type": "code",
   "execution_count": 24,
   "metadata": {
    "tags": []
   },
   "outputs": [
    {
     "output_type": "stream",
     "name": "stdout",
     "text": "test\ntest\ntest\ntest\ntest\n"
    }
   ],
   "source": [
    "count = [0]*5\n",
    "for i in range(len(count)):\n",
    "    print('test')"
   ]
  },
  {
   "source": [
    "List 와 for"
   ],
   "cell_type": "markdown",
   "metadata": {}
  },
  {
   "cell_type": "code",
   "execution_count": 43,
   "metadata": {
    "tags": []
   },
   "outputs": [
    {
     "output_type": "stream",
     "name": "stdout",
     "text": "['Life', 'is', 'too', 'short']\n================================================================================\nLife\nis\ntoo\nshort\n================================================================================\nLife\nis\ntoo\nshort\n================================================================================\nLife\nis\ntoo\nshort\n================================================================================\nis\ntoo\n"
    }
   ],
   "source": [
    "d = ['Life', 'is', 'too', 'short']\n",
    "print(d)\n",
    "print('=' * 80)\n",
    "\n",
    "#리스트에 저장된 데이터의 개수가 변하지 않는다면 지정된 크기만큼 반복\n",
    "for i in range(4):\n",
    "    print(d[i])\n",
    "print('='*80)\n",
    "\n",
    "#리스트에 저장된 데이터의 개수가 변경될 수 있으므로 \n",
    "#len() 함수를 이용해서 데이터 개수만큼 반복\n",
    "for i in range(len(d)):\n",
    "    print(d[i])\n",
    "print('=' * 80)\n",
    "\n",
    "#range() 함수를 사용하지 않고 리스트, 튜플, 딕셔너리, 셋을 사용하면 0번째 데이터부터\n",
    "#마지막까지 변수에 저장하며 반복\n",
    "for i in d:\n",
    "    print(i)\n",
    "print('=' * 80)\n",
    "####for같은 반복문은 아주 공들여서 정복할 필요가 있겠다. 코드 최적화의 핵심인 것 같다.\n",
    "\n",
    "#Slicing으로 리스트, 튜플, 딕셔너리의 일부분만 반복시킬 수 있다.(단, 셋은 슬라이싱 안되므로 불가)\n",
    "for i in d[1:3]:\n",
    "    print(i)"
   ]
  }
 ]
}