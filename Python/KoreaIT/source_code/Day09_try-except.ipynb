{
 "metadata": {
  "language_info": {
   "codemirror_mode": {
    "name": "ipython",
    "version": 3
   },
   "file_extension": ".py",
   "mimetype": "text/x-python",
   "name": "python",
   "nbconvert_exporter": "python",
   "pygments_lexer": "ipython3",
   "version": 3
  },
  "orig_nbformat": 2
 },
 "nbformat": 4,
 "nbformat_minor": 2,
 "cells": [
  {
   "source": [
    "## 예외(에러) 처리  \n",
    "프로그램을 작성할 때 잘못 동작되는 것을 방지하기 위해 오류가 발생됨.  \n",
    "이 때, 프로그램은 멈춘다.  \n",
    "try-except를 사용하면 오류가 발생하여도 별도의 처리를 하거나 오류를 무시하고 프로그램을 실행할 수 있다.  \n",
    "\n",
    "오류가 발생할 것으로 예상되는 문장을 try 블록에  \n",
    "코딩된 내용으로 실행하다가 오류가 발생되면 더이상 try 블록의 내용을 실행하지 않고 해당 오류의 except 블록에 코딩된 내용에 실행된다.\n",
    "\n",
    "### 문법\n",
    "~~~\n",
    "try : #필수  \n",
    "    오류가 발생될 것으로 예상되는 문장  \n",
    "    ...  \n",
    "\n",
    "except [오류 이름 [as 변수]]: #필수 => 오류 이름은 생략할 수 있다.\n",
    "    #Q. 오류 이름을 비우면 모든 오류에 대하여 반응하나?  \n",
    "    오류가 발생되면 실행할 문장\n",
    "finally: #선택 => 필요하면 사용\n",
    "    오류 발생여부와 무관하게 무조건 실행할 문장\n",
    "    ...\n",
    "~~~\n",
    "\\* [] : 생략 가능 "
   ],
   "cell_type": "markdown",
   "metadata": {}
  }
 ]
}