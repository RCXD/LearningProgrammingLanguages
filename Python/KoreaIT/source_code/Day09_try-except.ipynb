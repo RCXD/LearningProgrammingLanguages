{
 "metadata": {
  "language_info": {
   "codemirror_mode": {
    "name": "ipython",
    "version": 3
   },
   "file_extension": ".py",
   "mimetype": "text/x-python",
   "name": "python",
   "nbconvert_exporter": "python",
   "pygments_lexer": "ipython3",
   "version": "3.7.9-final"
  },
  "orig_nbformat": 2,
  "kernelspec": {
   "name": "Python 3.7.9 64-bit",
   "display_name": "Python 3.7.9 64-bit",
   "metadata": {
    "interpreter": {
     "hash": "450770b194ad3c526d72e78f0fffc46d9f199ddffc77daa2aadce905eb3548da"
    }
   }
  }
 },
 "nbformat": 4,
 "nbformat_minor": 2,
 "cells": [
  {
   "source": [
    "## 예외(에러) 처리  \n",
    "프로그램을 작성할 때 잘못 동작되는 것을 방지하기 위해 오류가 발생됨.  \n",
    "이 때, 프로그램은 멈춘다.  \n",
    "try-except를 사용하면 오류가 발생하여도 별도의 처리를 하거나 오류를 무시하고 프로그램을 실행할 수 있다.  \n",
    "\n",
    "오류가 발생할 것으로 예상되는 문장을 try 블록에  \n",
    "코딩된 내용으로 실행하다가 오류가 발생되면 더이상 try 블록의 내용을 실행하지 않고 해당 오류의 except 블록에 코딩된 내용에 실행된다.\n",
    "\n",
    "### 문법\n",
    "~~~ python\n",
    "try : #필수  \n",
    "    오류가 발생될 것으로 예상되는 문장  \n",
    "    ...  \n",
    "\n",
    "except [오류 이름 [as 변수]]: #필수 => 오류 이름은 생략할 수 있다.\n",
    "    #Q. 오류 이름을 비우면 모든 오류에 대하여 반응하나?  \n",
    "    오류가 발생되면 실행할 문장\n",
    "finally: #선택 => 필요하면 사용\n",
    "    오류 발생여부와 무관하게 무조건 실행할 문장\n",
    "    ...\n",
    "~~~\n",
    "\\* [] : 생략 가능 "
   ],
   "cell_type": "markdown",
   "metadata": {}
  },
  {
   "source": [
    "python에는 클래스가 없다? 어떻게 된거다??\n",
    "- 절대경로와 상대경로는 어느 언어나 똑같다고 함!! 자바는 C든, html이든."
   ],
   "cell_type": "markdown",
   "metadata": {}
  },
  {
   "source": [
    "에러가 나게되면, 프로그램이 멈추고 코드가 실행되지 않는다.  "
   ],
   "cell_type": "markdown",
   "metadata": {}
  },
  {
   "cell_type": "code",
   "execution_count": 2,
   "metadata": {},
   "outputs": [
    {
     "output_type": "error",
     "ename": "ZeroDivisionError",
     "evalue": "division by zero",
     "traceback": [
      "\u001b[1;31m---------------------------------------------------------------------------\u001b[0m",
      "\u001b[1;31mZeroDivisionError\u001b[0m                         Traceback (most recent call last)",
      "\u001b[1;32m<ipython-input-2-6e617d081f15>\u001b[0m in \u001b[0;36m<module>\u001b[1;34m\u001b[0m\n\u001b[1;32m----> 1\u001b[1;33m \u001b[0mprint\u001b[0m\u001b[1;33m(\u001b[0m\u001b[1;36m4\u001b[0m\u001b[1;33m/\u001b[0m\u001b[1;36m0\u001b[0m\u001b[1;33m)\u001b[0m \u001b[1;31m#ZeroDivisionError\u001b[0m\u001b[1;33m\u001b[0m\u001b[1;33m\u001b[0m\u001b[0m\n\u001b[0m",
      "\u001b[1;31mZeroDivisionError\u001b[0m: division by zero"
     ]
    }
   ],
   "source": [
    "print(4/0) #ZeroDivisionError"
   ]
  },
  {
   "cell_type": "code",
   "execution_count": 9,
   "metadata": {},
   "outputs": [
    {
     "output_type": "stream",
     "name": "stdout",
     "text": [
      "2.0\nhello world!\n"
     ]
    }
   ],
   "source": [
    "try:\n",
    "    print(4/2) #에러시점 이전의 문장은 정상 실행\n",
    "    #print(4/2)\n",
    "    print(4/0)\n",
    "    #에러가 발생한 문장 이후는 정상이어도 실행되지 않음\n",
    "except:\n",
    "    #print('나눗셈은 0으로 할 수 없습니다.')\n",
    "    #내부에 아무거나 반드시 써 넣어야 함.\n",
    "    #아무것도 실행하지 않으려면, pass를 이용\n",
    "    pass\n",
    "print('hello world!')\n",
    "\n",
    "#try-except는 매우 특이해보인다. 실행시간은 얼마나 걸릴까? PC 기준으로 거의 티도 안나겠지?"
   ]
  },
  {
   "source": [
    "data = {1, 2, 3}\n",
    "print(data[2])\n",
    "print(data[3])\n",
    "print(data[0])"
   ],
   "cell_type": "code",
   "metadata": {},
   "execution_count": 10,
   "outputs": [
    {
     "output_type": "error",
     "ename": "TypeError",
     "evalue": "'set' object is not subscriptable",
     "traceback": [
      "\u001b[1;31m---------------------------------------------------------------------------\u001b[0m",
      "\u001b[1;31mTypeError\u001b[0m                                 Traceback (most recent call last)",
      "\u001b[1;32m<ipython-input-10-0c52c482cbaa>\u001b[0m in \u001b[0;36m<module>\u001b[1;34m\u001b[0m\n\u001b[0;32m      1\u001b[0m \u001b[0mdata\u001b[0m \u001b[1;33m=\u001b[0m \u001b[1;33m{\u001b[0m\u001b[1;36m1\u001b[0m\u001b[1;33m,\u001b[0m \u001b[1;36m2\u001b[0m\u001b[1;33m,\u001b[0m \u001b[1;36m3\u001b[0m\u001b[1;33m}\u001b[0m\u001b[1;33m\u001b[0m\u001b[1;33m\u001b[0m\u001b[0m\n\u001b[1;32m----> 2\u001b[1;33m \u001b[0mprint\u001b[0m\u001b[1;33m(\u001b[0m\u001b[0mdata\u001b[0m\u001b[1;33m[\u001b[0m\u001b[1;36m2\u001b[0m\u001b[1;33m]\u001b[0m\u001b[1;33m)\u001b[0m\u001b[1;33m\u001b[0m\u001b[1;33m\u001b[0m\u001b[0m\n\u001b[0m\u001b[0;32m      3\u001b[0m \u001b[0mprint\u001b[0m\u001b[1;33m(\u001b[0m\u001b[0mdata\u001b[0m\u001b[1;33m[\u001b[0m\u001b[1;36m3\u001b[0m\u001b[1;33m]\u001b[0m\u001b[1;33m)\u001b[0m\u001b[1;33m\u001b[0m\u001b[1;33m\u001b[0m\u001b[0m\n\u001b[0;32m      4\u001b[0m \u001b[0mprint\u001b[0m\u001b[1;33m(\u001b[0m\u001b[0mdata\u001b[0m\u001b[1;33m[\u001b[0m\u001b[1;36m0\u001b[0m\u001b[1;33m]\u001b[0m\u001b[1;33m)\u001b[0m\u001b[1;33m\u001b[0m\u001b[1;33m\u001b[0m\u001b[0m\n",
      "\u001b[1;31mTypeError\u001b[0m: 'set' object is not subscriptable"
     ]
    }
   ]
  },
  {
   "cell_type": "code",
   "execution_count": null,
   "metadata": {},
   "outputs": [],
   "source": [
    "data = [1, 2, 3]\n",
    "print(data[2])\n",
    "print(data[3]) #index 에러 발생함.\n",
    "print(data[0])"
   ]
  },
  {
   "source": [
    "에러 해결하기"
   ],
   "cell_type": "markdown",
   "metadata": {}
  },
  {
   "cell_type": "code",
   "execution_count": 38,
   "metadata": {},
   "outputs": [
    {
     "output_type": "stream",
     "name": "stdout",
     "text": [
      "3\n"
     ]
    },
    {
     "output_type": "error",
     "ename": "IndexError",
     "evalue": "list index out of range",
     "traceback": [
      "\u001b[1;31m---------------------------------------------------------------------------\u001b[0m",
      "\u001b[1;31mIndexError\u001b[0m                                Traceback (most recent call last)",
      "\u001b[1;32m<ipython-input-38-16c4ad1b21a6>\u001b[0m in \u001b[0;36m<module>\u001b[1;34m\u001b[0m\n\u001b[0;32m      2\u001b[0m \u001b[1;32mtry\u001b[0m\u001b[1;33m:\u001b[0m \u001b[1;31m#에러가 예상되는 지점\u001b[0m\u001b[1;33m\u001b[0m\u001b[1;33m\u001b[0m\u001b[0m\n\u001b[0;32m      3\u001b[0m     \u001b[0mprint\u001b[0m\u001b[1;33m(\u001b[0m\u001b[0mdata\u001b[0m\u001b[1;33m[\u001b[0m\u001b[1;36m2\u001b[0m\u001b[1;33m]\u001b[0m\u001b[1;33m)\u001b[0m\u001b[1;33m\u001b[0m\u001b[1;33m\u001b[0m\u001b[0m\n\u001b[1;32m----> 4\u001b[1;33m     \u001b[0mprint\u001b[0m\u001b[1;33m(\u001b[0m\u001b[0mdata\u001b[0m\u001b[1;33m[\u001b[0m\u001b[1;36m3\u001b[0m\u001b[1;33m]\u001b[0m\u001b[1;33m)\u001b[0m \u001b[1;31m#index 에러 발생함.\u001b[0m\u001b[1;33m\u001b[0m\u001b[1;33m\u001b[0m\u001b[0m\n\u001b[0m\u001b[0;32m      5\u001b[0m     \u001b[0mprint\u001b[0m\u001b[1;33m(\u001b[0m\u001b[0mdata\u001b[0m\u001b[1;33m[\u001b[0m\u001b[1;36m0\u001b[0m\u001b[1;33m]\u001b[0m\u001b[1;33m)\u001b[0m\u001b[1;33m\u001b[0m\u001b[1;33m\u001b[0m\u001b[0m\n\u001b[0;32m      6\u001b[0m \u001b[1;32mexcept\u001b[0m \u001b[0mZeroDivisionError\u001b[0m\u001b[1;33m:\u001b[0m\u001b[1;33m\u001b[0m\u001b[1;33m\u001b[0m\u001b[0m\n",
      "\u001b[1;31mIndexError\u001b[0m: list index out of range"
     ]
    }
   ],
   "source": [
    "data = [1, 2, 3]\n",
    "try: #에러가 예상되는 지점\n",
    "    print(data[2])\n",
    "    print(data[3]) #index 에러 발생함.\n",
    "    print(data[0])\n",
    "except ZeroDivisionError:\n",
    "    print('에러가 발생하였습니다.')\n",
    "print('다음문장')"
   ]
  },
  {
   "source": [
    "try-except를 모든 구간에 만들어 에러처리를 할 수는 없다.\n",
    "\n",
    "에러가 한 종류만 발생할 수도 없다."
   ],
   "cell_type": "markdown",
   "metadata": {}
  },
  {
   "cell_type": "code",
   "execution_count": 19,
   "metadata": {},
   "outputs": [
    {
     "output_type": "stream",
     "name": "stdout",
     "text": [
      "hello\n정수 포맷에 문자열이 사용되었습니다.\n"
     ]
    }
   ],
   "source": [
    "string = 'hello'\n",
    "print(string)\n",
    "try:\n",
    "    #print(4/0) #ZeroDivisionError 발생\n",
    "    data = [1,2,3]\n",
    "    #print(data[3]) #IndexError 발생\n",
    "    print('%d' % string) #TypeError 발생\n",
    "except ZeroDivisionError: #걸러낼 오류 이름을 쓰면 그 상황에서만 오류를 처리함.\n",
    "    print('나눗셈은 0으로 할 수 없습니다.')\n",
    "except IndexError:\n",
    "    print('인덱스 범위 초과')\n",
    "except TypeError:\n",
    "    print('정수 포맷에 문자열이 사용되었습니다.')\n",
    "\n",
    "#except구문은 순서는 상관없다!"
   ]
  },
  {
   "source": [
    "as를 이용하여 에러의 자세한 내용을 e에 받아서 출력하여 볼 수 있다.  \n",
    "except 오류이름 as 변수:"
   ],
   "cell_type": "markdown",
   "metadata": {}
  },
  {
   "cell_type": "code",
   "execution_count": 22,
   "metadata": {},
   "outputs": [
    {
     "output_type": "stream",
     "name": "stdout",
     "text": [
      "hello\n리스트 인덱스 지정이 올바르지 않습니다.\nlist index out of range\n"
     ]
    }
   ],
   "source": [
    "string = 'hello'\n",
    "print(string)\n",
    "try:\n",
    "    #print(4/0) #ZeroDivisionError 발생\n",
    "    data = [1,2,3]\n",
    "    print(data[3]) #IndexError 발생\n",
    "    #print('%d' % string) #TypeError 발생\n",
    "except ZeroDivisionError:\n",
    "    print('나눗셈은 0으로 할 수 없습니다.')\n",
    "except IndexError as e:\n",
    "    print('리스트 인덱스 지정이 올바르지 않습니다.')\n",
    "    print(e) \n",
    "except TypeError:\n",
    "    print('데이터 타입이 올바르지 않습니다.')"
   ]
  },
  {
   "source": [
    "except 구문은 순서에 민감하다.  \n",
    "except 에러이름: 구문과  \n",
    "except: 구문을 사용할 때 유의해야 한다.  \n",
    "오류 이름이 지정되지 않은 구문은 모든 구문을 처리함.  \n",
    "때문에 맨 밑에 작성하여야 한다.  "
   ],
   "cell_type": "markdown",
   "metadata": {}
  },
  {
   "cell_type": "code",
   "execution_count": 23,
   "metadata": {},
   "outputs": [
    {
     "output_type": "error",
     "ename": "SyntaxError",
     "evalue": "default 'except:' must be last (<ipython-input-23-1e73b41f8e4a>, line 9)",
     "traceback": [
      "\u001b[1;36m  File \u001b[1;32m\"<ipython-input-23-1e73b41f8e4a>\"\u001b[1;36m, line \u001b[1;32m9\u001b[0m\n\u001b[1;33m    except: #이 경우 모든 문장을 처리함.\u001b[0m\n\u001b[1;37m                          ^\u001b[0m\n\u001b[1;31mSyntaxError\u001b[0m\u001b[1;31m:\u001b[0m default 'except:' must be last\n"
     ]
    }
   ],
   "source": [
    "string = 'hello'\n",
    "print(string)\n",
    "try:\n",
    "    #print(4/0) #ZeroDivisionError 발생\n",
    "    data = [1,2,3]\n",
    "    print(data[3]) #IndexError 발생\n",
    "    #print('%d' % string) #TypeError 발생\n",
    "\n",
    "except: #모든 문장을 처리하는 구문은 앞에 올 수 없다.\n",
    "    pass\n",
    "    #에러가 걸러준다. 맨 뒤로 보내라고.\n",
    "\n",
    "except ZeroDivisionError:\n",
    "    print('나눗셈은 0으로 할 수 없습니다.')\n",
    "except IndexError as e:\n",
    "    print('리스트 인덱스 지정이 올바르지 않습니다.')\n",
    "    print(e) \n",
    "except TypeError:\n",
    "    print('데이터 타입이 올바르지 않습니다.')"
   ]
  },
  {
   "source": [
    "finally 구문  \n",
    "에러가 나도 반드시 실행해야 할 구문이 있다면 활용"
   ],
   "cell_type": "markdown",
   "metadata": {}
  },
  {
   "cell_type": "code",
   "execution_count": 29,
   "metadata": {},
   "outputs": [
    {
     "output_type": "stream",
     "name": "stdout",
     "text": [
      "hello\n모든 에러 처리\n오류여부와 무관하게 실행\n반드시 실행해야할게 있다면 작성!\n"
     ]
    }
   ],
   "source": [
    "string = 'hello'\n",
    "print(string)\n",
    "try:\n",
    "    #print(4/0) #ZeroDivisionError 발생\n",
    "    data = [1,2,3]\n",
    "    #print(data[3]) #IndexError 발생\n",
    "    print('%d' % string) #TypeError 발생\n",
    "\n",
    "except ZeroDivisionError:\n",
    "    print('나눗셈은 0으로 할 수 없습니다.')\n",
    "except IndexError as e:\n",
    "    print('리스트 인덱스 지정이 올바르지 않습니다.')\n",
    "    print(e) \n",
    "#except TypeError:\n",
    "#    print('데이터 타입이 올바르지 않습니다.')\n",
    "\n",
    "except: \n",
    "    print('모든 에러 처리') #기본 에러처리 개념\n",
    "\n",
    "finally:\n",
    "    print('오류여부와 무관하게 실행')\n",
    "    print('반드시 실행해야할게 있다면 작성!')\n"
   ]
  },
  {
   "source": [
    "---\n",
    "데이터가 마구잡이로 복잡하게 입력되는 상황에서 에러 처리하기  "
   ],
   "cell_type": "markdown",
   "metadata": {}
  },
  {
   "source": [
    "data = ['5', 1, 3, '9', 8]\n",
    "print(data)\n",
    "data.sort() #sort가 제대로 동작하지 못함\n",
    "print(data)\n",
    "data.sort(reverse = True)\n",
    "print(data)"
   ],
   "cell_type": "code",
   "metadata": {},
   "execution_count": 33,
   "outputs": [
    {
     "output_type": "stream",
     "name": "stdout",
     "text": [
      "['5', 1, 3, '9', 8]\n"
     ]
    },
    {
     "output_type": "error",
     "ename": "TypeError",
     "evalue": "'<' not supported between instances of 'int' and 'str'",
     "traceback": [
      "\u001b[1;31m---------------------------------------------------------------------------\u001b[0m",
      "\u001b[1;31mTypeError\u001b[0m                                 Traceback (most recent call last)",
      "\u001b[1;32m<ipython-input-33-e5fb6cd1cb71>\u001b[0m in \u001b[0;36m<module>\u001b[1;34m\u001b[0m\n\u001b[0;32m      1\u001b[0m \u001b[0mdata\u001b[0m \u001b[1;33m=\u001b[0m \u001b[1;33m[\u001b[0m\u001b[1;34m'5'\u001b[0m\u001b[1;33m,\u001b[0m \u001b[1;36m1\u001b[0m\u001b[1;33m,\u001b[0m \u001b[1;36m3\u001b[0m\u001b[1;33m,\u001b[0m \u001b[1;34m'9'\u001b[0m\u001b[1;33m,\u001b[0m \u001b[1;36m8\u001b[0m\u001b[1;33m]\u001b[0m\u001b[1;33m\u001b[0m\u001b[1;33m\u001b[0m\u001b[0m\n\u001b[0;32m      2\u001b[0m \u001b[0mprint\u001b[0m\u001b[1;33m(\u001b[0m\u001b[0mdata\u001b[0m\u001b[1;33m)\u001b[0m\u001b[1;33m\u001b[0m\u001b[1;33m\u001b[0m\u001b[0m\n\u001b[1;32m----> 3\u001b[1;33m \u001b[0mdata\u001b[0m\u001b[1;33m.\u001b[0m\u001b[0msort\u001b[0m\u001b[1;33m(\u001b[0m\u001b[1;33m)\u001b[0m\u001b[1;33m\u001b[0m\u001b[1;33m\u001b[0m\u001b[0m\n\u001b[0m\u001b[0;32m      4\u001b[0m \u001b[0mprint\u001b[0m\u001b[1;33m(\u001b[0m\u001b[0mdata\u001b[0m\u001b[1;33m)\u001b[0m\u001b[1;33m\u001b[0m\u001b[1;33m\u001b[0m\u001b[0m\n\u001b[0;32m      5\u001b[0m \u001b[0mdata\u001b[0m\u001b[1;33m.\u001b[0m\u001b[0msort\u001b[0m\u001b[1;33m(\u001b[0m\u001b[0mreverse\u001b[0m \u001b[1;33m=\u001b[0m \u001b[1;32mTrue\u001b[0m\u001b[1;33m)\u001b[0m\u001b[1;33m\u001b[0m\u001b[1;33m\u001b[0m\u001b[0m\n",
      "\u001b[1;31mTypeError\u001b[0m: '<' not supported between instances of 'int' and 'str'"
     ]
    }
   ]
  },
  {
   "source": [
    "## 실습\n",
    "숫자와 문자가 섞여서 데이터가 입력될 때 오름차순으로 정렬해서 출력하기  \n",
    "'999'가 입력되면 정렬을 시작"
   ],
   "cell_type": "markdown",
   "metadata": {}
  },
  {
   "cell_type": "code",
   "execution_count": 44,
   "metadata": {},
   "outputs": [
    {
     "output_type": "error",
     "ename": "SyntaxError",
     "evalue": "unexpected EOF while parsing (<ipython-input-44-551761e7ef90>, line 4)",
     "traceback": [
      "\u001b[1;36m  File \u001b[1;32m\"<ipython-input-44-551761e7ef90>\"\u001b[1;36m, line \u001b[1;32m4\u001b[0m\n\u001b[1;33m    data = int(data)\u001b[0m\n\u001b[1;37m                    ^\u001b[0m\n\u001b[1;31mSyntaxError\u001b[0m\u001b[1;31m:\u001b[0m unexpected EOF while parsing\n"
     ]
    }
   ],
   "source": [
    "#My Trial and error...\n",
    "data = input('값을 입력하세요').split()\n",
    "print(data)\n",
    "\n",
    "try:\n",
    "    data = int(data)\n"
   ]
  },
  {
   "cell_type": "code",
   "execution_count": 45,
   "metadata": {},
   "outputs": [
    {
     "output_type": "stream",
     "name": "stdout",
     "text": [
      "예상치 못한 에러 발생\n",
      "예상치 못한 에러 발생\n",
      "예상치 못한 에러 발생\n",
      "예상치 못한 에러 발생\n"
     ]
    }
   ],
   "source": [
    "#Teacher's Solution\n",
    "number = []\n",
    "alpha = []\n",
    "while True: #'999'가 언제 들어올지 모르니.\n",
    "    var = input('정렬할 데이터를 입력. 999입력하면 정렬 시작함.')\n",
    "    if var == '999':\n",
    "        break\n",
    "    try:\n",
    "        number.append(int(var))\n",
    "    except TypeError:\n",
    "        alpha.append(var)\n",
    "    except:\n",
    "        print('예상치 못한 에러 발생')\n",
    "    finally:\n",
    "        print(var)\n",
    "\n"
   ]
  }
 ]
}