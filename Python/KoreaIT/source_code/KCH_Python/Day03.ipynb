{
 "cells": [
  {
   "cell_type": "code",
   "execution_count": 2,
   "metadata": {},
   "outputs": [
    {
     "name": "stdout",
     "output_type": "stream",
     "text": [
      "Hello World!\n"
     ]
    }
   ],
   "source": [
    "'''\n",
    "String\n",
    "'''\n",
    "mem = 'Hello World!'\n",
    "print(mem)\n",
    "#Javascript, HTML도 '', \"\"를 구분하지 않는다."
   ]
  },
  {
   "cell_type": "code",
   "execution_count": 8,
   "metadata": {},
   "outputs": [
    {
     "name": "stdout",
     "output_type": "stream",
     "text": [
      "살어리랏다\n",
      "살어리랏다\n",
      "늴리리\n"
     ]
    }
   ],
   "source": [
    "'''\n",
    "개행문자(\\n)를 사용하지 않고 여러줄 문자열 만들기\n",
    "'''\n",
    "mem = \"\"\"살어리랏다\n",
    "살어리랏다\n",
    "늴리리\"\"\"\n",
    "print(mem)"
   ]
  },
  {
   "cell_type": "code",
   "execution_count": null,
   "metadata": {},
   "outputs": [],
   "source": [
    "'''\n",
    "Indexing / Slicing\n",
    "Indexing : 문자열에서 특정위치의 문자 1개 참조\n",
    "Slicing : 문자열에서 지정된 '범위'의 문자열 참조\n",
    "'''\n",
    "pass"
   ]
  },
  {
   "cell_type": "code",
   "execution_count": 25,
   "metadata": {
    "scrolled": true
   },
   "outputs": [
    {
     "name": "stdout",
     "output_type": "stream",
     "text": [
      "W\n",
      "c\n",
      "!\n",
      "!\n",
      "W\n"
     ]
    }
   ],
   "source": [
    "#문자열 Indexing\n",
    "string = \"We are the champions, My friends!\"\n",
    "print(string[0])\n",
    "print(string[11])\n",
    "#len()함수 이용하기\n",
    "#java에서는 len()가 아닌 lenth()를 사용.\n",
    "print(string[len(string)-1])\n",
    "#음수 index 사용하기\n",
    "#Java에서는 미지원\n",
    "print(string[-1])\n",
    "print(string[-len(string)])\n",
    "### 음수 indexing은 1부터 세는것과 같다."
   ]
  },
  {
   "cell_type": "code",
   "execution_count": 33,
   "metadata": {},
   "outputs": [
    {
     "name": "stdout",
     "output_type": "stream",
     "text": [
      "champions\n",
      "champions\n",
      "\n",
      "W\n"
     ]
    }
   ],
   "source": [
    "'''\n",
    "String Slicing\n",
    "슬라이싱 범위는 [시작위치:끝위치] 형태로 지정. \n",
    "시작위치부터 끝위치-1임에 유의할 것.\n",
    "시작위치 index도 실제순서 -1이므로, 찾으려는 문자열의 길이만 더했을 때\n",
    "올바른 답이 나오도록 하기 위함.\n",
    "'''\n",
    "string = \"We are the champions, My friends!\"\n",
    "mem = string[11:11+9]\n",
    "print(mem)\n",
    "mem = string[11:11+len(\"champions\")]\n",
    "print(mem)\n",
    "print(string[0:0]) #아무것도 출력안함\n",
    "print(string[0:1]) #첫글자"
   ]
  },
  {
   "cell_type": "code",
   "execution_count": 37,
   "metadata": {},
   "outputs": [
    {
     "name": "stdout",
     "output_type": "stream",
     "text": [
      "We are the champions\n",
      "We are the champions\n",
      "\n",
      "\n",
      "We are the champions, My friends!\n"
     ]
    }
   ],
   "source": [
    "#시작위치 생략(0은 생략 가능)\n",
    "print(string[:20])\n",
    "print(string[0:20]) #위와 같음\n",
    "print(string[0:0]) #아무것도 없음\n",
    "print(string[:0]) #아무것도 없음\n",
    "print(string[:]) #전체"
   ]
  },
  {
   "cell_type": "code",
   "execution_count": 41,
   "metadata": {
    "scrolled": true
   },
   "outputs": [
    {
     "name": "stdout",
     "output_type": "stream",
     "text": [
      "My friends!\n",
      "\n",
      "!\n"
     ]
    }
   ],
   "source": [
    "print(string[22:33]) #끝자리는 indexing 규칙과 상관없다. overflow가 아니다.\n",
    "print(string[33:33]) #아무것도 없다\n",
    "print(string[32:33]) #끝글자\n",
    "#시작위치~끝위치의 간격이 중요함."
   ]
  }
 ],
 "metadata": {
  "kernelspec": {
   "display_name": "Python 3",
   "language": "python",
   "name": "python3"
  },
  "language_info": {
   "codemirror_mode": {
    "name": "ipython",
    "version": 3
   },
   "file_extension": ".py",
   "mimetype": "text/x-python",
   "name": "python",
   "nbconvert_exporter": "python",
   "pygments_lexer": "ipython3",
   "version": "3.7.4"
  }
 },
 "nbformat": 4,
 "nbformat_minor": 2
}
