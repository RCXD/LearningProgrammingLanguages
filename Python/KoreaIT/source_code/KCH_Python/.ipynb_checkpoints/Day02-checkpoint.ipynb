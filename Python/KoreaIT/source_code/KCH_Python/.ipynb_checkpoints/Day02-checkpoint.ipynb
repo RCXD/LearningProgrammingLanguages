{
 "cells": [
  {
   "cell_type": "code",
   "execution_count": null,
   "metadata": {},
   "outputs": [],
   "source": [
    "#Operator 우선순위\n",
    "#() => ** => *, /, //, % => +, -\n",
    "#일반 산술논리처럼."
   ]
  },
  {
   "cell_type": "code",
   "execution_count": null,
   "metadata": {},
   "outputs": [],
   "source": [
    "#format()메소드, {} 사용해서 출력\n",
    "#\"%\"를 이용해서 서식 지정하는 대신 {}를 사용할 수도 있음. \n",
    "#이때는 .format() 매소드와 사용!\n",
    "print(\"%d + %d = %d\" % (5, 3, 5+3))\n",
    "print(\"{} + {} = {}\".format(5, 3, 5+3))\n",
    "#이걸로 뭘 할 수 있을까?\n",
    "#함수를 표현할 때 훨씬 편할거같긴 한데?\n",
    "#d인지 f인지 s인지 자료형을 생각하기 귀찮을때 매우 유용한듯.\n",
    "#자료형 알아도 큰 의미가 없어보이니.. 물론 cpu계층까지 내려가봐야 알겠지만."
   ]
  },
  {
   "cell_type": "code",
   "execution_count": null,
   "metadata": {},
   "outputs": [],
   "source": [
    "print(\"{} {} {} = {}\".format(5,'+',3, 5+3))\n",
    "print(\"{} {} {} = {}\".format(5,'-',3, 5-3))\n",
    "print(\"{} {} {} = {}\".format(5,'*',3, 5*3))\n",
    "print(\"{}{}{} = {}\".format(5,'^',3, 5**3))\n",
    "print(\"{} {} {} = {}\".format(5,'/',3, 5/3))\n",
    "print(\"{} {} {} = {}\".format(5,'//',3, 5//3))\n",
    "print(\"{} {} {} = {}\".format(5,'%',3, 5%3))\n",
    "print(\"√{} = {}\".format(2,2**0.5))\n",
    "#출력포맷 설정은 어떻게함??"
   ]
  },
  {
   "cell_type": "code",
   "execution_count": null,
   "metadata": {},
   "outputs": [],
   "source": [
    "print(\"{} {}\".format(\"Hello\",\"World!\"))\n",
    "#error\n",
    "'''\n",
    "print(\"{} {}\".format(\"Hello!\")) #error : tuple index out of range\n",
    "'''\n",
    "print(\"{} {}\".format(\"Hello\",\"World\",\"!\")) #남는 데이터는 무시됨! => \"!\"는 무시됨.\n",
    "#두 개수를 맞춰줘야 에러가 안난다.\n",
    "#.format 매소드 안에 적어주는것은 튜플이라는것!"
   ]
  },
  {
   "cell_type": "code",
   "execution_count": null,
   "metadata": {},
   "outputs": [],
   "source": [
    "# format() 매소드의 인덱스 사용해서 출력하기\n",
    "print(\"{0} {1}\".format(\"Hello\",\"World!\"))\n",
    "print(\"{1} {0}\".format(\"Hello\",\"World!\"))\n",
    "'''\n",
    "print(\"{2} {1}\".format(\"Hello\",\"World!\")) #tuple index out of range\n",
    "'''\n",
    "#index를 잘 이용하면 개수가 달라도 에러 없음\n",
    "print(\"{0} {0}\".format(\"Hello!\"))\n",
    "#index를 쓸거면 전부, 안쓸거면 다 안써야함. 알아서 채워주는건 없음.\n",
    "'''\n",
    "print(\"{} {0}\".format(\"Hello!\",\"World!\"))\n",
    "'''"
   ]
  },
  {
   "cell_type": "code",
   "execution_count": null,
   "metadata": {},
   "outputs": [],
   "source": [
    "'''\n",
    "출력서식, 포맷매소드\n",
    "{index:Output_format} => 단, %는 사용하지 않는다.\n",
    "'''\n",
    "print(\"{0:d}, {1:f}, {2:s}\".format(500, 5.55, 'oo'))\n",
    "print(\"{:-06d}\".format(123))\n",
    "print(\"{0:-06d}\\n{1:06d}\".format(123, 456, 789))\n",
    "print(\"{0:-6d}\\n{1:6d}\".format(123, 456, 789))"
   ]
  },
  {
   "cell_type": "code",
   "execution_count": null,
   "metadata": {},
   "outputs": [],
   "source": [
    "'''\n",
    "지정포맷 내 중간정렬\n",
    "'''\n",
    "print(\"이름 : {0:^10s}.\".format('홍길동'))\n",
    "'''\n",
    "지정포맷 내 좌, 우측정렬(default : 좌측정렬)\n",
    "'''\n",
    "print(\"이름 : {0:<10s}.\".format('홍길동'))\n",
    "print(\"이름 : {0:>10s}.\".format('홍길동'))\n",
    "#UTF8 유니코드에서는 한글도 1글자다. KSC5601 표준코드도 국제표준이 아님.\n",
    "#c, c++만 1바이트, ascii코드를 쓴다. 파이썬, 자바 등 언어는 2바이트코드, 유니코드다.\n",
    "#중간정렬시 남는 칸은 적절히 분배된다.(7칸 남으면 3, 4칸으로 좌우 분배)\n",
    "\n",
    "'''\n",
    "빈공간에 채워지는 문자를 정할수 도 있다.\n",
    "'''\n",
    "print(\"이름 : {0:3^10s}.\".format('홍길동')) #남용하면 오류가 날 것 같다.\n",
    "print(\"이름 : {0:_^10s}.\".format('홍길동'))\n",
    "print(\"이름 : {0:&^10s}.\".format('홍길동'))"
   ]
  },
  {
   "cell_type": "code",
   "execution_count": null,
   "metadata": {
    "scrolled": false
   },
   "outputs": [],
   "source": [
    "'''\n",
    "f-string 기능\n",
    "f 접두어를 사용한 서식 지정(python 3.6이상에서만 지원)\n",
    "'''\n",
    "#아래는 변수(Variable)\n",
    "name = \"홍길동\"\n",
    "age = 35\n",
    "print(f\"{name}의 나이는 {age}입니다.\")\n",
    "print(f\"{name}의 나이는 {age:_^10d}입니다.\")\n",
    "\n",
    "'''\n",
    "변수는 컵과 같다. 데이터는 내용물과 같다.\n",
    "데이터가 물이면 물컵이 되고, 데이터가 커피면 커피잔이 되듯이.\n",
    "'''\n",
    "pass #jupyter notebook에서 ''''''를 이용한 주석이 Output으로 출력되는거 방지"
   ]
  },
  {
   "cell_type": "code",
   "execution_count": null,
   "metadata": {},
   "outputs": [],
   "source": [
    "#Thinking#\n",
    "'''\n",
    "f-string 기능\n",
    "'''\n",
    "name = 'Bob'\n",
    "test = f'{name} Dillon' #더 간결!\n",
    "print(test)\n",
    "\n",
    "\n",
    "'''\n",
    "str.format 매소드\n",
    "'''\n",
    "name = 'Bob'\n",
    "#test = '{name} Dillon'.format(name=name)\n",
    "test = '{} Dillon'.format(name)\n",
    "print(test)\n",
    "\n",
    "'''\n",
    "% Operator\n",
    "'''\n",
    "name = 'Bob'\n",
    "test = '%s Dillon' %(name)\n",
    "print(test)\n",
    "\n",
    "'''\n",
    "구식 printf함수처럼 print함수가 동작하는 줄 알았는데... 전혀 아니었다.\n",
    "https://brownbears.tistory.com/421에서 말하길, \n",
    "실행속도는 f-string, %op, str.format 순으로 빠른듯.\n",
    "timeit.timeit(\"\"\"...\"\"\", number = 10000)\n",
    "'''\n",
    "pass\n",
    "#근데, Out []:창은 뭐지?"
   ]
  },
  {
   "cell_type": "code",
   "execution_count": null,
   "metadata": {},
   "outputs": [],
   "source": [
    "'''\n",
    "variable은 상수(constant)데이터를 저장하기 위한 기억장소.\n",
    "주기억장치 : 통상 RAM이라고...\n",
    "'''\n",
    "'''\n",
    "주소창에 네이버주소창을 치면,\n",
    "DNS(Doname ? Server)가 해당 IP주소를 알려준다.\n",
    "'''\n",
    "'''\n",
    "변수명으로 할 수 있는건 C랑 같은데 변수를 미리 선언하지 않아도 된다(?)\n",
    "특수문자는 언더바만, 시작문자는 _, 영문자만.\n",
    "'''\n",
    "__raw = 'asd'\n",
    "print(__raw)"
   ]
  },
  {
   "cell_type": "code",
   "execution_count": null,
   "metadata": {},
   "outputs": [],
   "source": [
    "'''\n",
    "Python은 근본이 없다?\n",
    "무시되는게 너무 많아서 그런가.\n",
    "자료형도 거의 무시되고...\n",
    "'''\n",
    "pass"
   ]
  },
  {
   "cell_type": "code",
   "execution_count": null,
   "metadata": {},
   "outputs": [],
   "source": [
    "'''\n",
    "자료형\n",
    "'''\n",
    "a = '홍길동'\n",
    "print(type(a))\n",
    "a = 100\n",
    "print(type(a)) #자료형이 자동으로 변환된다. 어떤 원리일까? 동적 메모리할당?\n",
    "a = 5.598678\n",
    "print(type(a)) #double은 없나?\n",
    "a = True\n",
    "print(type(a)) #java에서는 boolean, C/C++에서는 bool. C#에서는\n",
    "'''\n",
    "R에서는 TRUE/FALSE로 써야 맞다고... 언어마다 True, False 표현이 다르다.\n",
    "자료형이 자동으로 바뀌는 언어는 몇 있다.\n",
    "javascript도 그렇다고..\n",
    "java와 javascript의 관계는...? 꺽쇠를 많이쓰던데...\n",
    "'''\n",
    "pass"
   ]
  },
  {
   "cell_type": "code",
   "execution_count": null,
   "metadata": {},
   "outputs": [],
   "source": [
    "'''\n",
    "필요없는 변수는 del명령으로 삭제할 수 있다!\n",
    "'''\n",
    "#전역변수, 지역변수, 전역변수랑은 상관없겠지만 이건 어떻게?\n",
    "a = 'man'\n",
    "print(a)\n",
    "del a\n",
    "print(a)"
   ]
  },
  {
   "cell_type": "code",
   "execution_count": null,
   "metadata": {},
   "outputs": [],
   "source": [
    "'''\n",
    "화면출력은 print, 파일출력은 write\n",
    "'''\n",
    "pass"
   ]
  },
  {
   "cell_type": "code",
   "execution_count": null,
   "metadata": {},
   "outputs": [],
   "source": [
    "'''\n",
    "키보드 입력 : input()\n",
    "입력프로그램을 짤 때는, 사용자의 편의를 최대한 고려해서! 짜야한다.\n",
    "'''\n",
    "print(\"이름을 입력하세요 : \",  end = \"\") #커서위치를 다음줄로 넘기지 않기위해\n",
    "name = input()\n",
    "output = '%s님 안녕하세요' %name\n",
    "print(output)\n",
    "output = f'{name}님 안녕하세요'\n",
    "print(output)\n",
    "output = '{name}님 안녕하세요'.format(name=name)\n",
    "print(output)\n",
    "\n",
    "\n",
    "age = input(\"나이를 입력하세요 : \")\n",
    "output = f'당신의 나이는 {age}살'\n",
    "print(output)\n",
    "\n",
    "\n",
    "output = '{name}님 안녕하세요'.format(name=inopu)\n",
    "print(output)"
   ]
  },
  {
   "cell_type": "code",
   "execution_count": null,
   "metadata": {},
   "outputs": [],
   "source": [
    "#Testing#\n",
    "output = '당신의 출신은 {name}입니다.'.format(name=input(\"출신을 입력하세요 : \"))\n",
    "print(output)\n",
    "#한줄로도 충분하네..."
   ]
  },
  {
   "cell_type": "code",
   "execution_count": null,
   "metadata": {},
   "outputs": [],
   "source": [
    "'''\n",
    "입력함수 사용할때 주의하자. 따옴표를 닫지않으면 안꺼진다... \n",
    "탈출하는방법이 있긴 하겠지?\n",
    "'''"
   ]
  },
  {
   "cell_type": "code",
   "execution_count": null,
   "metadata": {
    "scrolled": false
   },
   "outputs": [],
   "source": [
    "name = input(\"이름을 입력하세요: \")\n",
    "age = input(\"나이를 입력하세요: \")\n",
    "print(type(age))\n",
    "print(\"%s님은 %s살 입니다.\"%(name, age))\n",
    "print(\"{}은 {}살 입니다.\".format(name, age))\n",
    "\n",
    "'''\n",
    "print(\"{}은 내년에 {}tkf dlqslek.\".format(name, age+1)) #error\n",
    "python은 자료형을 자동으로 바꿔주기는 하지만 \n",
    "산술연산할때 문자열과 숫자는 연산할 수 없으므로 주의해야 한다.\n",
    "'''\n",
    "pass"
   ]
  },
  {
   "cell_type": "code",
   "execution_count": null,
   "metadata": {},
   "outputs": [],
   "source": [
    "'''\n",
    "입력값은 기본적으로 문자열이나, 다른 자료형으로 바꿀 수 있다.\n",
    "'''\n",
    "age = int(input(\"나이를 입력하세요: \"))\n",
    "distance = float(input(\"거리를 입력하세요: \"))\n",
    "#print(type(age), type(distance), sep=\", \")\n",
    "print(\"{}은 내년에 {}살 입니다.\".format(name, age+1))"
   ]
  },
  {
   "cell_type": "code",
   "execution_count": 3,
   "metadata": {},
   "outputs": [
    {
     "name": "stdout",
     "output_type": "stream",
     "text": [
      "이름을 입력하세요: 홍길동\n",
      "나이를 입력하세요: 35\n",
      "홍길동님은 35살 입니다.\n",
      "홍길동은 35살 입니다.\n"
     ]
    }
   ],
   "source": [
    "#출력서식도 바꿔주는게 좋다. 근데 안바꾸면 어떻게될까?\n",
    "name = input(\"이름을 입력하세요: \")\n",
    "age = int(input(\"나이를 입력하세요: \"))\n",
    "print(\"%s은 %d살 입니다.\"%(name, age))\n",
    "print(\"{}은 {:d}살 입니다.\".format(name, age))"
   ]
  },
  {
   "cell_type": "code",
   "execution_count": null,
   "metadata": {},
   "outputs": [],
   "source": [
    "'''\n",
    "split() 메소드를 사용하면 문자열을 구분자를 경계로 분리할 수 있음.\n",
    "구분자 지정을 안하면 공백이 기본 구분자(공백)로 사용됨.\n",
    "특이하게도, 구분자는 ''나 \"\"없이 사용....(wow?)\n",
    "'''\n",
    "print(\"Hello Python\")\n",
    "print(\"Hello Python\".split()) #list로 찢어짐\n",
    "print(\"Hello:Python\".split()) #찢어질게 없어도 출력은 list\n",
    "print(\"Hello:Python\".split(':'))\n",
    "print(\"Hello Python\".split( )) #비워둔거나 공백이나 뭐가다르겠니\n",
    "print(\"Hello Python\".split( ))\n",
    "print(\"Hello, Python\".split(', '))\n",
    "# 대괄호는 list. 중괄호는 Dictionary. 소괄호는 tuple.\n",
    "#java에서는 Hash map과 비슷하다나?"
   ]
  },
  {
   "cell_type": "code",
   "execution_count": null,
   "metadata": {},
   "outputs": [],
   "source": [
    "name, age = input(\"이름과 나이를 입력하세요 : \").split(\" \")\n",
    "#사용자가 공백을 매개로 사용하지 않는다면? 공백이 두개면 문제가 된다."
   ]
  },
  {
   "cell_type": "code",
   "execution_count": null,
   "metadata": {},
   "outputs": [],
   "source": [
    "name, age = input(\"이름과 나이를 입력하세요 : \").split(\" \")\n",
    "print(\"{}은 {}살 입니다.\".format(name, age))\n",
    "print(\"{}은 내년엔 {}살입니다.\".format(name, int(age)+1))"
   ]
  },
  {
   "cell_type": "code",
   "execution_count": 9,
   "metadata": {},
   "outputs": [
    {
     "name": "stdout",
     "output_type": "stream",
     "text": [
      "세 과목 점수를 입력하세요 : 35 35 35\n",
      "총점 : 105\n"
     ]
    }
   ],
   "source": [
    "'''\n",
    "입력값의 자료형을 일괄적으로 수정하려면 map함수를 사용한다.\n",
    "int()도 함수다. map 문법 : map(함수, list 또는 tuple)\n",
    "'''\n",
    "python, java, jsp = map(int, (input(\"세 과목 점수를 입력하세요 : \").split(\" \")))\n",
    "print(\"총점 : {}\".format(python+java+jsp))"
   ]
  }
 ],
 "metadata": {
  "kernelspec": {
   "display_name": "Python 3",
   "language": "python",
   "name": "python3"
  },
  "language_info": {
   "codemirror_mode": {
    "name": "ipython",
    "version": 3
   },
   "file_extension": ".py",
   "mimetype": "text/x-python",
   "name": "python",
   "nbconvert_exporter": "python",
   "pygments_lexer": "ipython3",
   "version": "3.7.4"
  }
 },
 "nbformat": 4,
 "nbformat_minor": 2
}
