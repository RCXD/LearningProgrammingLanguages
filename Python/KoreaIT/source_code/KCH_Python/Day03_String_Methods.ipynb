{
 "cells": [
  {
   "cell_type": "code",
   "execution_count": null,
   "metadata": {},
   "outputs": [],
   "source": [
    "'''\n",
    "len() Function  vs  count() Method\n",
    "'''\n",
    "string = \"We are the champions, My friends!\"\n",
    "print(string.count(\" \")) #공백 찾기\n",
    "print(string.count(\"\")) #문자열 길이 +1\n",
    "print(len(string))\n",
    "'''\n",
    "print(string.count()) #Argument Error\n",
    "'''\n",
    "pass"
   ]
  },
  {
   "cell_type": "code",
   "execution_count": null,
   "metadata": {},
   "outputs": [],
   "source": [
    "#특정문자 개수 세기\n",
    "string = \"We are the champions, My friends!\"\n",
    "print(string.count(\"e\"))\n",
    "print(string.count(\"We\"))\n",
    "print(string.count(\"we\"))\n",
    "'''\n",
    "결국 엑셀의 count함수랑 똑같이 동작하기는 한다.\n",
    "'''\n",
    "pass"
   ]
  },
  {
   "cell_type": "code",
   "execution_count": null,
   "metadata": {
    "scrolled": true
   },
   "outputs": [],
   "source": [
    "'''\n",
    "find() Method : 특정 문자열이 최초로 나타나는 index 찾기\n",
    "'''\n",
    "string = \"We are the champions, My friends!\"\n",
    "print(string.find(\"champions\"))\n",
    "print(string.find(\"friends!\"))\n",
    "print(string.find(\"we\")) # 없는 문자열 -> -1 (음수가 거짓이다)\n",
    "print(string.find(\"We\")) # 있는 문자열 -> index\n",
    "#검색기능으로 사용할 수 있다."
   ]
  },
  {
   "cell_type": "code",
   "execution_count": null,
   "metadata": {
    "scrolled": true
   },
   "outputs": [],
   "source": [
    "'''\n",
    "index() Methods\n",
    "'''\n",
    "string = \"We are the champions, My friends!\"\n",
    "print(string.find(\"We\")) \n",
    "print(string.index(\"We\")) \n",
    "print(string.find(\"we\")) #없음 -> -1\n",
    "'''\n",
    "print(string.index(\"we\")) #없음 -> error : substring not found\n",
    "'''\n",
    "pass"
   ]
  },
  {
   "cell_type": "code",
   "execution_count": 12,
   "metadata": {},
   "outputs": [
    {
     "name": "stdout",
     "output_type": "stream",
     "text": [
      "H&e&l&l&o&w\n",
      "K/o/r/e/a/I/T\n"
     ]
    }
   ],
   "source": [
    "string = \"KoreaIT\"\n",
    "# join() Method : 인수의 각 문자 사이사이에 class? 문자열 삽입\n",
    "\n",
    "print('&'.join(\"Hellow\")) #헬로우 사이에 & 추가\n",
    "print('/'.join(string)) #KoreaIT 사이에 / 추가\n",
    "\n",
    "'''\n",
    "list에 대해서 구분자를 포함해 합쳐진 문자열로 변환할 때 쓸 수도 있다.\n",
    "split 기능의 반대(?)로 이해 가능\n",
    "https://ourcstory.tistory.com/46\n",
    "'''\n",
    "pass"
   ]
  },
  {
   "cell_type": "code",
   "execution_count": 13,
   "metadata": {},
   "outputs": [
    {
     "name": "stdout",
     "output_type": "stream",
     "text": [
      "KOREAIT\n",
      "koreait\n"
     ]
    }
   ],
   "source": [
    "#대소문자를 일괄적으로 바꾸는 메소드\n",
    "#모든 언어에 다 있다.\n",
    "#upper() / lower()\n",
    "\n",
    "print(string.upper())\n",
    "print(string.lower())"
   ]
  },
  {
   "cell_type": "code",
   "execution_count": 28,
   "metadata": {},
   "outputs": [
    {
     "name": "stdout",
     "output_type": "stream",
     "text": [
      "    python    \n",
      "python-6\n",
      "python-6\n",
      "python    -10\n",
      "    python-10\n"
     ]
    }
   ],
   "source": [
    "'''\n",
    "입출력과정에서 발생하는 공백문자열 처리\n",
    "다른 언어는 trim; 가지치기 method가 있다.\n",
    "python은 strip, lstrip, rstrip이 있음.\n",
    "Crawling할 때 중요한 메소드!\n",
    "'''\n",
    "string1 = \"    python    \"\n",
    "string2 = \"1   python   2\"\n",
    "print(string1)\n",
    "#좌우측 공백 제거\n",
    "mem = string1.strip()\n",
    "print(mem, len(mem), sep='-')\n",
    "mem = string1.lstrip().rstrip() #되네? 결국 같은거임\n",
    "print(mem, len(mem), sep='-')\n",
    "#좌측공백 제거\n",
    "mem = string1.lstrip()\n",
    "print(mem, len(mem), sep='-') \n",
    "#우측공백 제거\n",
    "mem = string1.rstrip()\n",
    "print(mem, len(mem), sep='-') "
   ]
  },
  {
   "cell_type": "code",
   "execution_count": 31,
   "metadata": {
    "scrolled": true
   },
   "outputs": [
    {
     "name": "stdout",
     "output_type": "stream",
     "text": [
      "We are the champions, Your friends!\n",
      "Wi ari thi champions, My friinds!\n"
     ]
    }
   ],
   "source": [
    "'''\n",
    "문자열 치환 method\n",
    "문법 : replace(old string, new string) / 메소드는 문자열의 모든 oldstring을 newstring으로 치환\n",
    "* 단, java는 맨앞의 하나만 바꿔주는게 차이점.\n",
    "'''\n",
    "string = 'We are the champions, My friends!'\n",
    "mem = string.replace('My', 'Your')\n",
    "print(mem)\n",
    "mem = string.replace('e', 'i')\n",
    "print(mem)"
   ]
  },
  {
   "cell_type": "code",
   "execution_count": 37,
   "metadata": {
    "scrolled": true
   },
   "outputs": [
    {
     "name": "stdout",
     "output_type": "stream",
     "text": [
      "['We', 'are', 'the', 'champions,', 'My', 'friends!']\n",
      "<class 'list'>\n",
      "['We are the champions', ' My friends!']\n"
     ]
    }
   ],
   "source": [
    "string = 'We are the champions, My friends!'\n",
    "#split() Method는 인수로 지정된 구분자를 이용해 문자열을 나눔\n",
    "print(string.split())\n",
    "print(type(string.split()))\n",
    "print(string.split(','))\n",
    "#데이터 Parsing할 때 유용한듯"
   ]
  },
  {
   "cell_type": "code",
   "execution_count": 55,
   "metadata": {},
   "outputs": [
    {
     "name": "stdout",
     "output_type": "stream",
     "text": [
      "e are the champions, My friends\n",
      "python-6\n",
      "example\n",
      "example\n",
      "bject\n",
      "xampl\n",
      "xamp\n"
     ]
    }
   ],
   "source": [
    "#strip() 벗겨내다. 지정한 껍데기(인수)를 벗겨내는 것. 단, 양끝만!\n",
    "#인수에 적힌 각 문자의 순서는 무관\n",
    "#문자열 양끝에 지정 문자가 없어질때까지 삭제함!\n",
    "string = 'We are the champions, My friends!'\n",
    "mem = string.strip('W').strip('!')\n",
    "print(mem)\n",
    "\n",
    "string = '____python_____'\n",
    "mem = string.strip('_')\n",
    "print(mem, len(mem), sep='-')\n",
    "\n",
    "string2 = 'www.example.com'.strip('w.com')\n",
    "print(string2)\n",
    "\n",
    "string2 = 'www.example.com'.strip('wcmo.')\n",
    "print(string2)\n",
    "\n",
    "#문제가 되는 경우... 결국 추출하려는 내용물의 내용을 알아야 쓸 수 있겠네.\n",
    "#일반적인 용도로는 쓰기 어려울듯\n",
    "string2 = 'www.object.com'.strip('wcom.') \n",
    "print(string2)\n",
    "\n",
    "string2 = 'www.example.com'.strip('wcome.') #\n",
    "print(string2)\n",
    "\n",
    "string2 = 'ww2.example.co.kr'.strip('2ralwkjdloeijacslk.')\n",
    "print(string2)\n",
    "\n",
    "#단점이 확실하다. 유용하지만 잘 쓰지는 않는다나.\n",
    "#도메인 정리할땐 좀 그러네."
   ]
  },
  {
   "cell_type": "code",
   "execution_count": 72,
   "metadata": {},
   "outputs": [
    {
     "name": "stdout",
     "output_type": "stream",
     "text": [
      "Hello World!\n",
      " Hello World!\n"
     ]
    }
   ],
   "source": [
    "'''\n",
    "Python 공백 처리 Method 2\n",
    "'''\n",
    "string = \"             Hello               World          \"\n",
    "'''\n",
    "데이터를 읽어들이는 과정에서, 공백의 개수가 2개 이상인(오탈자) 상황같이 \n",
    "공백을 처리해야 하는 경우\n",
    "'''\n",
    "print(string.strip().replace('  ',''), end='!\\n') #공백이 2개면 되는구나... 다른거 없이..."
   ]
  },
  {
   "cell_type": "code",
   "execution_count": 70,
   "metadata": {},
   "outputs": [
    {
     "name": "stdout",
     "output_type": "stream",
     "text": [
      "Hello World!\n"
     ]
    }
   ],
   "source": [
    "'''\n",
    "join - split 메소드 두가지를 이용해서 문자열 정리하기\n",
    "'''\n",
    "string = \"             Hello               World          \"\n",
    "print(\" \".join((string.split())), end='!\\n')"
   ]
  }
 ],
 "metadata": {
  "kernelspec": {
   "display_name": "Python 3",
   "language": "python",
   "name": "python3"
  },
  "language_info": {
   "codemirror_mode": {
    "name": "ipython",
    "version": 3
   },
   "file_extension": ".py",
   "mimetype": "text/x-python",
   "name": "python",
   "nbconvert_exporter": "python",
   "pygments_lexer": "ipython3",
   "version": "3.7.4"
  }
 },
 "nbformat": 4,
 "nbformat_minor": 2
}
