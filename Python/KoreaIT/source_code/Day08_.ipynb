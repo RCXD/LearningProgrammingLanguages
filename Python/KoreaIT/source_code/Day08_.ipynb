{
 "cells": [
  {
   "cell_type": "markdown",
   "metadata": {},
   "source": [
    "- 인수를 연으로 넘겨받아 윤년, 평년 판단 / 윤년이면 True, 평년이면 False\n",
    "- 윤년/평년 판별식 : 연도가 4로 나눠떨어지고 100으로 나눠떨어지지 않거나 400으로 나눠떨어지면 윤년\n",
    "~~~python\n",
    "'윤년' if year%4==0 and year%4!=0 or year%400==0 else '평년'\n",
    "~~~"
   ]
  },
  {
   "cell_type": "code",
   "execution_count": 6,
   "metadata": {},
   "outputs": [],
   "source": [
    "def isLeapYear(year):\n",
    "    return True if year%4 == 0 and year%100 != 0 or year%400 == 0 else False"
   ]
  },
  {
   "cell_type": "code",
   "execution_count": 9,
   "metadata": {},
   "outputs": [
    {
     "data": {
      "text/plain": [
       "True"
      ]
     },
     "execution_count": 9,
     "metadata": {},
     "output_type": "execute_result"
    }
   ],
   "source": [
    "isLeapYear(2020)"
   ]
  },
  {
   "cell_type": "markdown",
   "metadata": {},
   "source": [
    "인수로 연, 월을 넘겨받아 그 달의 마지막 날짜를 리턴하는 함수 만들기"
   ]
  },
  {
   "cell_type": "code",
   "execution_count": 14,
   "metadata": {},
   "outputs": [],
   "source": [
    "def lastDay(year, month):\n",
    "    lst = [31, 28, 31, 30, 31, 30, 31, 31, 30, 31, 30, 31]\n",
    "    if isLeapYear(year):\n",
    "        lst[1] = 29\n",
    "    return lst[month-1]"
   ]
  },
  {
   "cell_type": "code",
   "execution_count": 41,
   "metadata": {},
   "outputs": [],
   "source": [
    "def lastDay_test(year, month):\n",
    "    #1월 ~ 7월 : 홀수가 31일, 8월~12월 : 짝수가 31일\n",
    "    if month == 2:\n",
    "        return 29 if isLeapYear(year) else 28\n",
    "    elif 0 < month < 8 and month%2==1:\n",
    "        return 31\n",
    "    elif 7 < month < 13 and month%2==0:\n",
    "        return 31\n",
    "    else:\n",
    "        return 30"
   ]
  },
  {
   "cell_type": "code",
   "execution_count": 44,
   "metadata": {
    "tags": []
   },
   "outputs": [
    {
     "name": "stdout",
     "output_type": "stream",
     "text": [
      "29 29\n"
     ]
    }
   ],
   "source": [
    "year, month = 2020, 2\n",
    "print(lastDay(year, month), \\\n",
    "    lastDay_test(year, month))"
   ]
  },
  {
   "cell_type": "markdown",
   "metadata": {},
   "source": [
    "인수로 연, 월, 일을 넘겨받아 1년 1월 1일로부터 흐른 날짜의 합계를 리턴하는 함수"
   ]
  },
  {
   "cell_type": "code",
   "execution_count": 141,
   "metadata": {},
   "outputs": [],
   "source": [
    "#My own solution\n",
    "def totalDay(year, month, day):\n",
    "    #1년 : 365일\n",
    "    #각 월별 최대 일자: lst[]\n",
    "    #2020년 : 1년부터 2019년 흐름. 2019*365, 윤일도 합쳐야함.isLeapYear\n",
    "    #1월 1일 ~ 1월 31일 : 31-1일\n",
    "    #1월 1일 ~ m월 d일 : lst[0]+lst[1]+...+lst[m-1]+(d-1) or d\n",
    "    #첫째날을 0일로 치면 (d-1)까지 세고, 1일로 치면 d까지 세야 맞다.\n",
    "    \n",
    "    #1년~2년1월1일까지 : 365일\n",
    "    #윤년이 있으면 366일해서 합하는 함수\n",
    "    days = 0\n",
    "    for i in range(1, year): #year-1까지 합\n",
    "        days += 366 if isLeapYear(i) else 365\n",
    "    for i in range(1, month): #1월부터 month-1까지\n",
    "        days += lastDay(year, i) #1월부터 전달까지의 lastDay 합\n",
    "    days += day #잔여 day 합\n",
    "    return days\n",
    "    #위의 1을 기준일로 만들면 D-day가 될 듯."
   ]
  },
  {
   "cell_type": "code",
   "execution_count": 142,
   "metadata": {
    "tags": []
   },
   "outputs": [
    {
     "name": "stdout",
     "output_type": "stream",
     "text": [
      "1462 1461\n",
      "91 90\n",
      "153673\n",
      "737696 1\n"
     ]
    }
   ],
   "source": [
    "#Some Testing\n",
    "print(totalDay(5, 1, 1), 365+365+365+366)\n",
    "\n",
    "month = 4\n",
    "print(totalDay(1, month, 1), lastDay(1, 1)+lastDay(1, 2)+lastDay(1,3))\n",
    "\n",
    "print(totalDay(2020, 9, 28)-totalDay(1600,1,1))\n",
    "print(totalDay(2020,9,28), totalDay(2020,9,28)%7)"
   ]
  },
  {
   "cell_type": "code",
   "execution_count": 145,
   "metadata": {},
   "outputs": [],
   "source": [
    "def totalDay_teacher(year, month, day):\n",
    "    total = (year-1) * 365 + (year-1) // 4 - (year - 1) // 100 + (year - 1) // 400\n",
    "    for i in range(1, month):\n",
    "        total += lastDay(year, i)\n",
    "    return total + day\n",
    "    #1년1월1일은 월요일임. 즉, totalDay()%4 = 1이여야 정상!(월요일 = 1--첫번째 날--로 약속)"
   ]
  },
  {
   "cell_type": "code",
   "execution_count": 262,
   "metadata": {
    "tags": []
   },
   "outputs": [
    {
     "name": "stdout",
     "output_type": "stream",
     "text": [
      "737696\n",
      "time:   0.001001\n",
      "================================================================================\n",
      "737696\n",
      "time:   0.000000\n"
     ]
    }
   ],
   "source": [
    "import time\n",
    "start = time.time()\n",
    "print(totalDay(2020,9,28))\n",
    "delay = time.time() - start\n",
    "print(f'time: {delay:10f}')\n",
    "#내꺼가 후진가보다..\n",
    "\n",
    "print('='*80)\n",
    "\n",
    "start = time.time()\n",
    "print(totalDay_teacher(2020,9,28))\n",
    "delay = time.time() - start\n",
    "print(f'time: {delay:10f}')"
   ]
  },
  {
   "cell_type": "markdown",
   "metadata": {},
   "source": [
    "요일 반환하는 함수  \n",
    "일요일 : 0, 월요일 : 1, ..., 토요일 : 6"
   ]
  },
  {
   "cell_type": "code",
   "execution_count": 264,
   "metadata": {},
   "outputs": [],
   "source": [
    "def weekDay(year, month, day):\n",
    "    return totalDay(year, month, day)%7"
   ]
  },
  {
   "cell_type": "code",
   "execution_count": 268,
   "metadata": {
    "tags": []
   },
   "outputs": [
    {
     "name": "stdout",
     "output_type": "stream",
     "text": [
      "오늘은 수요일 입니다.\n"
     ]
    }
   ],
   "source": [
    "wd = weekDay(2020, 9, 30)\n",
    "wdStr = '월' if wd==1 else '화' if wd==2 else '수' if wd==3 else '목' if wd==4 else '금' if wd==5 else '토'\n",
    "print('오늘은 '+wdStr+'요일 입니다.')"
   ]
  },
  {
   "cell_type": "markdown",
   "metadata": {},
   "source": [
    "python 프로그램 만들기 : download as python"
   ]
  },
  {
   "cell_type": "code",
   "execution_count": null,
   "metadata": {},
   "outputs": [],
   "source": [
    "#하나의 python 파일을 사용할 때에는 사용하나 사용하지않나 별 차이는 없으나, \n",
    "#현재 파일을 다른 파일에서 import시켜 사용 시에는 필요함.\n",
    "#사용했던 코드가 현재 파일을 import한 파일에 출력됨.\n",
    "if __name__== '__main__':\n",
    "    print(isLeapYear(2020))\n",
    "    print(lastDay(2020,9))\n",
    "    print(totalDay(2020,9,28))\n",
    "    print(weekDay(2020,9,28))"
   ]
  }
 ],
 "metadata": {
  "kernelspec": {
   "display_name": "Python 3",
   "language": "python",
   "name": "python3"
  },
  "language_info": {
   "codemirror_mode": {
    "name": "ipython",
    "version": 3
   },
   "file_extension": ".py",
   "mimetype": "text/x-python",
   "name": "python",
   "nbconvert_exporter": "python",
   "pygments_lexer": "ipython3",
   "version": "3.8.5"
  }
 },
 "nbformat": 4,
 "nbformat_minor": 2
}