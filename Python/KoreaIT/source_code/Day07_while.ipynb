{
 "metadata": {
  "language_info": {
   "codemirror_mode": {
    "name": "ipython",
    "version": 3
   },
   "file_extension": ".py",
   "mimetype": "text/x-python",
   "name": "python",
   "nbconvert_exporter": "python",
   "pygments_lexer": "ipython3",
   "version": "3.8.5-final"
  },
  "orig_nbformat": 2,
  "kernelspec": {
   "name": "python_defaultSpec_1601029798662",
   "display_name": "Python 3.8.5 64-bit"
  }
 },
 "nbformat": 4,
 "nbformat_minor": 2,
 "cells": [
  {
   "source": [
    "While과 for  \n",
    "1. for : 반복횟수를 알고 있을 때  \n",
    "2. while : 반복은 시킬거지만 횟수는 모를 때  \n",
    "java, C, C#와 달리 do-while이 없고, swtich도 없다.  "
   ],
   "cell_type": "markdown",
   "metadata": {}
  },
  {
   "source": [
    "while  \n",
    "1. 조건이 참인 동안 반복. 조건이 거짓이 되는 순간 반복 종료  \n",
    "2. while 진입 조건이 거짓이면 실행되는 것은 없음  \n",
    "3. 반복횟수가 중요하지 않을 때 유용  "
   ],
   "cell_type": "markdown",
   "metadata": {}
  },
  {
   "source": [
    "---\n",
    "교1부터 10까지 합하기"
   ],
   "cell_type": "markdown",
   "metadata": {}
  },
  {
   "cell_type": "code",
   "execution_count": 4,
   "metadata": {
    "tags": []
   },
   "outputs": [
    {
     "output_type": "stream",
     "name": "stdout",
     "text": "55\n55\n55\n"
    }
   ],
   "source": [
    "#for문과의 비교\n",
    "total = 0\n",
    "for i in range(1,11):\n",
    "    total += i\n",
    "print(total)\n",
    "\n",
    "i = 0\n",
    "total = 0\n",
    "while i<10:\n",
    "    i += 1\n",
    "    total += i\n",
    "print(total)\n",
    "\n",
    "i = 0\n",
    "total = 0\n",
    "while i<=10:\n",
    "    total += i\n",
    "    i += 1\n",
    "print(total)"
   ]
  },
  {
   "source": [
    "의도적인 무한루프의 활용 : while을 이용하여 반드시 올바른 입력이 이뤄질 수 있도록 함.  \n",
    "단, 탈출처리도 고려해야 한다. => 반복 탈출 시 break 명령"
   ],
   "cell_type": "markdown",
   "metadata": {}
  },
  {
   "cell_type": "code",
   "execution_count": 30,
   "metadata": {
    "tags": []
   },
   "outputs": [
    {
     "output_type": "stream",
     "name": "stdout",
     "text": "========================================\n 1. 입력,  2. 보기,  3. 수정,  4. 삭제,  5. 종료\n========================================\n1~5 사이의 값만 입력하세요\n========================================\n 1. 입력,  2. 보기,  3. 수정,  4. 삭제,  5. 종료\n========================================\n1~5 사이의 값만 입력하세요\n========================================\n 1. 입력,  2. 보기,  3. 수정,  4. 삭제,  5. 종료\n========================================\n1~5 사이의 값만 입력하세요\n========================================\n 1. 입력,  2. 보기,  3. 수정,  4. 삭제,  5. 종료\n========================================\n입력값 : 5\n"
    }
   ],
   "source": [
    "while True:\n",
    "    print('='*40)\n",
    "    print(' 1. 입력,  2. 보기,  3. 수정,  4. 삭제,  5. 종료')\n",
    "    print('='*40)\n",
    "    menu = int(input('원하는 메뉴를 입력: '))\n",
    "\n",
    "    #원하는 값이 입력되었다면 탈출 시킴\n",
    "    \"\"\"Variatios\"\"\"\n",
    "    #if 0 < menu < 6:\n",
    "    #if menu in [1,2,3,4,5]:\n",
    "    #if menu in range(1,6): #in 연산자 활용하기\n",
    "    #if menu in [i for i in range(1,6)]: #이건 뭐하자는거?\n",
    "    if menu in list(range(1,6)):\n",
    "        print(f'입력값 : {menu}')\n",
    "        break\n",
    "    else:\n",
    "        print('1~5 사이의 값만 입력하세요')\n",
    "\n",
    "#Dict를 이용해서 메뉴를 상대적으로(?) 만드는건 실패했다..\n"
   ]
  }
 ]
}