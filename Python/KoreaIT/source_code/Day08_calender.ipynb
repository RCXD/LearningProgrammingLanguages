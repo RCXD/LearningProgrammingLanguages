{
 "metadata": {
  "language_info": {
   "codemirror_mode": {
    "name": "ipython",
    "version": 3
   },
   "file_extension": ".py",
   "mimetype": "text/x-python",
   "name": "python",
   "nbconvert_exporter": "python",
   "pygments_lexer": "ipython3",
   "version": "3.8.5-final"
  },
  "orig_nbformat": 2,
  "kernelspec": {
   "name": "Python 3.8.5 64-bit",
   "display_name": "Python 3.8.5 64-bit",
   "metadata": {
    "interpreter": {
     "hash": "1baa965d5efe3ac65b79dfc60c0d706280b1da80fedb7760faf2759126c4f253"
    }
   }
  }
 },
 "nbformat": 4,
 "nbformat_minor": 2,
 "cells": [
  {
   "source": [
    "사용자가 만든 파일을 import시켜서 사용하기  \n",
    "같은 폴더에 .py로 내보내기 한 파일을 import한다."
   ],
   "cell_type": "markdown",
   "metadata": {}
  },
  {
   "cell_type": "code",
   "execution_count": null,
   "metadata": {},
   "outputs": [],
   "source": [
    "import Day08_calendar as cal"
   ]
  },
  {
   "cell_type": "code",
   "execution_count": null,
   "metadata": {
    "tags": []
   },
   "outputs": [],
   "source": [
    "year, month = map(int, input('달력을 출력할 년, 월을 입력하세요 :').split())\n",
    "print('=' * 28)\n",
    "print('         {0:4d}년{1:2d}월'.format(year, month))\n",
    "print('=' * 28)\n",
    "print(' 일  월  화  수  목  금  토 ')\n",
    "print('=' * 28)\n",
    "\n",
    "#빈칸 만들어주기\n",
    "wd = cal.weekDay(year, month, 1)\n",
    "ld = cal.lastDay(year, month)\n",
    "clear = 0 if wd == 7 else wd\n",
    "print('    '*(clear), end='')\n",
    "\n",
    "#1월부터 달력을 출력할 달의 마지막 날짜까지 반복하여 달력을 출력하기\n",
    "for i in range(1, ld +1):\n",
    "    #print(cal.weekDay(year, month, i), i)\n",
    "    #7, 1 -> 0칸 / 1,1 -> 1칸 / 2,1 -> 2칸 / 3,1 -> 3칸 / 4,1 -> 4칸 / 5,1 -> 5칸 / 6,1 -> 6칸 비워야 함\n",
    "    print(f' {i:2d} ', end = '')\n",
    "    if cal.weekDay(year, month, i) == 6 and i != ld:\n",
    "        print()\n",
    "    \n",
    "print('\\n'+'='*28)\n"
   ]
  },
  {
   "cell_type": "code",
   "execution_count": null,
   "metadata": {
    "tags": []
   },
   "outputs": [],
   "source": [
    "#teacher\n",
    "year, month = map(int, input('달력을 출력할 년, 월을 입력하세요 :').split())\n",
    "print('=' * 28)\n",
    "print('         {0:4d}년{1:2d}월'.format(year, month))\n",
    "print('=' * 28)\n",
    "print(' 일  월  화  수  목  금  토 ')\n",
    "print('=' * 28)\n",
    "\n",
    "for i in range(0, cal.weekDay(year, month, 1)):\n",
    "    print('    ', end = '')\n",
    "\n",
    "for i in range(1, cal.lastDay(year, month) + 1):\n",
    "    print(' {0:2d} '.format(i), end='')\n",
    "    #출력한 날짜가 토요일이면 줄바꿈\n",
    "    if (cal.weekDay(year, month, i) == 6) and i != cal.lastDay(year, month):\n",
    "        print()\n",
    "print('\\n'+'='*28)\n",
    "#5줄씩 사용중인데, 2020년 2월과 10월은 빈줄이 합쳐져 6줄이 됨.\n",
    "#수정해야 하는 것임.\n",
    "#JSP, 안드로이드 코딩시 다른 월로 변경하는것도 코딩할 줄 알아야..."
   ]
  },
  {
   "source": [
    "모듈 불러오기의 다양한 활용  \n",
    "1. import 모듈이름  \n",
    "    - 모듈이름이 너무 길어질 수 있는게 단점임.  \n",
    "2. import 모듈이름 as 약자  \n",
    "    - 약자로만 모듈을 불러올 수 있다.  \n",
    "3. from 모듈이름 import 메소드  \n",
    "    - 특정 메소드만 가져올 수 있다.**(복잡하게 메소드간 연결관계가 있다면, 호환성은 문제없나???)**  \n",
    "    - 단, '약자', '모듈이름'을 사용하지 않으므로 원래 코드에서 삭제해줘야함.\n",
    "3-1. from 모듈이름 import 메소드1, 메소드2, ...\n",
    "3-2. from 모듈이름 import * (전부 불러오기!)\n",
    "    - 1번 용법과 같으면서 코드가 간단해질 수 있다."
   ],
   "cell_type": "markdown",
   "metadata": {}
  },
  {
   "cell_type": "code",
   "execution_count": 44,
   "metadata": {
    "tags": []
   },
   "outputs": [
    {
     "output_type": "stream",
     "name": "stdout",
     "text": "============================\n         2020년10월\n============================\n 일  월  화  수  목  금  토 \n============================\n                  1   2   3 \n  4   5   6   7   8   9  10 \n 11  12  13  14  15  16  17 \n 18  19  20  21  22  23  24 \n 25  26  27  28  29  30  31 \n============================\n"
    }
   ],
   "source": [
    "#Clear Output 먼저 실행바람.\n",
    "#from Day08_calendar import weekDay\n",
    "#from Day08_calendar import lastDay\n",
    "#한꺼번에 불러오기\n",
    "from Day08_calendar import lastDay, weekDay\n",
    "\n",
    "#아래는 모든 모듈이름, 약자를 삭제한 상태\n",
    "year, month = map(int, input('달력을 출력할 년, 월을 입력하세요 :').split())\n",
    "print('=' * 28)\n",
    "print('         {0:4d}년{1:2d}월'.format(year, month))\n",
    "print('=' * 28)\n",
    "print(' 일  월  화  수  목  금  토 ')\n",
    "print('=' * 28)\n",
    "\n",
    "#빈칸 만들어주기\n",
    "wd = weekDay(year, month, 1)\n",
    "ld = lastDay(year, month)\n",
    "clear = 0 if wd == 7 else wd\n",
    "print('    '*(clear), end='')\n",
    "\n",
    "#1월부터 달력을 출력할 달의 마지막 날짜까지 반복하여 달력을 출력하기\n",
    "for i in range(1, ld +1):\n",
    "    #print(cal.weekDay(year, month, i), i)\n",
    "    #7, 1 -> 0칸 / 1,1 -> 1칸 / 2,1 -> 2칸 / 3,1 -> 3칸 / 4,1 -> 4칸 / 5,1 -> 5칸 / 6,1 -> 6칸 비워야 함\n",
    "    print(f' {i:2d} ', end = '')\n",
    "    if weekDay(year, month, i) == 6 and i != ld:\n",
    "        print()\n",
    "    \n",
    "print('\\n'+'='*28)\n"
   ]
  }
 ]
}