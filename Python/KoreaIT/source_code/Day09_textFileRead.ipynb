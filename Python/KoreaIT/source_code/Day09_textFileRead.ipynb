{
 "metadata": {
  "language_info": {
   "codemirror_mode": {
    "name": "ipython",
    "version": 3
   },
   "file_extension": ".py",
   "mimetype": "text/x-python",
   "name": "python",
   "nbconvert_exporter": "python",
   "pygments_lexer": "ipython3",
   "version": "3.7.9-final"
  },
  "orig_nbformat": 2,
  "kernelspec": {
   "name": "Python 3.7.9 64-bit",
   "display_name": "Python 3.7.9 64-bit",
   "metadata": {
    "interpreter": {
     "hash": "450770b194ad3c526d72e78f0fffc46d9f199ddffc77daa2aadce905eb3548da"
    }
   }
  }
 },
 "nbformat": 4,
 "nbformat_minor": 2,
 "cells": [
  {
   "source": [
    "필기 실패했음.... 학습자료 봐야하고, 외부자료 찾아서 보충학습해야 따라갈 수 있다. 주의!!  \n",
    "당연히 복습도 필수  \n",
    "\n",
    "일단 강의 다시 요약해서 듣기는 했음.  "
   ],
   "cell_type": "markdown",
   "metadata": {}
  },
  {
   "source": [
    "한 줄씩 읽어오기 : readline() 활용  \n",
    "- 무한루프가 필요하다.\n",
    "한번에 읽어오기 : readlines() 활용  \n",
    "- 리스트 처리가 필요하다."
   ],
   "cell_type": "markdown",
   "metadata": {}
  },
  {
   "cell_type": "code",
   "execution_count": 11,
   "metadata": {
    "tags": []
   },
   "outputs": [
    {
     "output_type": "stream",
     "name": "stdout",
     "text": "qksjhak\nqiwue\nqiuh\nd\n2\n3\n15\n63\n21\n524234\n1\n2\n3\n4\n5\n6\n7\n8\n9\n10\ndata.txt 파일읽기 완료\n"
    }
   ],
   "source": [
    "with open('./data.txt', 'r') as file:\n",
    "    lines = [] #빈 리스트 만들기. 생성자를 써도 됨.and\n",
    "    #lines = list()\n",
    "\n",
    "    while True:\n",
    "        #readline() 메소드로 텍스트 파일의 데이터를 한 줄 씩 읽어올 수 있다.\n",
    "        line = file.readline()\n",
    "        #텍스트파일에서 읽어들인 데이터가 없으면 무한루프를 탈출시킨다.\n",
    "        if not line: #readline() 메소드로 읽어들인 데이터가 없는지 판단\n",
    "            break\n",
    "        if len(line.strip()) != 0:\n",
    "            print(line, end = '')\n",
    "            lines.append(line.strip())\n",
    "\n",
    "print('data.txt 파일읽기 완료')\n"
   ]
  },
  {
   "cell_type": "code",
   "execution_count": 4,
   "metadata": {
    "tags": []
   },
   "outputs": [
    {
     "output_type": "stream",
     "name": "stdout",
     "text": "&lt;class &#39;list&#39;&gt;\ndata.txt 파일에서 읽기 완료\n"
    }
   ],
   "source": [
    "with open('./data.txt', 'r') as file:\n",
    "    #readlines() 메소드로 텍스트 파일의 데이터 전체를 한꺼번에 읽어서 리스트로 얻어온다.abs\n",
    "    lines = file.readlines()\n",
    "    print(type(lines))\n",
    "print('data.txt 파일에서 읽기 완료')\n"
   ]
  },
  {
   "cell_type": "code",
   "execution_count": 7,
   "metadata": {
    "tags": []
   },
   "outputs": [
    {
     "output_type": "stream",
     "name": "stdout",
     "text": "&lt;class &#39;list&#39;&gt;\nfinish\n[&#39;qksjhak\\n&#39;, &#39;qiwue\\n&#39;, &#39;qiuh\\n&#39;, &#39;d\\n&#39;, &#39;2\\n&#39;, &#39;3\\n&#39;, &#39;\\n&#39;, &#39;15\\n&#39;, &#39;63\\n&#39;, &#39;21\\n&#39;, &#39;524234\\n&#39;, &#39;1\\n&#39;, &#39;2\\n&#39;, &#39;3\\n&#39;, &#39;4\\n&#39;, &#39;5\\n&#39;, &#39;6\\n&#39;, &#39;7\\n&#39;, &#39;8\\n&#39;, &#39;9\\n&#39;, &#39;10\\n&#39;]\nqksjhak\nqiwue\nqiuh\nd\n2\n3\n15\n63\n21\n524234\n1\n2\n3\n4\n5\n6\n7\n8\n9\n10\n================================================================================\nqksjhak\nqiwue\nqiuh\nd\n2\n3\n15\n63\n21\n524234\n1\n2\n3\n4\n5\n6\n7\n8\n9\n10\n"
    }
   ],
   "source": [
    "with open('./data.txt', 'r') as file:\n",
    "    lines = file.readlines()\n",
    "    #readlines()는 파일의 내용을 한꺼번에 리스트로 읽어온다.\n",
    "    print(type(lines))\n",
    "print('finish')\n",
    "\n",
    "print(lines) #모든 원소에 \\n이 추가되어 있다.\n",
    "\"\"\" 아래의 경우, 불필요한 개행문자가 껴서 출력된다!\n",
    "for line in lines:\n",
    "    print(line)\n",
    "\n",
    "print('='*80)\n",
    "\"\"\"\n",
    "#이 아래부분은 어떻게 동작하는건가?\n",
    "for line in lines:\n",
    "    if len(line.strip()) != 0: #\\n 벗겨내기?\n",
    "        print(line, end = '') #\\n 추가해서 한줄씩 출력하기?\n",
    "print('='*80)\n",
    "\n",
    "for i in range(len(lines)):\n",
    "    if len(lines[i].strip()) != 0:\n",
    "        print(lines[i], end = '')\n",
    "\n",
    "#java에서는 예외처리개념인 try-catch가 있다.\n",
    "#python에서는 에러처리개념인 try-except가 있다.\n",
    "#에러를 무시하고도 처리할 필요가 있을 때 활용"
   ]
  },
  {
   "cell_type": "code",
   "execution_count": null,
   "metadata": {},
   "outputs": [],
   "source": [
    "파일오픈모드가 'r'이라는것,\n",
    "readline()과 readlines()의 차이를 이해할 것!\n",
    "Q. readline()은 어느 줄을 읽는건가? 인덱스가 있나?\n",
    "Q. 헤더는 어디에 위치하길래 인덱싱 없이 읽어들이나?\n",
    "Q. readline()의 인덱싱이 가능한가? 초기값은 무조건 첫줄인가?\n",
    "\n",
    "readline()은 개행문자가 없으므로, 출력할 때 strip을 가지고 개행문자를 삭제할수도, print함수의 end옵션을 줄 수도 있다.\n"
   ]
  }
 ]
}