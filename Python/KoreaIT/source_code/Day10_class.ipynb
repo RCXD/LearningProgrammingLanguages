{
 "metadata": {
  "language_info": {
   "codemirror_mode": {
    "name": "ipython",
    "version": 3
   },
   "file_extension": ".py",
   "mimetype": "text/x-python",
   "name": "python",
   "nbconvert_exporter": "python",
   "pygments_lexer": "ipython3",
   "version": "3.7.9-final"
  },
  "orig_nbformat": 2,
  "kernelspec": {
   "name": "Python 3.7.9 64-bit",
   "display_name": "Python 3.7.9 64-bit",
   "metadata": {
    "interpreter": {
     "hash": "450770b194ad3c526d72e78f0fffc46d9f199ddffc77daa2aadce905eb3548da"
    }
   }
  }
 },
 "nbformat": 4,
 "nbformat_minor": 2,
 "cells": [
  {
   "source": [
    "'Python은 구조체가 없다'  \n",
    "객체지향언어이므로 클래스가 필요하다고 함.  \n",
    "class는 데이터와 데이터를 처리하는 메소드  \n",
    "메소드 : 클래스 내부에서 만든 함수"
   ],
   "cell_type": "markdown",
   "metadata": {}
  },
  {
   "source": [
    "---\n",
    "클래스 만들기\n",
    "- constructor\n",
    "> __init__(self) #constructor 함수.  \n",
    "> 객체 생성시 자동 실행  \n",
    "> 모든 함수의 첫번째 인수로 무조건  self를 가져야 함.  \n",
    "> Qx. 모든이면 왜 굳이...?  \n",
    "> 멤버 변수를 초기화하는 목적으로 주로 사용  \n",
    "- Member Variables  \n",
    "> 멤버 변수란 클래스의 모든 함수에서 사용할 수 있는 변수  \n",
    "\n",
    "~~~ python\n",
    "class 이름: #일반적으로 첫글자는 대문자로\n",
    "    def __init__(self[, 인수, ...]):\n",
    "    # []: Option\n",
    "    # 변수이름 앞에 self.이 붙어있으면 멤머 변수. 클래스 전체에서 사용 가능\n",
    "    # self.이 없으면 지역변수. 선언된 함수에서만 사용 가능\n",
    "    def __str__(self): #클래스에 저장된 데이터 출력에 사용되는 함수. java의 toString() 메소드와 같은 기능이라고 함.  \n",
    "    # __str__(self)를 선언하지 않으면 객체에 저장된 데이터가 아닌 객체가 저장된 메모리의 주소가 출력됨.\n",
    "        #return 뒤에 출력할 내용을 반스시 문자열 형태로 코딩한다. 코딩??\n",
    "        return '출력할 내용'\n",
    "    ...\n",
    "~~~\n"
   ],
   "cell_type": "markdown",
   "metadata": {}
  },
  {
   "cell_type": "code",
   "execution_count": 2,
   "metadata": {},
   "outputs": [],
   "source": [
    "class Calculator:\n",
    "    def __init__(self):\n",
    "        print('Calculator 클래스의 객체가 생성될 때 자동으로 실행')"
   ]
  },
  {
   "source": [
    "클래스 객체 생성 방법\n",
    "~~~\n",
    "객체(변수) 이름 = 클래스이름([생성자로 전달할 데이터, ...])\n",
    "~~~"
   ],
   "cell_type": "markdown",
   "metadata": {}
  },
  {
   "cell_type": "code",
   "execution_count": 4,
   "metadata": {},
   "outputs": [
    {
     "output_type": "stream",
     "name": "stdout",
     "text": [
      "Calculator 클래스의 객체가 생성될 때 자동으로 실행\n<__main__.Calculator object at 0x000001AEB6011D08>\n"
     ]
    }
   ],
   "source": [
    "cal1 = Calculator()\n",
    "\n",
    "print(cal1) #객체 생성시 저장된 주소값이 출력됨.\n",
    "#이런 일이 일어나지 않도록 해야 함.\n",
    "#해결책은 __str__(self)임."
   ]
  },
  {
   "source": [
    "Qx.\n",
    "파이썬이 라이브러리를 만들기 쉽게 만든 언어인가?  \n",
    "C에서는 뭔가 잘 모르겠지만 제약이 있는 것 같은데....?  \n",
    "안배워서 모르는거일수도 있지만.  "
   ],
   "cell_type": "markdown",
   "metadata": {}
  },
  {
   "source": [
    "Class는 설계도의 개념이다  \n",
    "한개의 설계도로 만든 핸드폰은 시리얼번호가 다른 여러 개의 핸드폰으로 양산된다.  \n",
    "클래스도 마찬가지로 여러개의 객체를 만들 수 있고 시리얼번호처럼 각각의 주소도 갖는다.  "
   ],
   "cell_type": "markdown",
   "metadata": {}
  },
  {
   "cell_type": "code",
   "execution_count": 3,
   "metadata": {},
   "outputs": [
    {
     "output_type": "stream",
     "name": "stdout",
     "text": [
      "Calculator 클래스의 객체가 생성될 때 자동으로 실행\nCalculator 클래스의 객체가 생성될 때 자동으로 실행\n<__main__.Calculator object at 0x000001CC277F1BC8>\n<__main__.Calculator object at 0x000001CC277F1C08>\n"
     ]
    }
   ],
   "source": [
    "cal1 = Calculator()\n",
    "cal2 = Calculator()\n",
    "print(cal1, cal2, sep = '\\n')"
   ]
  },
  {
   "cell_type": "code",
   "execution_count": 14,
   "metadata": {},
   "outputs": [],
   "source": [
    "class Calculator:\n",
    "    def __init__(self, *num): #가변인자를 의미하는 *을 이용할 수 있음.\n",
    "        print('calculator 클래스의 객체가 생성될 때 자동으로 실행')\n",
    "        self.first = 0; self.second = 0; self.third = 0\n",
    "        if len(num) == 1: #tuple의 데이터 개수를 센다.\n",
    "            self.first = num[0] #가변인자가 하나일 때\n",
    "        if len(num) == 2:\n",
    "            self.first = num[0]\n",
    "            self.second = num[1] #가변인자가 두 개 일때\n",
    "        if len(num) == 3:\n",
    "            self.first = num[0]\n",
    "            self.second = num[1]\n",
    "            self.third = num[2]\n",
    "            #self를 안쓰면 지역변수가 되어 __str__에서는 사용할 수 없다. 정의 문제는 안생기나?\n",
    "            #반드시 member 변수로 사용해줘야 함.\n",
    "        \n",
    "    def __str__(self):\n",
    "        #return ' '.join(str(self.first + self.second + self.third)) #주의 : 반드시 문자열로 코딩할 것.\n",
    "        return str(self.first + self.second + self.third)"
   ]
  },
  {
   "cell_type": "code",
   "execution_count": 20,
   "metadata": {},
   "outputs": [
    {
     "output_type": "stream",
     "name": "stdout",
     "text": [
      "calculator 클래스의 객체가 생성될 때 자동으로 실행\n100\ncalculator 클래스의 객체가 생성될 때 자동으로 실행\n300\ncalculator 클래스의 객체가 생성될 때 자동으로 실행\n600\n"
     ]
    }
   ],
   "source": [
    "cal2 = Calculator(100)\n",
    "print(cal2) #__str__이 실행된다. 무슨의미지?\n",
    "cal2 = Calculator(100, 200)\n",
    "print(cal2)\n",
    "cal2 = Calculator(100, 200, 300)\n",
    "print(cal2)"
   ]
  },
  {
   "cell_type": "code",
   "execution_count": null,
   "metadata": {},
   "outputs": [],
   "source": []
  }
 ]
}