{
 "metadata": {
  "language_info": {
   "codemirror_mode": {
    "name": "ipython",
    "version": 3
   },
   "file_extension": ".py",
   "mimetype": "text/x-python",
   "name": "python",
   "nbconvert_exporter": "python",
   "pygments_lexer": "ipython3",
   "version": "3.8.5-final"
  },
  "orig_nbformat": 2,
  "kernelspec": {
   "name": "python_defaultSpec_1600682313108",
   "display_name": "Python 3.8.5 64-bit"
  }
 },
 "nbformat": 4,
 "nbformat_minor": 2,
 "cells": [
  {
   "source": [
    "Day05 : 2020-09-21  \n",
    "Place : Home(KoreaIT)  \n",
    "Subject : Python random \n"
   ],
   "cell_type": "markdown",
   "metadata": {}
  },
  {
   "source": [
    "숙제 : 가위 바위 보 기계 만들기  \n",
    "가위 : 1\n",
    "바위 : 2\n",
    "보 : 3"
   ],
   "cell_type": "markdown",
   "metadata": {}
  },
  {
   "source": [
    "---\n",
    "랜덤 모듈 사용하기"
   ],
   "cell_type": "markdown",
   "metadata": {}
  },
  {
   "cell_type": "code",
   "execution_count": 24,
   "metadata": {
    "tags": []
   },
   "outputs": [
    {
     "output_type": "stream",
     "name": "stdout",
     "text": "cpu : 1\nuser : 2\n"
    }
   ],
   "source": [
    "import random\n",
    "cpu = random.randrange(1, 3)\n",
    "print('cpu : {}'.format(cpu))\n",
    "\n",
    "user = int(input('가위(1), 바위(2), 보(3) : '))\n",
    "print('user : {}'.format(user))"
   ]
  },
  {
   "cell_type": "code",
   "execution_count": 23,
   "metadata": {
    "tags": []
   },
   "outputs": [
    {
     "output_type": "stream",
     "name": "stdout",
     "text": "input = 1, answer = 2\n가위를 냈습니다.\n바위가 나왔습니다.\n졌습니다.\n"
    }
   ],
   "source": [
    "import random\n",
    "answer = random.randrange(1,3)\n",
    "i = int(input('가위=1, 바위=2, 보=3입니다. 낼 것을 입력: '))\n",
    "\n",
    "print(f'input = {i}, answer = {answer}')\n",
    "print('가위' if i == 1 else '바위' if i == 2 else '보', '를 냈습니다.', sep='')\n",
    "print('가위' if answer == 1 else '바위' if answer == 2 else '보', '가 나왔습니다.', sep='')\n",
    "if i == answer:\n",
    "    print('비겼습니다.')\n",
    "else:\n",
    "    print('이겼습니다.' if i == 1 and answer == 3 or i == 2 and answer == 1 or i == 3 and answer == 2 else '졌습니다.')\n"
   ]
  },
  {
   "source": [],
   "cell_type": "markdown",
   "metadata": {}
  }
 ]
}