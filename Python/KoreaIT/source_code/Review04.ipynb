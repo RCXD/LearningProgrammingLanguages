{
 "metadata": {
  "language_info": {
   "codemirror_mode": {
    "name": "ipython",
    "version": 3
   },
   "file_extension": ".py",
   "mimetype": "text/x-python",
   "name": "python",
   "nbconvert_exporter": "python",
   "pygments_lexer": "ipython3",
   "version": "3.8.5-final"
  },
  "orig_nbformat": 2,
  "kernelspec": {
   "name": "python_defaultSpec_1600082908999",
   "display_name": "Python 3.8.5 64-bit"
  }
 },
 "nbformat": 4,
 "nbformat_minor": 2,
 "cells": [
  {
   "source": [
    "len() 함수는 문자열을 구성하는 문자의 개수를 얻어온다."
   ],
   "cell_type": "markdown",
   "metadata": {}
  },
  {
   "cell_type": "code",
   "execution_count": 1,
   "metadata": {
    "tags": []
   },
   "outputs": [
    {
     "output_type": "stream",
     "name": "stdout",
     "text": "33\n"
    }
   ],
   "source": [
    "string = 'We are the champions, My friends!'\n",
    "print(len(string))"
   ]
  },
  {
   "source": [
    ".count() 매소드를 이용하는 경우\n",
    "매소드는 클래스 안의 함수를 의미"
   ],
   "cell_type": "markdown",
   "metadata": {}
  },
  {
   "cell_type": "code",
   "execution_count": 2,
   "metadata": {
    "tags": []
   },
   "outputs": [
    {
     "output_type": "stream",
     "name": "stdout",
     "text": "4\n"
    }
   ],
   "source": [
    "string = 'We are the champions, My friends!'\n",
    "print(string.count('e'))"
   ]
  },
  {
   "source": [
    "count() 메소드는 인수로 지정된 문자열의 출연 횟수를 얻어온다.  \n",
    "인수로 지정된 특정 문자열이 문자열에 포함되어있는지 알아낼 수 있다. 1이상이면 포함, 0은 미포함"
   ],
   "cell_type": "markdown",
   "metadata": {}
  },
  {
   "cell_type": "code",
   "execution_count": 3,
   "metadata": {
    "tags": []
   },
   "outputs": [
    {
     "output_type": "stream",
     "name": "stdout",
     "text": "4\n1\n0\n"
    }
   ],
   "source": [
    "string = 'We are the champions, My friends!'\n",
    "print(string.count('e'))\n",
    "print(string.count('We'))\n",
    "print(string.count('we')) #대소문자 구분"
   ]
  },
  {
   "source": [
    "find() 메소드 : 인수로 지정된 문자열이 최초로 나타나는 위치의 인덱스를 얻어올 수 있다."
   ],
   "cell_type": "markdown",
   "metadata": {}
  },
  {
   "cell_type": "code",
   "execution_count": 4,
   "metadata": {
    "tags": []
   },
   "outputs": [
    {
     "output_type": "stream",
     "name": "stdout",
     "text": "1\n0\n-1\n"
    }
   ],
   "source": [
    "string = 'We are the champions, My friends!'\n",
    "print(string.find('e'))  #가장 먼저 나타나는 위치를 반환\n",
    "print(string.find('We')) #최초위치는 0\n",
    "print(string.find('we')) #없는것의 위치는 -1"
   ]
  },
  {
   "source": [
    "index()메소드 : find와 같으나, 없는 문자열은 에러가 나는것이 차이점"
   ],
   "cell_type": "markdown",
   "metadata": {}
  },
  {
   "cell_type": "code",
   "execution_count": 5,
   "metadata": {
    "tags": []
   },
   "outputs": [
    {
     "output_type": "stream",
     "name": "stdout",
     "text": "1\n0\n"
    },
    {
     "output_type": "error",
     "ename": "ValueError",
     "evalue": "substring not found",
     "traceback": [
      "\u001b[1;31m---------------------------------------------------------------------------\u001b[0m",
      "\u001b[1;31mValueError\u001b[0m                                Traceback (most recent call last)",
      "\u001b[1;32m<ipython-input-5-fb486b7de8f0>\u001b[0m in \u001b[0;36m<module>\u001b[1;34m\u001b[0m\n\u001b[0;32m      2\u001b[0m \u001b[0mprint\u001b[0m\u001b[1;33m(\u001b[0m\u001b[0mstring\u001b[0m\u001b[1;33m.\u001b[0m\u001b[0mindex\u001b[0m\u001b[1;33m(\u001b[0m\u001b[1;34m'e'\u001b[0m\u001b[1;33m)\u001b[0m\u001b[1;33m)\u001b[0m  \u001b[1;31m#가장 먼저 나타나는 위치\u001b[0m\u001b[1;33m\u001b[0m\u001b[1;33m\u001b[0m\u001b[0m\n\u001b[0;32m      3\u001b[0m \u001b[0mprint\u001b[0m\u001b[1;33m(\u001b[0m\u001b[0mstring\u001b[0m\u001b[1;33m.\u001b[0m\u001b[0mindex\u001b[0m\u001b[1;33m(\u001b[0m\u001b[1;34m'We'\u001b[0m\u001b[1;33m)\u001b[0m\u001b[1;33m)\u001b[0m \u001b[1;31m#최초 위치 반환\u001b[0m\u001b[1;33m\u001b[0m\u001b[1;33m\u001b[0m\u001b[0m\n\u001b[1;32m----> 4\u001b[1;33m \u001b[0mprint\u001b[0m\u001b[1;33m(\u001b[0m\u001b[0mstring\u001b[0m\u001b[1;33m.\u001b[0m\u001b[0mindex\u001b[0m\u001b[1;33m(\u001b[0m\u001b[1;34m'we'\u001b[0m\u001b[1;33m)\u001b[0m\u001b[1;33m)\u001b[0m \u001b[1;31m#없는것은 에러 발생\u001b[0m\u001b[1;33m\u001b[0m\u001b[1;33m\u001b[0m\u001b[0m\n\u001b[0m",
      "\u001b[1;31mValueError\u001b[0m: substring not found"
     ]
    }
   ],
   "source": [
    "string = 'We are the champions, My friends!'\n",
    "print(string.index('e'))  #가장 먼저 나타나는 위치\n",
    "print(string.index('We')) #최초 위치 반환\n",
    "print(string.index('we')) #없는것은 에러 발생"
   ]
  },
  {
   "source": [
    "join() 메소드 : 인수로 지정한 문자열 사이사이에 특정 문자열을 삽입"
   ],
   "cell_type": "markdown",
   "metadata": {}
  },
  {
   "cell_type": "code",
   "execution_count": 6,
   "metadata": {
    "tags": []
   },
   "outputs": [
    {
     "output_type": "stream",
     "name": "stdout",
     "text": "K/o/r/e/a/I/T\nK^^o^^r^^e^^a^^I^^T\n"
    }
   ],
   "source": [
    "string = 'KoreaIT'\n",
    "print('/'.join(string))\n",
    "print('^^'.join(string))"
   ]
  },
  {
   "source": [
    "소문자, 대문자 변환 매소드 "
   ],
   "cell_type": "markdown",
   "metadata": {}
  },
  {
   "cell_type": "code",
   "execution_count": 7,
   "metadata": {
    "tags": []
   },
   "outputs": [
    {
     "output_type": "stream",
     "name": "stdout",
     "text": "KOREAIT\nkoreait\n"
    }
   ],
   "source": [
    "string = 'KoreaIT'\n",
    "print(string.upper())\n",
    "print(string.lower())"
   ]
  },
  {
   "source": [
    "공백문자열 처리(\"Trimming\")  \n",
    "strip() 메소드는 문자열 앞,뒤의 불필요한 공백 제거\n",
    "lstriup()은 좌측, rstrip()은 우측 공백 제거"
   ],
   "cell_type": "markdown",
   "metadata": {}
  },
  {
   "cell_type": "code",
   "execution_count": 8,
   "metadata": {
    "tags": []
   },
   "outputs": [
    {
     "output_type": "stream",
     "name": "stdout",
     "text": "------original-------\n18\n      python      \n------strip-------\n6\npython\n------lstrip-------\n12\npython      \n------rstrip-------\n12\n      python\n"
    }
   ],
   "source": [
    "string = '      python      '\n",
    "print('------original-------')\n",
    "print(len(string))\n",
    "print(string)\n",
    "print('------strip-------')\n",
    "print(len(string.strip()))\n",
    "print(string.strip())\n",
    "print('------lstrip-------')\n",
    "print(len(string.lstrip()))\n",
    "print(string.lstrip())\n",
    "print('------rstrip-------')\n",
    "print(len(string.rstrip()))\n",
    "print(string.rstrip())"
   ]
  },
  {
   "source": [
    "replace(a, b) 메소드는 문자열의 모든 a를 b로 치환  \n",
    "\"꼭 기억해놓아야 할 유용한 메소드\""
   ],
   "cell_type": "markdown",
   "metadata": {}
  },
  {
   "cell_type": "code",
   "execution_count": 9,
   "metadata": {
    "tags": []
   },
   "outputs": [
    {
     "output_type": "stream",
     "name": "stdout",
     "text": "We are the champions, Your friends!\nW?? ar?? th?? champions, My fri??nds!\n"
    }
   ],
   "source": [
    "string = 'We are the champions, My friends!'\n",
    "print(string.replace('My', 'Your'))\n",
    "print(string.replace('e', '??')) #일치하는 모든 것을 대체(find, index와는 성능이 다르다))"
   ]
  },
  {
   "source": [
    "split() : 지정된 구분자로 문자열을 분할한다.(리스트 반환)  \n",
    "파이썬 자료형(참고)  \n",
    "~~~\n",
    "1. (~, ~, ...) : Tuple  \n",
    "2. [~, ~, ...] : List  \n",
    "3. [~, ~, ...] : Set\n",
    "3. [~:~, ~:~, ...] : Dictionary\n",
    "~~~"
   ],
   "cell_type": "markdown",
   "metadata": {}
  },
  {
   "cell_type": "code",
   "execution_count": 10,
   "metadata": {
    "tags": []
   },
   "outputs": [
    {
     "output_type": "stream",
     "name": "stdout",
     "text": "['We', 'are', 'the', 'champions,', 'My', 'friends!']\n<class 'list'>\n['We are the champions', ' My friends!']\n['We are the champions', 'My friends!']\n"
    }
   ],
   "source": [
    "string = 'We are the champions, My friends!'\n",
    "print(string.split())       #기본 구분자는 공백\n",
    "print(type(string.split())) #반환형은 리스트\n",
    "print(string.split(','))    #, 이후에 있는 공백을 누락하기 쉬움\n",
    "print(string.split(', '))   #공백 한꺼번에 처리"
   ]
  },
  {
   "source": [
    "strip()메소드의 인수를 생략하면 기본값으로 문자열 양 끝 공백 제거  \n",
    "단, 공백 이외에도 제거 가능  \n",
    "조건 : 양 끝에 지정된 문자열이 나타나지 않을 때까지 제거  \n",
    "> 단, 인수를 입력한 순서와 제거하는 순서는 무관  \n",
    "> 껍질을 떼어내는 스트리퍼를 연상"
   ],
   "cell_type": "markdown",
   "metadata": {}
  },
  {
   "cell_type": "code",
   "execution_count": 11,
   "metadata": {
    "tags": []
   },
   "outputs": [
    {
     "output_type": "stream",
     "name": "stdout",
     "text": "python\nexample\nigg\nexample\nwiggcom\n"
    }
   ],
   "source": [
    "print('      python      '.strip())\n",
    "print('www.example.com'.strip('w.com'))\n",
    "print('www.wiggcom.com'.strip('w.com')) #안쪽 내용이 짤린다.\n",
    "#내 생각에, 위 방법은 안전하지 않다. 단, 서순을 맞추면 해결될것이다.abs\n",
    "print('www.example.com'.strip('wcom').strip('.'))\n",
    "print('www.wiggcom.com'.strip('wcom').strip('.'))"
   ]
  },
  {
   "source": [
    "strip()과 replace()를 이용하면 내부의 공백까지 모두 제거할 수 있다."
   ],
   "cell_type": "markdown",
   "metadata": {}
  },
  {
   "cell_type": "code",
   "execution_count": 12,
   "metadata": {
    "tags": []
   },
   "outputs": [
    {
     "output_type": "stream",
     "name": "stdout",
     "text": "hello          python           \nhello          python\nhellopython\n"
    }
   ],
   "source": [
    "string=\"               hello          python           \"\n",
    "print(string)\n",
    "print(string.strip())\n",
    "print(string.strip().replace(' ', ''))\n",
    "#사이의 공백 개수가 짝수면 답이없다. 사이에 공백을 다시 넣을순 없으려나?"
   ]
  },
  {
   "source": [
    "split()과 join()을 이용하면 사이의 공백을 1개로 줄일 수 있다.  \n",
    "\"고오오오급 기술\""
   ],
   "cell_type": "markdown",
   "metadata": {
    "tags": []
   }
  },
  {
   "cell_type": "code",
   "execution_count": 13,
   "metadata": {
    "tags": []
   },
   "outputs": [
    {
     "output_type": "error",
     "ename": "SyntaxError",
     "evalue": "invalid syntax (<ipython-input-13-38e182658f37>, line 4)",
     "traceback": [
      "\u001b[1;36m  File \u001b[1;32m\"<ipython-input-13-38e182658f37>\"\u001b[1;36m, line \u001b[1;32m4\u001b[0m\n\u001b[1;33m    print(\" \".join(string.split())) #join을 이용해서 공백을 다시 살릴 수 있다.\u001b[0m\n\u001b[1;37m    ^\u001b[0m\n\u001b[1;31mSyntaxError\u001b[0m\u001b[1;31m:\u001b[0m invalid syntax\n"
     ]
    }
   ],
   "source": [
    "string=\"               hello          python           \"\n",
    "print(string.split()) #비우면 공백을 아예 무시해버린다\n",
    "print(string.split(' ')#' '를 입력할때와는 결과가 다르다.\n",
    "print(\" \".join(string.split())) #join을 이용해서 공백을 다시 살릴 수 있다."
   ]
  },
  {
   "source": [
    "split()은 공백, 탭, 엔터 모두 삭제하고 문자열 키워드만 추출할 수 있다."
   ],
   "cell_type": "markdown",
   "metadata": {}
  },
  {
   "cell_type": "code",
   "execution_count": 14,
   "metadata": {
    "tags": []
   },
   "outputs": [
    {
     "output_type": "stream",
     "name": "stdout",
     "text": "['hello', 'world', 'python', 'hey']\n"
    }
   ],
   "source": [
    "string = \"\"\"     hello    world   \n",
    "python\n",
    "hey\"\"\"\n",
    "print(string.split())"
   ]
  },
  {
   "cell_type": "code",
   "execution_count": null,
   "metadata": {},
   "outputs": [],
   "source": []
  },
  {
   "cell_type": "code",
   "execution_count": null,
   "metadata": {},
   "outputs": [],
   "source": []
  }
 ]
}