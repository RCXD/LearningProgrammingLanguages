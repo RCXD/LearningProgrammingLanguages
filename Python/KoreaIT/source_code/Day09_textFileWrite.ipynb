{
 "metadata": {
  "language_info": {
   "codemirror_mode": {
    "name": "ipython",
    "version": 3
   },
   "file_extension": ".py",
   "mimetype": "text/x-python",
   "name": "python",
   "nbconvert_exporter": "python",
   "pygments_lexer": "ipython3",
   "version": "3.7.9-final"
  },
  "orig_nbformat": 2,
  "kernelspec": {
   "name": "Python 3.7.9 64-bit",
   "display_name": "Python 3.7.9 64-bit",
   "metadata": {
    "interpreter": {
     "hash": "450770b194ad3c526d72e78f0fffc46d9f199ddffc77daa2aadce905eb3548da"
    }
   }
  }
 },
 "nbformat": 4,
 "nbformat_minor": 2,
 "cells": [
  {
   "source": [
    "python lecture day 09  \n",
    "Subject : Text File Read/Write\n",
    "Place : KoreaIT (Cafe, online)  "
   ],
   "cell_type": "markdown",
   "metadata": {}
  },
  {
   "source": [
    "파일 열기  \n",
    "변수 = open('텍스트 파일 이름', '파일 열기 mode')    \n",
    "파일 열기 mode\n",
    "- r(read; 읽기 전용)\n",
    "- w(write; 쓰기 전용, 덮어 쓰기)\n",
    "- a(append, 쓰기 => 추가)  \n",
    "    - r : 지정된 경로에 파일이 없으면 에러가 발생.  \n",
    "    - w : 지정된 경로에 파일이 있으면 원본 데이터를 삭제 후 저장  \n",
    "    - a : 지정된 경로에 파일이 있으면 기존 데이터 뒤에 다른 데이터를 추가하여 저장   \n",
    "    - w, a mode로 파일을 열어서 작업한 경우 반드시 close() 메소드로 파일을 닫아야 함(!!!)\n",
    "\n",
    "파이썬을 이용해서 텍스트 파일 처리 시 '알려진 파일 확장명 숨김'을 해제해야 함.\n",
    "\n"
   ],
   "cell_type": "markdown",
   "metadata": {}
  },
  {
   "source": [
    "open()함수에 파일 이름만 쓰면 현재 작업중인 프로그램이 위치한 경로에 파일이 있다는 의미.  \n",
    "파일을 열었으면, 반드시 닫아주어야 한다!"
   ],
   "cell_type": "markdown",
   "metadata": {}
  },
  {
   "cell_type": "code",
   "execution_count": 4,
   "metadata": {
    "tags": []
   },
   "outputs": [
    {
     "output_type": "stream",
     "name": "stdout",
     "text": "data.txt 파일에 쓰기 완료\n"
    }
   ],
   "source": [
    "file = open('data.txt', 'a')\n",
    "for i in range(1,11):\n",
    "    #write 메소드로 텍스트 파일에 출력한다. => 출력할 때 끝에 개행문자(\\n => new line)을 붙여줘야 텍스트 파일에 데이터가 저장될 때 줄이 바뀐다.abs\n",
    "    file.write(str(i) + '\\n')\n",
    "file.close()\n",
    "print('data.txt 파일에 쓰기 완료')\n",
    "#append는 데이터가 누적된다. 파일 구조와 딱히 상관없이 작동하나?"
   ]
  },
  {
   "cell_type": "code",
   "execution_count": 5,
   "metadata": {
    "tags": []
   },
   "outputs": [
    {
     "output_type": "stream",
     "name": "stdout",
     "text": "data.txt 파일에 쓰기 완료\n"
    }
   ],
   "source": [
    "#덮어쓰기 : 누적된 데이터가 사라짐\n",
    "file = open('data.txt', 'w')\n",
    "for i in range(1,11):\n",
    "    file.write(str(i) + '\\n')\n",
    "file.close()\n",
    "print('data.txt 파일에 쓰기 완료')"
   ]
  },
  {
   "source": [
    "경로지정방법 => 절대경로 지정 방식과 상대경로 지정 방식이 있다.  \n",
    "절대경로 지정 방식:  \n",
    "- 화면에 표시되는 소스 파일이 위치한 디스크 드라이브의 최상위(root) 디렉토리(폴더) 부터 텍스트 파일이 저장될 디렉토리까지의 경로를 의미  \n",
    "\n",
    "상대경로 지정방식:  \n",
    "- 현재 화면에 표시되는 소스 파일이 위치한 디렉토리부터 파일이 저장될 디렉토리까지의 경로를 의미한다.\n",
    "\n"
   ],
   "cell_type": "markdown",
   "metadata": {}
  },
  {
   "source": [
    "탐색기를 이용해서 절대경로를 찾아 cmd를 입력해서 활용  \n",
    "cmd에서 cd명령어를 사용할 때, 파일명/폴더명을 자동완성해주는게 있겠지?"
   ],
   "cell_type": "markdown",
   "metadata": {}
  },
  {
   "source": [
    "---\n",
    "절대경로 지정방식  \n",
    "파일경로에 에러가 발생하면\n",
    "~~~\n",
    "\\\\\n",
    "~~~\n",
    "를 활용한다. /도 사용 가능.  \n",
    "에디터에 따라 다르다고 함."
   ],
   "cell_type": "markdown",
   "metadata": {}
  },
  {
   "cell_type": "code",
   "execution_count": 14,
   "metadata": {
    "tags": []
   },
   "outputs": [
    {
     "output_type": "stream",
     "name": "stdout",
     "text": "C:/Users/user/Documents/GitHub/LearningProgrammingLanguages/Python/KoreaIT/source_code/data.txt\ndata.txt 파일쓰기 완료\n"
    }
   ],
   "source": [
    "#file = open('C:\\Users\\user\\Documents\\GitHub\\LearningProgrammingLanguages\\Python\\KoreaIT\\source_code\\data.txt', 'w')\n",
    "#path = 'C:\\Users\\user\\Documents\\GitHub\\LearningProgrammingLanguages\\Python\\KoreaIT\\source_code\\data.txt'\n",
    "#어짜피 문자열인데 바꿀수는 없을까...? \n",
    "#   /U같은거때문에 랙먹는데?\n",
    "path = 'C:/Users/user/Documents/GitHub/LearningProgrammingLanguages/Python/KoreaIT/source_code/data.txt'\n",
    "print(path)\n",
    "\n",
    "file = open(path\n",
    ", 'w')\n",
    "for i in range(1, 13):\n",
    "    file.write(str(i) + '\\n')\n",
    "file.close()\n",
    "print('data.txt 파일쓰기 완료')"
   ]
  },
  {
   "source": [
    "절대경로는 불편해서? 환경에 따라 다르니까? 잘 사용하지 않는다고 함.\n",
    "\n",
    "---\n",
    "상대경로 파일접근  \n",
    "'.' : 현재 workspace의 디렉토리  \n",
    ".'..' : 현재 workspace의 한 단계 상위 디렉토리  "
   ],
   "cell_type": "markdown",
   "metadata": {}
  },
  {
   "source": [
    "## <실습하기>\n",
    "키보드로 입력한 문자열을 텍스트 파일로 저장하기  \n",
    "'quit'가 입력되면 저장을 종료한다.  \n",
    "* **'quit'는 대소문자를 구분하지 않음.**"
   ],
   "cell_type": "markdown",
   "metadata": {}
  },
  {
   "cell_type": "code",
   "execution_count": 20,
   "metadata": {
    "tags": []
   },
   "outputs": [
    {
     "output_type": "stream",
     "name": "stdout",
     "text": "data.txt 파일쓰기 완료\n"
    }
   ],
   "source": [
    "path = ('./data.txt')\n",
    "file = open(path\n",
    ", 'w')\n",
    "while 1:\n",
    "    data = input('입력하세요.: ')\n",
    "    #data = input('>>>  ')\n",
    "    if data.lower() == 'quit':\n",
    "        break\n",
    "    file.write(data + '\\n') #한 줄 씩 입력하기\n",
    "file.close()\n",
    "print('data.txt 파일쓰기 완료')\n",
    "#vs code jupyter에서는 왜 입력내용이 안보일까? echo 없나?"
   ]
  },
  {
   "source": [
    "with 구문을 사용해서 파일을 open하면  \n",
    "with 구문 내부의 내용이 모두 실행되고 난 후 **자동**으로 close  \n",
    "할 수 있다!! "
   ],
   "cell_type": "markdown",
   "metadata": {}
  },
  {
   "cell_type": "code",
   "execution_count": 21,
   "metadata": {
    "tags": []
   },
   "outputs": [
    {
     "output_type": "stream",
     "name": "stdout",
     "text": "data.txt 파일쓰기 완료\n"
    }
   ],
   "source": [
    "with open('./data.txt', 'a') as file:\n",
    "    for i in range(1, 11):\n",
    "        file.write(str(i) + '\\n')\n",
    "print('data.txt 파일쓰기 완료')\n",
    "#편한거 쓰면 된다고 함.\n",
    "#as file 이부분은 뭐지??\n",
    "#그런데, close를 하지 않았을 때 발생하는 문제와, 해결책은 무엇일까??\n"
   ]
  }
 ]
}