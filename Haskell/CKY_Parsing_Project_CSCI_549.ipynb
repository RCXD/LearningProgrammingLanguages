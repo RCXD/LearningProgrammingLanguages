{
 "cells": [
  {
   "cell_type": "code",
   "execution_count": null,
   "metadata": {},
   "outputs": [],
   "source": [
    "terminals=[]\n",
    "nonTerminals=[]"
   ]
  },
  {
   "cell_type": "code",
   "execution_count": null,
   "metadata": {},
   "outputs": [],
   "source": [
    "CFG_Rules={}"
   ]
  },
  {
   "cell_type": "code",
   "execution_count": null,
   "metadata": {},
   "outputs": [],
   "source": [
    "GRAMMA\n"
   ]
  },
  {
   "cell_type": "code",
   "execution_count": null,
   "metadata": {},
   "outputs": [],
   "source": [
    "LEXICON"
   ]
  },
  {
   "cell_type": "code",
   "execution_count": null,
   "metadata": {},
   "outputs": [],
   "source": [
    "Lexicons={'SF': ['find', 'length'], 'DF': ['filter'], 'TF':['search'], 'LO': ['==', '<=', '>='], \n",
    "          'DO':['='], 'ODQ': ['\"'], 'CDQ': ['\"'], 'OP':['('], 'CP':[')'], 'Comma':[','],\n",
    "          'Names':['day', 'published_date', 'authors', 'titles', 'num_of_books', 'month_of_publication', 'name_of_author', \n",
    "                   'Title_of_this_book', 'year_of_publication', 'number_of_authors', 'author', 'Steaven', 'Jobs', \n",
    "                   'version_of_book', 'Author_of_this_book'],\n",
    "          'String':['Automata', 'Steaven', 'Jobs', 'Author_of_this_book', 'Title_of_this_book'],\n",
    "          'Any': ['2', '5', '7', '12', '1.0']}"
   ]
  },
  {
   "cell_type": "code",
   "execution_count": null,
   "metadata": {},
   "outputs": [],
   "source": [
    "Terminals=['SF', 'DF', 'TF', 'LO', 'DO', 'ODQ', 'CDQ', 'OP', 'CP', 'Comma', 'Names', 'String', 'Any']\n",
    "NonTerminals=['Start', 'Strings', 'A1', 'Any', 'Pairs', 'B1', 'B2', 'B3', 'VD', 'C1', 'FC', 'D1', 'D2', 'D3', 'SF', 'DF','TF', 'InOp', 'Criterion', 'E1', 'E2', 'F1', 'F2']"
   ]
  },
  {
   "cell_type": "code",
   "execution_count": null,
   "metadata": {},
   "outputs": [],
   "source": [
    "def ckyParse(w, T):\n",
    "    n = len(w)\n",
    "    for j in range(len(w)):\n",
    "        for x in R:\n",
    "            lhs = x[0]\n",
    "            rule = x[1]\n",
    "            for rhs in rule:\n",
    "                if len(rhs) == 1 and rhs[0] == w[j]:\n",
    "                    T[j][j].insert(lhs)\n",
    "            \n",
    "        "
   ]
  },
  {
   "cell_type": "code",
   "execution_count": null,
   "metadata": {},
   "outputs": [],
   "source": [
    " len\n",
    " "
   ]
  }
 ],
 "metadata": {
  "language_info": {
   "name": "python"
  },
  "orig_nbformat": 4
 },
 "nbformat": 4,
 "nbformat_minor": 2
}
